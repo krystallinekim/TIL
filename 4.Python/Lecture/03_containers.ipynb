{
 "cells": [
  {
   "cell_type": "markdown",
   "metadata": {
    "id": "I-fCbN-MYaYt"
   },
   "source": [
    "# 컨테이너(Container)\n",
    "\n",
    "여러 개의 값을 저장할 수 있는 것(객체)을 의미하며, `서로 다른 자료형`을 저장 할 수 있습니다.\n",
    "\n",
    "### 컨테이너 분류\n",
    "- 시퀀스(Sequence)형 : 순서가 있는(ordered) 데이터\n",
    "- 비 시퀀스(Non-sequence)형 : 순서가 없는(unordered) 데이터\n",
    "\n",
    "<img width=\"712\" alt=\"container\" src=\"https://user-images.githubusercontent.com/45934087/148164052-3b12d3a2-a95e-4d4d-ae25-86ca1ba9657b.png\">"
   ]
  },
  {
   "cell_type": "markdown",
   "metadata": {
    "id": "lbXABYYDYaYu"
   },
   "source": [
    "## 시퀀스(sequence)형 컨테이너\n",
    "\n",
    "`시퀀스`는 데이터가 순서대로 나열된(ordered) 형식을 나타냅니다.\n",
    "\n",
    "* **주의! 순서대로 나열된 것이 `정렬되었다(sorted)`라는 뜻은 아닙니다.**\n",
    "\n",
    "    n번째 값을 꺼낼 수 있다는 것\n",
    "\n",
    "### 특징\n",
    "1. 순서가 있습니다.\n",
    "\n",
    "2. **특정 위치의 데이터를 가리킬 수 있습니다.**\n",
    "\n",
    "### 종류\n",
    "파이썬에서 기본적인 시퀀스 타입은 다음과 같습니다.\n",
    "\n",
    "* 리스트(list)\n",
    "\n",
    "* 튜플(tuple)\n",
    "\n",
    "* 레인지(range)\n",
    "\n",
    "* *문자형(string)*\n",
    "\n",
    "* *바이너리(binary)* : 다루지 않습니다.\n"
   ]
  },
  {
   "cell_type": "markdown",
   "metadata": {
    "id": "N3kXbW2wYaYv"
   },
   "source": [
    "\n",
    "### 리스트 (List)\n",
    "\n",
    "<center><img src=\"https://user-images.githubusercontent.com/18046097/61180421-fe90ae80-a650-11e9-8211-d06f87756d05.png\", alt=\"list figure\"/></center>"
   ]
  },
  {
   "cell_type": "markdown",
   "metadata": {
    "id": "5Rj4EHUAYaYv"
   },
   "source": [
    "**생성과 접근**\n",
    "```python\n",
    "[value1, value2, value3]\n",
    "```\n",
    "\n",
    "리스트는 대괄호`[]` 및 `list()` 를 통해 만들 수 있습니다."
   ]
  },
  {
   "cell_type": "code",
   "execution_count": null,
   "metadata": {
    "id": "X0-zn_7gYaYv"
   },
   "outputs": [],
   "source": [
    "# 빈 list를 만들어봅시다.\n",
    "# 변수명 my_list인 list를 대괄호로 만들어봅시다.\n",
    "# 변수명 another_list인 list를 list()로 만들어 봅시다.\n",
    "# 두 변수의 타입을 출력해 봅시다.\n",
    "\n",
    "my_list = []\n",
    "# list()는 다른 데이터 타입을 리스트로 바꿔줄 때 쓰는 것\n",
    "another_list = list()\n",
    "print(my_list, another_list)"
   ]
  },
  {
   "cell_type": "code",
   "execution_count": null,
   "metadata": {
    "id": "WeTht4L4YaYw"
   },
   "outputs": [],
   "source": [
    "# 원소를 포함한 list를 만들어 봅시다.\n",
    "# 변수명이 locations인 list에 동네 5곳을 넣어봅시다\n",
    "# 변수 locations을 출력해 봅시다.\n",
    "# locations의 타입을 출력해 봅시다.\n",
    "\n",
    "# list의 변수명은 항상 복수형\n",
    "\n",
    "locations = ['서초구','강남구','동작구','영등포구','용산구']\n",
    "print(locations, type(locations))"
   ]
  },
  {
   "cell_type": "code",
   "execution_count": null,
   "metadata": {
    "id": "QNqA_Tx9YaYw"
   },
   "outputs": [],
   "source": [
    "# locations의 첫번째 값을 인덱스로 접근해 봅시다.\n",
    "print(locations[0])"
   ]
  },
  {
   "cell_type": "code",
   "execution_count": null,
   "metadata": {},
   "outputs": [],
   "source": [
    "# negative index\n",
    "\n",
    "# 가장 기본적인 생각\n",
    "last_idx = len(locations) - 1\n",
    "print(locations[last_idx])\n",
    "\n",
    "# 그걸 좀 줄인 방식(일반적인 프로그래밍 언어에서 사용함)\n",
    "print(locations[len(locations) - 1])\n",
    "\n",
    "# 파이썬만의 힙스터 감성\n",
    "print(locations[-1])\n",
    "# 1번 object 왼쪽에는 마지막 object가 있다?"
   ]
  },
  {
   "cell_type": "markdown",
   "metadata": {
    "id": "pv0MWPCgYaYx"
   },
   "source": [
    "\n",
    "순서가 있는 시퀀스로 인덱스를 통해 접근 가능합니다.\n",
    "- 값에 대한 접근은 `list[i]` 방식으로 접근합니다.\n",
    "\n",
    "![image](https://user-images.githubusercontent.com/45934087/148164331-f0ff4193-6b05-4d99-bbde-dd1eef13b0b1.png)\n"
   ]
  },
  {
   "cell_type": "code",
   "execution_count": null,
   "metadata": {
    "id": "IGiv24JMYaYx"
   },
   "outputs": [],
   "source": [
    "# 변수 boxes에 문자열 'A', 'B', 리스트 ['apple', 'banana', 'cherry']를 할당합니다.\n",
    "boxes = ['A', 'B', ['apple', 'banana', 'cherry']]\n",
    "# 리스트 안에 리스트가 들어갈 수 있다.\n",
    "# 다른 데이터타입들이 한 리스트에 들어갈 수 있다."
   ]
  },
  {
   "cell_type": "code",
   "execution_count": null,
   "metadata": {
    "id": "O_bwR7GbYaYx"
   },
   "outputs": [],
   "source": [
    "# boxes의 길이를 len 함수를 이용하여 출력해 봅시다.\n",
    "len(boxes)"
   ]
  },
  {
   "cell_type": "code",
   "execution_count": null,
   "metadata": {
    "id": "TN2gKKKNYaYx"
   },
   "outputs": [],
   "source": [
    "# boxes의 3번째 요소를 인덱스로 접근하여 출력해 봅시다.\n",
    "print(boxes[2])"
   ]
  },
  {
   "cell_type": "code",
   "execution_count": null,
   "metadata": {
    "id": "9bXWgm0jYaYx"
   },
   "outputs": [],
   "source": [
    "# boxes의 3번째 요소들 중, 마지막 요소를 negative index로 접근하여 출력해 봅시다.\n",
    "print(boxes[2][-1])"
   ]
  },
  {
   "cell_type": "code",
   "execution_count": null,
   "metadata": {
    "id": "N9CCrCX1YaYx"
   },
   "outputs": [],
   "source": [
    "# boxes의 마지막 요소들 중, 두번째 요소의 첫번째 알파벳을 출력해 봅시다.\n",
    "print(boxes[-1][1][0])"
   ]
  },
  {
   "cell_type": "markdown",
   "metadata": {
    "id": "hJqyyWEoYaYx"
   },
   "source": [
    "### 튜플 (Tuple)\n",
    "\n",
    "**생성과 접근**\n",
    "```python\n",
    "(value1, value2)\n",
    "```\n",
    "\n",
    "튜플은 리스트와 유사하지만, `()`로 묶어서 표현합니다.\n",
    "\n",
    "- tuple은 수정 불가능(불변, immutable)합니다.\n",
    "\n",
    "- 직접 사용하기 보다는 파이썬 내부에서 다양한 용도로 활용되고 있습니다."
   ]
  },
  {
   "cell_type": "code",
   "execution_count": null,
   "metadata": {},
   "outputs": [],
   "source": [
    "# immutable\n",
    "# 내부 값을 바꿀 수 없다\n",
    "# 튜플을 리스트로 바꾸고 값을 바꿔서 다시 튜플로 바꿔주면 튜플이 바뀐 걸로 보이지만,\n",
    "# 그럼 이전/이후가 같은 튜플이 아니다.\n",
    "# 메모리에서 서로 다른 부분을 차지하는 중\n",
    "# \"원래 상태에서\" 내부 값을 바꿀 수 없음"
   ]
  },
  {
   "cell_type": "code",
   "execution_count": null,
   "metadata": {
    "id": "yqCu4ytOYaYx"
   },
   "outputs": [],
   "source": [
    "# tuple을 만들어봅시다.\n",
    "# 변수명이 my_tuple인 tuple을 만들어 봅시다. 단, 무작위 정수 2개를 포함하여 만듭니다.\n",
    "# my_tuple의 타입을 출력해 봅시다.\n",
    "\n",
    "my_tuple = (13,54)\n",
    "print(my_tuple, type(my_tuple))"
   ]
  },
  {
   "cell_type": "code",
   "execution_count": null,
   "metadata": {
    "id": "ZgPEyd2CYaYy"
   },
   "outputs": [],
   "source": [
    "# 아래와 같은 방식으로도 만들 수 있습니다.\n",
    "tuple([45,54,23])"
   ]
  },
  {
   "cell_type": "markdown",
   "metadata": {
    "id": "Gt5EJRsYYaYy"
   },
   "source": [
    "**튜플 생성 주의 사항**\n",
    "- 단일 항목의 경우"
   ]
  },
  {
   "cell_type": "code",
   "execution_count": null,
   "metadata": {
    "id": "szA4WNEeYaYy"
   },
   "outputs": [],
   "source": [
    "# 하나의 항목으로 구성된 튜플은 생성 시 값 뒤에 쉼표를 붙여야 합니다.\n",
    "# 아래 코드를 실행하여 변수 a의 타입을 확인해 봅시다.\n",
    "list_1 = [1]\n",
    "tuple_1 = (1)\n",
    "# 이건 연산 우선순위에서 쓰는 소괄호로 이해함\n",
    "\n",
    "print(list_1, type(list_1))\n",
    "print(tuple_1, type(tuple_1))\n",
    "\n",
    "tuple_1 = (1,)\n",
    "# 콤마를 뒤에 찍으면 이건 튜플이라고 이해\n",
    "\n",
    "print(tuple_1, type(tuple_1))"
   ]
  },
  {
   "cell_type": "markdown",
   "metadata": {
    "id": "y1puSidKYaYy"
   },
   "source": [
    "- 복수 항목의 경우"
   ]
  },
  {
   "cell_type": "code",
   "execution_count": null,
   "metadata": {
    "id": "Loy8ubEhYaYy"
   },
   "outputs": [],
   "source": [
    "# 마지막 항목에 붙은 쉼표는 생략 할 수 있습니다.\n",
    "# 여러 줄로 쓸 경우는 쓰는게 권장, 한줄일땐 생략하는게 권장\n",
    "# 아래 코드를 실행하여 변수 b와 c의 타입을 확인해 봅시다.\n",
    "b = (1,2)\n",
    "c = (1,2,)\n",
    "print(type(b), type(c))"
   ]
  },
  {
   "cell_type": "markdown",
   "metadata": {
    "id": "aHb0lNWQYaYy"
   },
   "source": [
    "**튜플 대입**\n",
    "- 우변의 값을 좌변의 변수에 한번에 할당하는 과정을 의미합니다.\n",
    "- 튜플은 일반적으로 파이썬 내부에서 활용됩니다.\n",
    "    - 추후 함수 파트에서 복수의 값을 반환하는 경우에도 확인할 수 있습니다."
   ]
  },
  {
   "cell_type": "code",
   "execution_count": null,
   "metadata": {
    "id": "KZ3ilRyWYaYy"
   },
   "outputs": [],
   "source": [
    "# 파이썬 내부에서는 다음과 같이 활용됩니다. (변수 및 자료형 예제에서 사용된 코드입니다.)\n",
    "a, b = 1, 2"
   ]
  },
  {
   "cell_type": "code",
   "execution_count": null,
   "metadata": {
    "id": "4_44d7IzYaYy"
   },
   "outputs": [],
   "source": [
    "# 실제로는 tuple로 처리됩니다.\n",
    "x = 1, 2\n",
    "print(x, type(x))"
   ]
  },
  {
   "cell_type": "code",
   "execution_count": null,
   "metadata": {
    "id": "E5zzINpRYaYy"
   },
   "outputs": [],
   "source": [
    "# 변수의 값을 swap하는 코드 역시 tuple을 활용하고 있습니다.\n",
    "x, y = 1, 2\n",
    "y, x = x, y\n",
    "# (x, y) = (1, 2)\n",
    "# (y, x) = (x, y)\n",
    "\n",
    "type(x), type(y)\n",
    "# >> (int, int)\n",
    "# 이거 튜플임\n",
    "\n",
    "# 파이썬은 빈 곳에서 콤마로 구분된 걸 보면 튜플로 인식해버린다."
   ]
  },
  {
   "cell_type": "code",
   "execution_count": null,
   "metadata": {
    "id": "7VndpUxtYaYy"
   },
   "outputs": [],
   "source": [
    "# 변수명이 empty인 빈 tuple을 만들어 봅시다.\n",
    "# 빈 tuple은 빈 괄호 쌍으로 만들어집니다.\n",
    "# empty의 타입을 출력해 봅시다.\n",
    "# empty의 길이를 출력해 봅시다.\n",
    "\n",
    "empty = ()\n",
    "print(empty, type(empty))\n",
    "print(len(empty))"
   ]
  },
  {
   "cell_type": "code",
   "execution_count": null,
   "metadata": {},
   "outputs": [],
   "source": [
    "# 인덱스 접근도 당연히 된다.\n",
    "some_tuple = (1,2,3,4,5)\n",
    "print(some_tuple[0])"
   ]
  },
  {
   "cell_type": "markdown",
   "metadata": {
    "id": "Eq6ps9d3YaYy"
   },
   "source": [
    "### 레인지 (range())\n",
    "\n",
    "`range` 는 정수의 시퀀스를 나타내기 위해 사용됩니다.\n",
    "\n",
    "기본형 : `range(n)`\n",
    "\n",
    "\n",
    "> 0부터 n-1까지 값을 가짐\n",
    "\n",
    "\n",
    "범위 지정 : `range(n, m)`\n",
    "\n",
    "> n부터 m-1까지 값을 가짐\n",
    "\n",
    "범위 및 스텝 지정 : `range(n, m, s)`\n",
    "\n",
    "> n부터 m-1까지 +s만큼 증가한다"
   ]
  },
  {
   "cell_type": "code",
   "execution_count": null,
   "metadata": {
    "id": "HrPFpyaqYaYy"
   },
   "outputs": [],
   "source": [
    "# range를 만들어봅시다.\n",
    "# 0부터 2까지 값을 가지는 range를 만들고 타입을 출력해 봅시다.\n",
    "range(3)\n",
    "# 0, 1, 2\n",
    "print(range(3), type(range(3)))\n",
    "# 특수기호가 할당된 걸 리터럴이라고 한다.\n",
    "# 리스트는 리터럴, 레인지는 리터럴 아님"
   ]
  },
  {
   "cell_type": "code",
   "execution_count": null,
   "metadata": {
    "id": "ofdN3dwsYaYy"
   },
   "outputs": [],
   "source": [
    "# 0부터 9까지 값을 가지는 range를 만들고 list로 형 변환을 해 봅시다.\n",
    "# 작성한 range를 list()로 감싸 형 변환 할 수 있습니다.\n",
    "print(range(10))\n",
    "\n",
    "# 0, 1, 2, ... , 9\n",
    "print(list(range(10)))\n",
    "\n",
    "# 리스트를 0부터 9까지 만들면 0부터 9까지 모든 숫자가 메모리에 들어감\n",
    "# 레인지를 0부터 9까지 만들면 제너레이터만 메모리에 올라가고, 내가 꺼내 써야 할 때만 전체 내용을 쓴다.\n",
    "# 메모리 절약용"
   ]
  },
  {
   "cell_type": "code",
   "execution_count": null,
   "metadata": {
    "id": "ttty2tsiYaYy"
   },
   "outputs": [],
   "source": [
    "# 4부터 8까지의 숫자를 담은 range를 만들고 list로 형 변환을 해 봅시다.\n",
    "print(list(range(4, 9)))\n",
    "\n",
    "# 보통 숫자 2개 나오면 앞에껀 포함, 뒤에껀 포함 안하는 경우가 많다."
   ]
  },
  {
   "cell_type": "code",
   "execution_count": null,
   "metadata": {
    "id": "rxYssiXuYaYy"
   },
   "outputs": [],
   "source": [
    "# range(start, end, [step, ])을 활용합니다.\n",
    "# 0부터 -9까지 담긴 range를 만들고 list로 형 변환을 해 봅시다.\n",
    "# 출력 결과는 다음과 같습니다.\n",
    "# [0, -1, -2, -3, -4, -5, -6, -7, -8, -9]\n",
    "r = range(0,-10,-1)\n",
    "print(list(r))\n",
    "\n",
    "# step을 쓰면 꼭 마지막 숫자가 들어가지 않을 수도 있다.\n",
    "list(range(1, 10, 2))  # [1, 3, 5, 7, 9]\n",
    "\n",
    "# start는 항상 원하는 첫번째 값\n",
    "# [10, 9, 8, 7, ... , 1]\n",
    "list(range(10, 0, 1))  # >> []\n",
    "list(range(10, 0, -1))  # 이게 정답\n",
    "\n",
    "# range(start, end, step)은 start부터 step만큼 더할 것이고, 결과값이 end보다 작은 값들을 넣을 것"
   ]
  },
  {
   "cell_type": "markdown",
   "metadata": {
    "id": "qx-IF94cYaYy"
   },
   "source": [
    "### 패킹 / 언패킹 연산자 (Packing / Unpacking Operator)\n",
    "모든 시퀀스형(리스트, 튜플 등)은 패킹/언패킹 연산자 * 를 사용하여 객체의 패킹 또는 언패킹이 가능합니다.\n",
    "```python\n",
    "x, *y = i, j, k ...\n",
    "```"
   ]
  },
  {
   "cell_type": "markdown",
   "metadata": {
    "id": "ShWAoObPYaYy"
   },
   "source": [
    "**패킹**\n",
    "- 대입문의 좌변 변수에 위치합니다.\n",
    "- 우변의 객체 수가 좌변의 변수 수보다 많을 경우 객체를 순서대로 대입합니다.\n",
    "- 나머지 항목들은 모두 별 기호 표시된 변수에 리스트로 대입합니다."
   ]
  },
  {
   "cell_type": "code",
   "execution_count": null,
   "metadata": {
    "id": "iMLAF6WlYaYz"
   },
   "outputs": [],
   "source": [
    "# x 를 패킹을 통해 저장해 봅시다."
   ]
  },
  {
   "cell_type": "code",
   "execution_count": null,
   "metadata": {
    "id": "V2t21XnsYaYz"
   },
   "outputs": [],
   "source": [
    "# x, y = 1, 2, 3\n",
    "# ValueError: too many values to unpack (expected 2)\n",
    "\n",
    "x, *y = 1, 2, 3\n",
    "# *는 짬처리, 나머지 전부를 다 받는다\n",
    "print(x, y)\n",
    "\n",
    "*x, y = range(10)\n",
    "print(x, y)\n",
    "# 이게 되긴 하는데 나중에 함수에서 def func(*x, y) 하면 인자가 전부 x한테 들어가서 에러남\n",
    "\n",
    "x, y, *z = range(10)\n",
    "print(x, y, z)\n",
    "# x에 1개, y에 1개, 나머진 전부 묶어서 z"
   ]
  },
  {
   "cell_type": "markdown",
   "metadata": {
    "id": "r7kaInq0YaYz"
   },
   "source": [
    "**언패킹**\n",
    "- argument 이름이 *로 시작하는 경우, argument unpacking이라고 부릅니다.\n",
    "- 패킹의 경우, 리스트로 대입합니다."
   ]
  },
  {
   "cell_type": "code",
   "execution_count": 121,
   "metadata": {
    "id": "WKgjyAmjYaYz"
   },
   "outputs": [],
   "source": [
    "def multiply(x, y, z):\n",
    "    return x * y * z"
   ]
  },
  {
   "cell_type": "markdown",
   "metadata": {
    "id": "MWZfIJTHYaYz"
   },
   "source": [
    "- 언패킹의 경우, 튜플 형태로 대입합니다."
   ]
  },
  {
   "cell_type": "code",
   "execution_count": 124,
   "metadata": {
    "id": "MlgydDmxYaY2"
   },
   "outputs": [
    {
     "data": {
      "text/plain": [
       "6"
      ]
     },
     "execution_count": 124,
     "metadata": {},
     "output_type": "execute_result"
    }
   ],
   "source": [
    "numbers = [1, 2, 3]\n",
    "# multiply(numbers)  # multiply([1, 2, 3])\n",
    "multiply(*numbers)  # multiply(1, 2, 3)"
   ]
  },
  {
   "cell_type": "markdown",
   "metadata": {
    "id": "EmkFQK0DYaY2"
   },
   "source": [
    "**패킹/언패킹 연산자 주의사항**\n",
    "\n",
    "` * ` 연산자가 곱셈을 의미하는지 패킹/언패킹 연산자인지 구분하여야 합니다.\n",
    "- 패킹/언패킹 연산자의 경우\n",
    "    1. 연산자가 대입식의 좌측에 위치하는 경우\n",
    "    2. 연산자가 단항 연산자로 사용되는 경우\n",
    "        - 단항 연산자 : 하나의 항을 대상으로 연산이 이루어지는 연산자\n",
    "        \n",
    "        \n",
    "- 산술연산자의 경우\n",
    "    1. 연산자가 이항연산자로 사용되는 경우\n",
    "        - 이항 연산자 : 두 개의 항을 대상으로 연산이 이루어지는 연산자"
   ]
  },
  {
   "cell_type": "markdown",
   "metadata": {
    "id": "na3-yMY1YaY2"
   },
   "source": [
    "## 비 시퀀스형(Non-sequence) 컨테이너\n",
    "\n",
    "- 세트(set)\n",
    "\n",
    "- 딕셔너리(dictionary)"
   ]
  },
  {
   "cell_type": "markdown",
   "metadata": {
    "id": "llGwNqJiYaY2"
   },
   "source": [
    "### 세트 (Set)\n",
    "\n",
    "`set`은 순서가 없고 중복된 값이 없는 자료구조입니다.\n",
    "\n",
    "* `set`은 수학에서의 집합과 동일하게 처리됩니다.\n",
    "\n",
    "* `set`은 중괄호`{}`를 통해 만들며, 순서가 없고 중복된 값이 없습니다.\n",
    "\n",
    "* 담고있는 객체를 삽입 변경, 삭제 가능 (mutable) 합니다.\n",
    "\n",
    "* 빈 세트를 만들려면 `set()`을 사용해야 합니다. (`{}`로 사용 불가능)\n",
    "\n",
    "* 활용 가능한 연산자는 차집합(`-`), 합집합(`|`), 교집합(`&`)입니다.\n",
    "\n",
    "**생성과 접근**\n",
    "```python\n",
    "{value1, value2, value3}\n",
    "```"
   ]
  },
  {
   "cell_type": "code",
   "execution_count": 190,
   "metadata": {},
   "outputs": [
    {
     "data": {
      "text/plain": [
       "set"
      ]
     },
     "execution_count": 190,
     "metadata": {},
     "output_type": "execute_result"
    }
   ],
   "source": [
    "# 빈 셋은 set()밖에 못쓴다.\n",
    "# {}는 딕셔너리에 뺏김\n",
    "s = set()\n",
    "type(s)"
   ]
  },
  {
   "cell_type": "code",
   "execution_count": null,
   "metadata": {
    "id": "jn4-DsMBYaY2"
   },
   "outputs": [
    {
     "name": "stdout",
     "output_type": "stream",
     "text": [
      "{1, 2, 3} <class 'set'> {3, 4, 5} <class 'set'>\n"
     ]
    }
   ],
   "source": [
    "# set 두개를 만들어서 연산자들을 활용해봅시다.\n",
    "s1 = {1, 2, 3, 1, 2, 1}  # 아예 중복값은 무시해준다.\n",
    "s2 = {5, 4, 3}  # 순서가 없다는 것은, 내가 5, 4, 3을 넣어줬을 때 5, 4, 3을 돌려준다는 것. 추가로 새 값을 넣어줬을 때도 그 순서가 그대로 유지되어야 순서가 있는 것이다.\n",
    "print(s1, type(s1), s2, type(s2))"
   ]
  },
  {
   "cell_type": "markdown",
   "metadata": {
    "id": "O0QVeLyZYaY2"
   },
   "source": [
    "* 차집합은 연산자 `-`를 사용합니다."
   ]
  },
  {
   "cell_type": "code",
   "execution_count": 153,
   "metadata": {
    "id": "T6lt4nTxYaY3"
   },
   "outputs": [
    {
     "data": {
      "text/plain": [
       "{1, 2}"
      ]
     },
     "execution_count": 153,
     "metadata": {},
     "output_type": "execute_result"
    }
   ],
   "source": [
    "# set_a와 set_b의 차집합을 구해봅시다.\n",
    "s1 - s2"
   ]
  },
  {
   "cell_type": "markdown",
   "metadata": {
    "id": "DjQMkjgeYaY3"
   },
   "source": [
    "* 합집합은 연산자 `|`를 사용합니다."
   ]
  },
  {
   "cell_type": "code",
   "execution_count": 154,
   "metadata": {
    "id": "Sn1zS5w4YaY3"
   },
   "outputs": [
    {
     "data": {
      "text/plain": [
       "{1, 2, 3, 4, 5}"
      ]
     },
     "execution_count": 154,
     "metadata": {},
     "output_type": "execute_result"
    }
   ],
   "source": [
    "# set_a와 set_b의 합집합을 구해봅시다.\n",
    "s1 | s2"
   ]
  },
  {
   "cell_type": "markdown",
   "metadata": {
    "id": "V7CAwlCFYaY3"
   },
   "source": [
    "* 교집합은 연산자 `&`을 사용합니다."
   ]
  },
  {
   "cell_type": "code",
   "execution_count": 158,
   "metadata": {
    "id": "pviy1Yr2YaY3"
   },
   "outputs": [
    {
     "data": {
      "text/plain": [
       "{3}"
      ]
     },
     "execution_count": 158,
     "metadata": {},
     "output_type": "execute_result"
    }
   ],
   "source": [
    "# set_a와 set_b의 교집합을 구해봅시다.\n",
    "s1 & s2"
   ]
  },
  {
   "cell_type": "code",
   "execution_count": 159,
   "metadata": {
    "id": "aP1RiqOwYaY3"
   },
   "outputs": [
    {
     "name": "stdout",
     "output_type": "stream",
     "text": [
      "{1, 2, 3}\n"
     ]
    }
   ],
   "source": [
    "# set은 중복된 값이 있을 수 없습니다.\n",
    "s1 = {1,2,3,1,2}\n",
    "print(s1)"
   ]
  },
  {
   "cell_type": "markdown",
   "metadata": {
    "id": "h8YG8UVsYaY3"
   },
   "source": [
    "* `set`을 활용하면 `list`의 중복된 값을 손쉽게 제거할 수 있습니다.\n",
    "* 단, `set`으로 변환하는 순간 순서를 보장할 수 없습니다."
   ]
  },
  {
   "cell_type": "code",
   "execution_count": 179,
   "metadata": {
    "id": "Zh-B5V3xYaY3"
   },
   "outputs": [
    {
     "name": "stdout",
     "output_type": "stream",
     "text": [
      "['서울', '서울', '대전', '광주', '서울', '대전', '부산', '부산'] 8\n",
      "{'서울', '대전', '부산', '광주'} 4\n",
      "['서울', '대전', '부산', '광주'] 4\n"
     ]
    }
   ],
   "source": [
    "# set으로 중복된 값을 제거해봅시다.\n",
    "# 문자열 서울, 서울, 대전, 광주, 서울, 대전, 부산, 부산을 원소로 가지는 set를 만듭니다.\n",
    "# 생성한 세트의 길이를 출력해 봅시다.\n",
    "locations = ['서울', '서울', '대전', '광주', '서울', '대전', '부산', '부산']\n",
    "print(locations, len(locations))\n",
    "locations_set = set(locations)\n",
    "print(locations_set, len(locations_set))\n",
    "locations_list = list(locations_set)\n",
    "print(locations_list, len(locations_list))"
   ]
  },
  {
   "cell_type": "code",
   "execution_count": null,
   "metadata": {},
   "outputs": [
    {
     "ename": "TypeError",
     "evalue": "'set' object is not subscriptable",
     "output_type": "error",
     "traceback": [
      "\u001b[31m---------------------------------------------------------------------------\u001b[39m",
      "\u001b[31mTypeError\u001b[39m                                 Traceback (most recent call last)",
      "\u001b[36mCell\u001b[39m\u001b[36m \u001b[39m\u001b[32mIn[181]\u001b[39m\u001b[32m, line 1\u001b[39m\n\u001b[32m----> \u001b[39m\u001b[32m1\u001b[39m \u001b[43mlocations_set\u001b[49m\u001b[43m[\u001b[49m\u001b[32;43m1\u001b[39;49m\u001b[43m]\u001b[49m\n\u001b[32m      2\u001b[39m \u001b[38;5;66;03m# TypeError: 'set' object is not subscriptable\u001b[39;00m\n",
      "\u001b[31mTypeError\u001b[39m: 'set' object is not subscriptable"
     ]
    }
   ],
   "source": [
    "locations_set[1]\n",
    "# TypeError: 'set' object is not subscriptable\n",
    "# 인덱스 접근이 불가하다는 뜻"
   ]
  },
  {
   "cell_type": "markdown",
   "metadata": {
    "id": "dUTTww-1YaY3"
   },
   "source": [
    "### 딕셔너리 (dictionary)\n",
    "\n",
    "`dictionary`는 `key`와 `value`가 쌍으로 이뤄져있습니다.\n",
    "\n",
    "\n",
    "<center><img src=\"https://user-images.githubusercontent.com/18046097/61180427-1405d880-a651-11e9-94e1-1cc5c2a2ff34.png\"></center>"
   ]
  },
  {
   "cell_type": "markdown",
   "metadata": {
    "id": "Fc0L8ZjjYaY3"
   },
   "source": [
    "**생성과 접근**\n",
    "\n",
    "```python\n",
    "{Key1:Value1, Key2:Value2, Key3:Value3, ...}\n",
    "```\n",
    "\n",
    "* `{}`를 통해 만들며, `dict()`로 만들 수 있습니다.\n",
    "* 순서를 보장하지 않습니다.\n",
    "* `key`는 **변경 불가능(immutable)한 데이터**만 가능합니다. (immutable : string, integer, float, boolean, tuple, range)\n",
    "* `value`는 `list`, `dictionary`를 포함한 모든 것이 가능합니다."
   ]
  },
  {
   "cell_type": "code",
   "execution_count": null,
   "metadata": {},
   "outputs": [],
   "source": [
    "# index 대신에 원하는 이름을 넣는 것이라 이해하면 편하다\n",
    "# 그래서 원하는 키 값을 지정해줘야함"
   ]
  },
  {
   "cell_type": "code",
   "execution_count": 192,
   "metadata": {
    "id": "rEu3kYGnYaY3"
   },
   "outputs": [
    {
     "data": {
      "text/plain": [
       "(dict, dict)"
      ]
     },
     "execution_count": 192,
     "metadata": {},
     "output_type": "execute_result"
    }
   ],
   "source": [
    "# 비어있는 dictionary를 두가지 방법으로 만들어봅시다.\n",
    "# {}와 dict()로 만들 수 있습니다.\n",
    "# 두 변수의 타입을 출력해 봅시다.\n",
    "\n",
    "d1 = {}\n",
    "d2 = dict()\n",
    "\n",
    "type(d1), type(d2)"
   ]
  },
  {
   "cell_type": "code",
   "execution_count": null,
   "metadata": {
    "id": "okhUrbMQYaY3"
   },
   "outputs": [
    {
     "data": {
      "text/plain": [
       "{'a': 2, 'b': 1}"
      ]
     },
     "execution_count": 194,
     "metadata": {},
     "output_type": "execute_result"
    }
   ],
   "source": [
    "# dictionary에 중복된 key는 존재할 수 없습니다.\n",
    "d3 = {'a': 1, 'a': 2, 'b': 1}\n",
    "d3\n",
    "# value가 같은건 상관 없는데 중복된 key는 없어진다"
   ]
  },
  {
   "cell_type": "code",
   "execution_count": 205,
   "metadata": {
    "id": "fSvKE107YaY3"
   },
   "outputs": [
    {
     "name": "stdout",
     "output_type": "stream",
     "text": [
      "{'서울': '02', '경기도': '031', '인천': '032', '광주': '062', '충청': '041'}\n",
      "02\n"
     ]
    }
   ],
   "source": [
    "# 지역번호가 담긴 전화번호부를 만들어봅시다.\n",
    "# 변수 phone_book에 key를 지역명, value를 지역번호로 가지는 원소를 작성합니다.\n",
    "# 예) 서울 - 02\n",
    "phone_book = {\n",
    "    '서울': '02', \n",
    "    '경기도': '031', \n",
    "    '인천': '032', \n",
    "    '광주': '062', \n",
    "    '충청': '041',\n",
    "}\n",
    "\n",
    "print(phone_book)\n",
    "print(phone_book['서울'])"
   ]
  },
  {
   "cell_type": "code",
   "execution_count": null,
   "metadata": {
    "id": "GW2E8FidYaY3"
   },
   "outputs": [
    {
     "data": {
      "text/plain": [
       "dict_keys(['서울', '경기도', '인천', '광주', '충청'])"
      ]
     },
     "execution_count": 198,
     "metadata": {},
     "output_type": "execute_result"
    }
   ],
   "source": [
    "# 위에서 작성한 phone_book이 가지고 있는 key 목록을 확인 해 봅시다.\n",
    "# dictionary의 .keys() 메소드를 활용하여 key를 확인 해볼 수 있습니다.\n",
    "\n",
    "# method는 함수의 일종, 앞에 .이 붙어 있는 함수들 --> 무언가에 종속되어 있다\n",
    "phone_book.keys()"
   ]
  },
  {
   "cell_type": "code",
   "execution_count": null,
   "metadata": {
    "id": "m8N8ERnSYaY3"
   },
   "outputs": [
    {
     "data": {
      "text/plain": [
       "dict_values(['02', '031', '032', '062', '041'])"
      ]
     },
     "execution_count": 199,
     "metadata": {},
     "output_type": "execute_result"
    }
   ],
   "source": [
    "# 위에서 작성한 phone_book이 가지고 있는 value 목록을 확인 해 봅시다.\n",
    "# 딕셔너리의 .values() 메소드를 활용하여 value를 확인 해볼 수 있습니다.\n",
    "phone_book.values()"
   ]
  },
  {
   "cell_type": "code",
   "execution_count": 209,
   "metadata": {
    "id": "hK83ea7zYaY3"
   },
   "outputs": [
    {
     "data": {
      "text/plain": [
       "dict_items([('서울', '02'), ('경기도', '031'), ('인천', '032'), ('광주', '062'), ('충청', '041')])"
      ]
     },
     "execution_count": 209,
     "metadata": {},
     "output_type": "execute_result"
    }
   ],
   "source": [
    "# 위에서 작성한 phone_book이 가지고 있는 key와 value 목록을 확인 해 봅시다.\n",
    "# 딕셔너리의 .items() 메소드를 활용하여 key, value를 확인 해볼 수 있습니다.\n",
    "phone_book.items()"
   ]
  },
  {
   "cell_type": "code",
   "execution_count": null,
   "metadata": {},
   "outputs": [],
   "source": [
    "phone_book['서울'] = '02'\n",
    "# dictionary의 value들은 mutable하다."
   ]
  },
  {
   "cell_type": "markdown",
   "metadata": {
    "id": "oBC_UhHbYaY4"
   },
   "source": [
    "# 형변환(Type conversion, Typecasting)\n",
    "\n",
    "파이썬에서 데이터타입은 서로 변환할 수 있습니다.\n",
    "\n",
    "- 암시적 형변환\n",
    "- 명시적 형변환"
   ]
  },
  {
   "cell_type": "markdown",
   "metadata": {
    "id": "YldR4XeWYaY4"
   },
   "source": [
    "## 컨테이너형 형변환\n",
    "\n",
    "파이썬에서 컨테이너는 서로 변환할 수 있습니다.\n",
    "\n",
    "<img width=\"708\" alt=\"typecasting\" src=\"https://user-images.githubusercontent.com/18046097/61180466-a6a67780-a651-11e9-8c0a-adb9e1ee04de.png\">\n"
   ]
  },
  {
   "cell_type": "code",
   "execution_count": null,
   "metadata": {
    "id": "jc6EYRDEYaY4"
   },
   "outputs": [],
   "source": [
    "# 모든 컨테이너는 스트링이 될 수 있고, 레인지나 딕셔너리는 될 수 없다\n",
    "\n",
    "# 하나의 결과를 확인 한 후, 주석 `#` 을 활용하여 이전의 코드를 비활성화 합니다.\n",
    "# 형변환 후의 결과를 확인 합니다."
   ]
  },
  {
   "cell_type": "code",
   "execution_count": null,
   "metadata": {
    "id": "UwiBkVWWYaY4"
   },
   "outputs": [],
   "source": [
    "# list를 형변환 해봅시다.\n",
    "l = [1,2,3, 1]\n",
    "# str(l)    # '[1, 2, 3, 1]'\n",
    "# tuple(l)  # (1, 2, 3, 1)\n",
    "# range(l)  # TypeError: 'list' object cannot be interpreted as an integer\n",
    "# set(l)    # {1, 2, 3}\n",
    "# dict(l)   # TypeError: cannot convert dictionary update sequence element #0 to a sequence"
   ]
  },
  {
   "cell_type": "code",
   "execution_count": null,
   "metadata": {
    "id": "G_IvBEk0YaY4"
   },
   "outputs": [
    {
     "data": {
      "text/plain": [
       "{1, 2, 3}"
      ]
     },
     "execution_count": 226,
     "metadata": {},
     "output_type": "execute_result"
    }
   ],
   "source": [
    "# tuple을 형변환 해봅시다.\n",
    "t = (1, 2, 3, 1)\n",
    "# str(t)    # '(1, 2, 3, 1)'\n",
    "# list(t)   # [1, 2, 3, 1]\n",
    "# range(t)\n",
    "# set(t)    # {1, 2, 3}\n",
    "# dict(t)"
   ]
  },
  {
   "cell_type": "code",
   "execution_count": null,
   "metadata": {
    "id": "aFhT_1EiYaY4"
   },
   "outputs": [],
   "source": [
    "# range를 형변환 해봅시다.\n",
    "r = range(3)\n",
    "# str(r)    # 'range(0, 3)'\n",
    "# list(r)   # [0, 1, 2]\n",
    "# tuple(r)  # (0, 1, 2)\n",
    "# set(r)    # {0, 1, 2}\n",
    "# dict(r)"
   ]
  },
  {
   "cell_type": "code",
   "execution_count": null,
   "metadata": {
    "id": "pow0RpinYaY4"
   },
   "outputs": [],
   "source": [
    "# set을 형변환 해봅시다.\n",
    "s = {1, 2, 3}\n",
    "# str(s)    # '{1, 2, 3}'\n",
    "# list(s)   # [0, 1, 2]\n",
    "# tuple(s)  # (0, 1, 2)\n",
    "# range(s)\n",
    "# dict(s)"
   ]
  },
  {
   "cell_type": "code",
   "execution_count": null,
   "metadata": {
    "id": "FQPRtYQ3YaY4"
   },
   "outputs": [],
   "source": [
    "# dictionary를 형변환 해봅시다.\n",
    "# list, tuple, set으로 변환 시 key만 떼서 나온다.\n",
    "d = {'a': 1, 'b': 2, 'c': 3}\n",
    "# str(d)    # \"{'a': 1, 'b': 2, 'c': 3}\"\n",
    "# list(d)   # ['a', 'b', 'c']\n",
    "# tuple(d)  # ('a', 'b', 'c')\n",
    "# range(d)\n",
    "# set(d)    # {'a', 'b', 'c'}"
   ]
  },
  {
   "cell_type": "code",
   "execution_count": null,
   "metadata": {},
   "outputs": [
    {
     "name": "stdout",
     "output_type": "stream",
     "text": [
      "{(1, 2), 1, 2, 3}\n",
      "{1, 2, (1, 2), 3, 100, range(0, 2), 'str'}\n",
      "{1: 1, 'a': 2, 3.14: 3, (1, 2): 4, range(0, 20): 5}\n"
     ]
    }
   ],
   "source": [
    "# Hashable??\n",
    "ss = {1, 2, 3}\n",
    "\n",
    "# set에 list를 추가하려 하면 에러가 난다.\n",
    "# ss.add([1, 2])\n",
    "# TypeError: unhashable type: 'list'\n",
    "\n",
    "# 근데 tuple은 됨\n",
    "ss.add((1, 2))\n",
    "print(ss)\n",
    "\n",
    "# hashable = immutable, 수정 가능한 친구들은 해쉬화가 불가능하다.\n",
    "# immutable 한 다른 것들도 들어갈 수 있다. - str, int, float, range, tuple\n",
    "ss.add(range(2))\n",
    "ss.add('str')\n",
    "ss.add(100)  # 애초에 set에 정수가 들어있던 이유가 int가 immutable하기 때문\n",
    "print(ss)\n",
    "\n",
    "# immutable한 친구가 하나 더 있었다. dictionary의 key도 immutable함\n",
    "dd = {1: 1, 'a': 2, 3.14: 3, (1, 2): 4, range(20): 5}\n",
    "print(dd)"
   ]
  },
  {
   "cell_type": "markdown",
   "metadata": {
    "id": "tRld7ET1YaY4"
   },
   "source": [
    "# 정리\n",
    "## 컨테이너(Container)\n",
    "<center><img src=\"https://user-images.githubusercontent.com/18046097/61180439-44e60d80-a651-11e9-9adc-e60fa57c2165.png\", alt=\"container\"/></center>"
   ]
  },
  {
   "cell_type": "markdown",
   "metadata": {
    "id": "AfA1txllYaY4"
   },
   "source": [
    "## 시퀀스형 연산자(Sqeuence Type Operator)\n",
    "\n",
    "### 산술 연산자 (+)\n",
    "시퀀스를 연결(concatenation)할 수 있습니다."
   ]
  },
  {
   "cell_type": "code",
   "execution_count": null,
   "metadata": {
    "id": "QFeoauC0YaY4"
   },
   "outputs": [],
   "source": [
    "# 두 list [1, 2] 와 ['a'] 를 + 를 이용하여 합쳐봅시다."
   ]
  },
  {
   "cell_type": "code",
   "execution_count": 136,
   "metadata": {
    "id": "vNE0z7G8YaY4"
   },
   "outputs": [
    {
     "data": {
      "text/plain": [
       "[1, 2, 'a']"
      ]
     },
     "execution_count": 136,
     "metadata": {},
     "output_type": "execute_result"
    }
   ],
   "source": [
    "[1,2] + ['a']"
   ]
  },
  {
   "cell_type": "code",
   "execution_count": null,
   "metadata": {
    "id": "b2Ha6hkcYaY4"
   },
   "outputs": [],
   "source": [
    "# 두 튜플 (1, 2) 와 ('a',) 를 + 를 이용하여 합쳐봅시다."
   ]
  },
  {
   "cell_type": "code",
   "execution_count": 135,
   "metadata": {
    "id": "xWG_J9LMYaY4"
   },
   "outputs": [
    {
     "data": {
      "text/plain": [
       "(1, 2, 'a')"
      ]
     },
     "execution_count": 135,
     "metadata": {},
     "output_type": "execute_result"
    }
   ],
   "source": [
    "(1,2) + ('a',)"
   ]
  },
  {
   "cell_type": "code",
   "execution_count": null,
   "metadata": {
    "id": "uPOM22X8YaY4"
   },
   "outputs": [],
   "source": [
    "# range에는 사용할 수 없습니다.\n",
    "# range(1), range(2, 5) 를 + 를 이용하여 합치고자 할 때 발생하는 오류를 확인해 봅시다."
   ]
  },
  {
   "cell_type": "code",
   "execution_count": 128,
   "metadata": {
    "id": "ovwMXVgmYaY4"
   },
   "outputs": [],
   "source": [
    "# print(range(1) + range(2,5))\n",
    "# TypeError: unsupported operand type(s) for +: 'range' and 'range'"
   ]
  },
  {
   "cell_type": "code",
   "execution_count": null,
   "metadata": {
    "id": "NoDl-0z3YaY4"
   },
   "outputs": [],
   "source": [
    "# 두 문자열 '12' 와 'a' 를 + 를 이용하여 합쳐봅시다."
   ]
  },
  {
   "cell_type": "code",
   "execution_count": 129,
   "metadata": {
    "id": "AncW4wJqYaY4"
   },
   "outputs": [
    {
     "data": {
      "text/plain": [
       "'12a'"
      ]
     },
     "execution_count": 129,
     "metadata": {},
     "output_type": "execute_result"
    }
   ],
   "source": [
    "'12' + 'a'"
   ]
  },
  {
   "cell_type": "markdown",
   "metadata": {
    "id": "pgNzJEoqYaY4"
   },
   "source": [
    "### 반복 연산자 (*)\n",
    "시퀀스를 반복할 수 있습니다."
   ]
  },
  {
   "cell_type": "code",
   "execution_count": null,
   "metadata": {
    "id": "9kqfbYlxYaY5"
   },
   "outputs": [],
   "source": [
    "# 리스트 [0] 을 *을 이용해 8번 반복해봅시다."
   ]
  },
  {
   "cell_type": "code",
   "execution_count": 130,
   "metadata": {
    "id": "xXqvPu-LYaY5"
   },
   "outputs": [
    {
     "data": {
      "text/plain": [
       "[0, 0, 0, 0, 0, 0, 0, 0]"
      ]
     },
     "execution_count": 130,
     "metadata": {},
     "output_type": "execute_result"
    }
   ],
   "source": [
    "[0] * 8"
   ]
  },
  {
   "cell_type": "code",
   "execution_count": null,
   "metadata": {
    "id": "yreAV8cWYaY5"
   },
   "outputs": [],
   "source": [
    "# 튜플 (1, 2) 를 * 을 활용해 3번 반복해봅시다."
   ]
  },
  {
   "cell_type": "code",
   "execution_count": 131,
   "metadata": {
    "id": "ReT1RI9hYaY5"
   },
   "outputs": [
    {
     "data": {
      "text/plain": [
       "(1, 2, 1, 2, 1, 2)"
      ]
     },
     "execution_count": 131,
     "metadata": {},
     "output_type": "execute_result"
    }
   ],
   "source": [
    "(1,2) * 3"
   ]
  },
  {
   "cell_type": "code",
   "execution_count": null,
   "metadata": {
    "id": "IISXWlvpYaY5"
   },
   "outputs": [],
   "source": [
    "# range에는 사용할 수 없습니다.\n",
    "# range(1) 을 * 연산자로 3번 반복하려고 할 때 발생하는 오류를 확인해 봅시다."
   ]
  },
  {
   "cell_type": "code",
   "execution_count": 133,
   "metadata": {
    "id": "RZEnrzkNYaY5"
   },
   "outputs": [],
   "source": [
    "# range(1) * 3\n",
    "# TypeError: unsupported operand type(s) for *: 'range' and 'int'"
   ]
  },
  {
   "cell_type": "code",
   "execution_count": null,
   "metadata": {
    "id": "9mOO0YXXYaY5"
   },
   "outputs": [],
   "source": [
    "# 문자열 'hi' 를 * 을 활용해 3번 반복해봅시다."
   ]
  },
  {
   "cell_type": "code",
   "execution_count": 134,
   "metadata": {
    "id": "fkz824zbYaY5"
   },
   "outputs": [
    {
     "data": {
      "text/plain": [
       "'hihihi'"
      ]
     },
     "execution_count": 134,
     "metadata": {},
     "output_type": "execute_result"
    }
   ],
   "source": [
    "'hi' * 3"
   ]
  },
  {
   "cell_type": "markdown",
   "metadata": {
    "id": "utkDOdCcYaY5"
   },
   "source": [
    "## 기타 : 인덱싱/슬라이싱 (Indexing/Slicing)\n",
    "`[]`를 통한 값을 접근하고, `[:]`을 통해 슬라이싱할 수 있습니다. (data structure 챕터에서 자세하게 학습합니다.)"
   ]
  },
  {
   "cell_type": "markdown",
   "metadata": {
    "id": "I5iRMNxYYaY5"
   },
   "source": [
    "### 인덱싱\n",
    "시퀀스의 특정 인덱스 값에 접근 할 수 있습니다.\n",
    "- 해당 인덱스가 없는 경우 IndexError가 발생합니다."
   ]
  },
  {
   "cell_type": "code",
   "execution_count": null,
   "metadata": {
    "id": "MuBSvqmzYaY5"
   },
   "outputs": [],
   "source": [
    "# 리스트를 인덱싱을 통해 값에 접근해봅시다.\n",
    "# 리스트 [1, 2, 3]의 세번째 값을 인덱싱으로 확인해봅시다."
   ]
  },
  {
   "cell_type": "code",
   "execution_count": 137,
   "metadata": {
    "id": "2twnlSvWYaY5"
   },
   "outputs": [
    {
     "data": {
      "text/plain": [
       "3"
      ]
     },
     "execution_count": 137,
     "metadata": {},
     "output_type": "execute_result"
    }
   ],
   "source": [
    "[1, 2, 3][2]"
   ]
  },
  {
   "cell_type": "code",
   "execution_count": null,
   "metadata": {
    "id": "gfNauslRYaY5"
   },
   "outputs": [],
   "source": [
    "# 튜플을 인덱싱을 통해 값에 접근해봅시다.\n",
    "# 튜플 (1, 2, 3)의 첫번째 값을 인덱싱으로 확인해봅시다."
   ]
  },
  {
   "cell_type": "code",
   "execution_count": 138,
   "metadata": {
    "id": "H4r-F573YaY5"
   },
   "outputs": [
    {
     "data": {
      "text/plain": [
       "1"
      ]
     },
     "execution_count": 138,
     "metadata": {},
     "output_type": "execute_result"
    }
   ],
   "source": [
    "(1, 2, 3)[0]"
   ]
  },
  {
   "cell_type": "code",
   "execution_count": null,
   "metadata": {
    "id": "lEdylk8RYaY5"
   },
   "outputs": [],
   "source": [
    "# range를 인덱싱을 통해 값에 접근해봅시다.\n",
    "# range(3)의 세번째 값을 인덱싱으로 확인해봅시다."
   ]
  },
  {
   "cell_type": "code",
   "execution_count": 139,
   "metadata": {
    "id": "jAUkpsQfYaY5"
   },
   "outputs": [
    {
     "data": {
      "text/plain": [
       "2"
      ]
     },
     "execution_count": 139,
     "metadata": {},
     "output_type": "execute_result"
    }
   ],
   "source": [
    "range(3)[2]"
   ]
  },
  {
   "cell_type": "code",
   "execution_count": null,
   "metadata": {
    "id": "nxikhwTxYaY5"
   },
   "outputs": [],
   "source": [
    "# 문자열을 인덱싱을 통해 값에 접근해봅시다.\n",
    "# 문자열 'abc'의 첫번째 값을 인덱싱으로 확인해봅시다."
   ]
  },
  {
   "cell_type": "code",
   "execution_count": 140,
   "metadata": {
    "id": "wspKTtceYaY5"
   },
   "outputs": [
    {
     "data": {
      "text/plain": [
       "'a'"
      ]
     },
     "execution_count": 140,
     "metadata": {},
     "output_type": "execute_result"
    }
   ],
   "source": [
    "'abc'[0]"
   ]
  },
  {
   "cell_type": "code",
   "execution_count": null,
   "metadata": {
    "id": "r0pHkQZbYaY5"
   },
   "outputs": [],
   "source": [
    "# 찾고자 하는 인덱스가 존재하지 않을때 오류가 발생합니다.\n",
    "# 문자열 apple의 100번째 값을 인덱싱으로 확인하고자 할 때 발생하는 오류를 확인해봅시다."
   ]
  },
  {
   "cell_type": "code",
   "execution_count": null,
   "metadata": {
    "id": "zxtdIfQlYaY5"
   },
   "outputs": [],
   "source": [
    "# 'apple'[99]\n",
    "# IndexError: string index out of range"
   ]
  },
  {
   "cell_type": "markdown",
   "metadata": {
    "id": "eH9B92myYaY6"
   },
   "source": [
    "### 슬라이싱\n",
    "- Sequence[start:end[:step]]\n",
    "\n",
    "시퀀스를 특정 단위로 슬라이싱 할 수 있습니다."
   ]
  },
  {
   "cell_type": "code",
   "execution_count": 151,
   "metadata": {
    "id": "W1HKY-CqYaY6"
   },
   "outputs": [
    {
     "name": "stdout",
     "output_type": "stream",
     "text": [
      "[2, 3, 4]\n",
      "(1, 2)\n",
      "range(5, 8)\n",
      "cd\n"
     ]
    },
    {
     "data": {
      "text/plain": [
       "'01012345678'"
      ]
     },
     "execution_count": 151,
     "metadata": {},
     "output_type": "execute_result"
    }
   ],
   "source": [
    "# 아래 코드들을 실행한 결과를 확인하여 슬라이싱의 작동 원리를 파악해봅시다.\n",
    "\n",
    "# 문자열, 튜플, 레인지에서 모두 동일하게 동작\n",
    "print([1, 2, 3, 4][1:4])  # [시작 인덱스 이상 : 끝 인덱스 미만]\n",
    "print((1, 2, 3)[:2])  # 비어있으면 시작/끝\n",
    "print(range(10)[5:8])  # 5, 6, 7 >> range는 인덱스니까 range(5,8)\n",
    "print('abcd'[2:100])  # slice 마지막 인덱스가 더 크더라도, 에러가 발생하지 않는다.\n",
    "\n",
    "phone = '010-1234-5678'\n",
    "phone[:3] + phone[4:8] + phone[9:]"
   ]
  },
  {
   "cell_type": "markdown",
   "metadata": {
    "id": "pXk2B94TYaY6"
   },
   "source": [
    "시퀀스를 `k` 간격으로 슬라이싱 할 수 있습니다."
   ]
  },
  {
   "cell_type": "code",
   "execution_count": 148,
   "metadata": {
    "id": "xBFqTO3TYaY6"
   },
   "outputs": [],
   "source": [
    "# 아래의 코드를 실행하여 결과를 확인해 봅시다.\n",
    "s = 'abcdefghi'"
   ]
  },
  {
   "cell_type": "code",
   "execution_count": null,
   "metadata": {
    "id": "W0EmLcSuYaY6"
   },
   "outputs": [
    {
     "name": "stdout",
     "output_type": "stream",
     "text": [
      "abc\n",
      "fghi\n",
      "abcdefghi\n",
      "ihgfedcba\n"
     ]
    }
   ],
   "source": [
    "print(s[:3])\n",
    "print(s[5:])\n",
    "print(s[::])\n",
    "print(s[::-1])  # 거꾸로"
   ]
  },
  {
   "cell_type": "markdown",
   "metadata": {
    "id": "VpvLzinjYaY6"
   },
   "source": [
    "# 정리"
   ]
  },
  {
   "cell_type": "markdown",
   "metadata": {
    "id": "UHGLOKAJYaY6"
   },
   "source": [
    "## 변수(Variable)와 자료형(Data Type)\n",
    "\n",
    "<center><img width=800 height=400 src=\"https://user-images.githubusercontent.com/9452521/87640197-55a7f280-c781-11ea-9cff-19c022ce704a.png\", alt=\"variable\"/></center>\n"
   ]
  },
  {
   "cell_type": "markdown",
   "metadata": {
    "id": "z8dFqGPiYaY6"
   },
   "source": [
    "## 컨테이너(Container)\n",
    "<center><img src=\"https://user-images.githubusercontent.com/18046097/61180439-44e60d80-a651-11e9-9adc-e60fa57c2165.png\", alt=\"container\"/></center>"
   ]
  },
  {
   "cell_type": "markdown",
   "metadata": {
    "id": "l3tLGhDXYaY6"
   },
   "source": [
    "## 함수 (Function)\n",
    "- 특정 명령을 수행하는 함수 묶음을 말합니다."
   ]
  },
  {
   "cell_type": "code",
   "execution_count": 272,
   "metadata": {
    "id": "g0GSALXoYaY6"
   },
   "outputs": [
    {
     "data": {
      "text/plain": [
       "90"
      ]
     },
     "execution_count": 272,
     "metadata": {},
     "output_type": "execute_result"
    }
   ],
   "source": [
    "# 함수의 정의\n",
    "def multiply(x, y, z):\n",
    "    return x * y * z\n",
    "\n",
    "# 함수의 실행\n",
    "multiply(5, 6, 3)"
   ]
  },
  {
   "cell_type": "markdown",
   "metadata": {
    "id": "Rsxcpf29YaY6"
   },
   "source": [
    "## 모듈 (Module)\n",
    "- 함수 / 클래스의 모음 또는 하나의 프로그램을 구성하는 단위를 의미합니다.\n",
    "\n",
    "## 패키지 (Package)\n",
    "- 프로그램과 모듈의 묶음을 의미합니다.\n",
    "    - 프로그램 : 실행하기 위한 것\n",
    "    - 모듈 : 다른 프로그램에서 불러와 사용하기 위한 것\n",
    "![module](https://user-images.githubusercontent.com/45934087/148158664-3798bd68-a9fa-4c21-be01-874bada7c11c.png)\n"
   ]
  },
  {
   "cell_type": "code",
   "execution_count": null,
   "metadata": {},
   "outputs": [],
   "source": [
    "# a.py, b.py 파일             == 모듈\n",
    "# 파이썬 파일들이 들어있는 폴더 == 패키지\n",
    "# 패키지들이 모인 모음         == 라이브러리"
   ]
  },
  {
   "cell_type": "markdown",
   "metadata": {
    "id": "LHl08TmwYaY6"
   },
   "source": [
    "## 라이브러리 (Library)\n",
    "- 패키지의 모음을 의미합니다.\n",
    "![Library](https://user-images.githubusercontent.com/45934087/148158810-466f417d-f950-4ac0-abcb-321e0577d043.png)"
   ]
  }
 ],
 "metadata": {
  "colab": {
   "provenance": []
  },
  "hide_input": false,
  "kernelspec": {
   "display_name": "Python 3",
   "language": "python",
   "name": "python3"
  },
  "language_info": {
   "codemirror_mode": {
    "name": "ipython",
    "version": 3
   },
   "file_extension": ".py",
   "mimetype": "text/x-python",
   "name": "python",
   "nbconvert_exporter": "python",
   "pygments_lexer": "ipython3",
   "version": "3.13.2"
  },
  "toc": {
   "base_numbering": 1,
   "nav_menu": {},
   "number_sections": true,
   "sideBar": true,
   "skip_h1_title": false,
   "title_cell": "Table of Contents",
   "title_sidebar": "Python 기초",
   "toc_cell": false,
   "toc_position": {
    "height": "757px",
    "left": "53px",
    "top": "111.125px",
    "width": "305px"
   },
   "toc_section_display": true,
   "toc_window_display": true
  }
 },
 "nbformat": 4,
 "nbformat_minor": 0
}
