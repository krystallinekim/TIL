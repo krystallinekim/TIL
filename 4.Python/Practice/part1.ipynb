{
 "cells": [
  {
   "cell_type": "markdown",
   "id": "f5169dd8",
   "metadata": {},
   "source": [
    "### 1번 문제\n",
    "사용자로부터 두 개의 숫자를 입력받아 더한 결과를 출력하는 프로그램을 작성하세요."
   ]
  },
  {
   "cell_type": "code",
   "execution_count": 9,
   "id": "548dcc86",
   "metadata": {},
   "outputs": [
    {
     "name": "stdout",
     "output_type": "stream",
     "text": [
      "10 + 59 = 69\n"
     ]
    }
   ],
   "source": [
    "num1 = int(input())\n",
    "num2 = int(input())\n",
    "\n",
    "num_sum = num1 + num2\n",
    "print(f'{num1} + {num2} = {num_sum}')"
   ]
  },
  {
   "cell_type": "markdown",
   "id": "6fe6a717",
   "metadata": {},
   "source": [
    "### 2번 문제\n",
    "다음 변수들의 타입을 출력하세요: a = 10, b = 3.14, c = \"hello\", d = True"
   ]
  },
  {
   "cell_type": "code",
   "execution_count": 10,
   "id": "663605e7",
   "metadata": {},
   "outputs": [
    {
     "name": "stdout",
     "output_type": "stream",
     "text": [
      "<class 'int'> <class 'float'> <class 'str'> <class 'bool'>\n"
     ]
    }
   ],
   "source": [
    "a = 10\n",
    "b = 3.14\n",
    "c = \"hello\"\n",
    "d = True\n",
    "\n",
    "print(type(a), type(b), type(c), type(d))"
   ]
  },
  {
   "cell_type": "markdown",
   "id": "3d54c52e",
   "metadata": {},
   "source": [
    "### 3번 문제\n",
    "두 문자열을 결합하고, 결합된 문자열의 길이를 출력하세요."
   ]
  },
  {
   "cell_type": "code",
   "execution_count": 11,
   "id": "b465aa3e",
   "metadata": {},
   "outputs": [
    {
     "name": "stdout",
     "output_type": "stream",
     "text": [
      "HelloWorld 10\n"
     ]
    }
   ],
   "source": [
    "str1 = \"Hello\"\n",
    "str2 = \"World\"\n",
    "str_concat = str1 + str2\n",
    "\n",
    "print(str_concat, len(str_concat))"
   ]
  },
  {
   "cell_type": "markdown",
   "id": "46d99a44",
   "metadata": {},
   "source": [
    "### 4번 문제\n",
    "10을 3으로 나눈 몫과 나머지를 각각 구하세요."
   ]
  },
  {
   "cell_type": "code",
   "execution_count": 12,
   "id": "0de1751f",
   "metadata": {},
   "outputs": [
    {
     "name": "stdout",
     "output_type": "stream",
     "text": [
      "3 1\n"
     ]
    }
   ],
   "source": [
    "a = 10\n",
    "b = 3\n",
    "\n",
    "print(10//3, 10%3)"
   ]
  },
  {
   "cell_type": "markdown",
   "id": "a4e7cdb2",
   "metadata": {},
   "source": [
    "### 5번 문제\n",
    "주어진 숫자가 짝수인지 홀수인지 판별하는 프로그램을 작성하세요."
   ]
  },
  {
   "cell_type": "code",
   "execution_count": null,
   "id": "5e22ad9d",
   "metadata": {},
   "outputs": [
    {
     "name": "stdout",
     "output_type": "stream",
     "text": [
      "odd\n"
     ]
    }
   ],
   "source": [
    "num = int(input(\"숫자를 입력하세요: \"))\n",
    "\n",
    "print('odd') if num % 2 else print('even')"
   ]
  },
  {
   "cell_type": "markdown",
   "id": "09c0ed1e",
   "metadata": {},
   "source": [
    "### 6번 문제\n",
    "문자열 \"Python Programming\"에서 \"Python\"만 추출하여 출력하세요."
   ]
  },
  {
   "cell_type": "code",
   "execution_count": 15,
   "id": "97ef8621",
   "metadata": {},
   "outputs": [
    {
     "name": "stdout",
     "output_type": "stream",
     "text": [
      "Python\n"
     ]
    }
   ],
   "source": [
    "text = \"Python Programming\"\n",
    "\n",
    "print(text.split(' ')[0])"
   ]
  },
  {
   "cell_type": "markdown",
   "id": "993cd02d",
   "metadata": {},
   "source": [
    "### 7번 문제\n",
    "세 개의 숫자 중 가장 큰 수를 찾는 프로그램을 작성하세요."
   ]
  },
  {
   "cell_type": "code",
   "execution_count": 16,
   "id": "ef281b68",
   "metadata": {},
   "outputs": [
    {
     "name": "stdout",
     "output_type": "stream",
     "text": [
      "5\n"
     ]
    }
   ],
   "source": [
    "a = int(input(\"첫 번째 숫자: \"))\n",
    "b = int(input(\"두 번째 숫자: \"))\n",
    "c = int(input(\"세 번째 숫자: \"))\n",
    "\n",
    "\n",
    "print(max([a, b, c]))"
   ]
  },
  {
   "cell_type": "markdown",
   "id": "92223519",
   "metadata": {},
   "source": [
    "### 8번 문제\n",
    "사용자의 나이를 입력받아 미성년자/성인을 판별하는 프로그램을 작성하세요."
   ]
  },
  {
   "cell_type": "code",
   "execution_count": 18,
   "id": "8f868b3a",
   "metadata": {},
   "outputs": [
    {
     "name": "stdout",
     "output_type": "stream",
     "text": [
      "미성년자\n"
     ]
    }
   ],
   "source": [
    "age = int(input(\"나이를 입력하세요: \"))\n",
    "\n",
    "print('성인') if age > 18 else print('미성년자')"
   ]
  },
  {
   "cell_type": "markdown",
   "id": "be3bbbc0",
   "metadata": {},
   "source": [
    "### 9번 문제\n",
    "문자열을 입력받아 모든 문자를 대문자로 변환하여 출력하세요."
   ]
  },
  {
   "cell_type": "code",
   "execution_count": 20,
   "id": "baee4c0e",
   "metadata": {},
   "outputs": [
    {
     "name": "stdout",
     "output_type": "stream",
     "text": [
      "MALKGNNLS\n"
     ]
    }
   ],
   "source": [
    "text = input(\"문자열을 입력하세요: \")\n",
    "\n",
    "print(text.upper())"
   ]
  },
  {
   "cell_type": "markdown",
   "id": "1ca09f2e",
   "metadata": {},
   "source": [
    "### 10번 문제\n",
    "두 숫자의 차이의 절댓값을 구하는 프로그램을 작성하세요."
   ]
  },
  {
   "cell_type": "code",
   "execution_count": 21,
   "id": "c38a658e",
   "metadata": {},
   "outputs": [
    {
     "name": "stdout",
     "output_type": "stream",
     "text": [
      "300\n"
     ]
    }
   ],
   "source": [
    "a = int(input(\"첫 번째 숫자: \"))\n",
    "b = int(input(\"두 번째 숫자: \"))\n",
    "\n",
    "print(abs(a - b))"
   ]
  }
 ],
 "metadata": {
  "kernelspec": {
   "display_name": "Python 3",
   "language": "python",
   "name": "python3"
  },
  "language_info": {
   "codemirror_mode": {
    "name": "ipython",
    "version": 3
   },
   "file_extension": ".py",
   "mimetype": "text/x-python",
   "name": "python",
   "nbconvert_exporter": "python",
   "pygments_lexer": "ipython3",
   "version": "3.13.2"
  }
 },
 "nbformat": 4,
 "nbformat_minor": 5
}
