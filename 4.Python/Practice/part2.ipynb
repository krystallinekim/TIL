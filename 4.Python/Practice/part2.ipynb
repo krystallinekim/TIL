{
 "cells": [
  {
   "cell_type": "markdown",
   "id": "61fa5f2f",
   "metadata": {},
   "source": [
    "### 11번. 1부터 100까지 숫자 중 5의 배수만 리스트에 저장하여 출력하세요.\n",
    "\n",
    "리스트 내포(List Comprehension)를 사용해도 좋습니다.\n",
    "\n",
    "📌 출력 예시:\n",
    "```\n",
    "[5, 10, 15, ..., 100]\n",
    "```"
   ]
  },
  {
   "cell_type": "code",
   "execution_count": null,
   "id": "c3411c0d",
   "metadata": {},
   "outputs": [],
   "source": [
    "# 1 배수 = 5로 나눴을 때 나머지가 0\n",
    "\n",
    "answer = [i for i in range(1,101) if i % 5 == 0]\n",
    "print(answer)\n",
    "\n",
    "answer = []\n",
    "for i in range(1, 101):\n",
    "    if i % 5 == 0:\n",
    "        answer.append(i)\n",
    "\n",
    "print(answer)"
   ]
  },
  {
   "cell_type": "code",
   "execution_count": null,
   "id": "9e774f71",
   "metadata": {},
   "outputs": [],
   "source": [
    "# 2 배수 = 5를 더해가는 것(0부터)\n",
    "num = 0\n",
    "answer = []\n",
    "\n",
    "while True:\n",
    "    if num >= 100:\n",
    "        break\n",
    "    num += 5\n",
    "    answer.append(num)\n",
    "    \n",
    "print(answer)"
   ]
  },
  {
   "cell_type": "code",
   "execution_count": null,
   "id": "12b650de",
   "metadata": {},
   "outputs": [],
   "source": [
    "# 3 배수 = 5를 더해가는 것(0부터)\n",
    "num = 5\n",
    "answer = []\n",
    "\n",
    "while True:\n",
    "    answer.append(num)\n",
    "    if num >= 100:\n",
    "        break\n",
    "    num += 5\n",
    "    \n",
    "print(answer)"
   ]
  },
  {
   "cell_type": "code",
   "execution_count": null,
   "id": "60f46913",
   "metadata": {},
   "outputs": [],
   "source": [
    "# 4 5를 곱해감\n",
    "num = 1\n",
    "tmp = 0\n",
    "answer = []\n",
    "\n",
    "while True:\n",
    "    tmp = num * 5\n",
    "    num += 1\n",
    "    answer.append(tmp)\n",
    "    if tmp == 100:\n",
    "        break\n",
    "\n",
    "print(answer)"
   ]
  },
  {
   "cell_type": "code",
   "execution_count": null,
   "id": "212a2db1",
   "metadata": {},
   "outputs": [],
   "source": [
    "# 5 그냥 5씩 step\n",
    "print(list(range(5, 101, 5)))"
   ]
  },
  {
   "cell_type": "markdown",
   "id": "91ab613e",
   "metadata": {},
   "source": [
    "### 12번. 짝수만 필터링하여 새로운 리스트 만들기\n",
    "\n",
    "다음 리스트에서 짝수만 골라 새로운 리스트로 만드세요:\n",
    "```python\n",
    "nums = [1,2,3,4,5,6,7,8,9,10]\n",
    "```\n",
    "📌 출력 예시:\n",
    "```\n",
    "[2, 4, 6, 8, 10]\n",
    "```"
   ]
  },
  {
   "cell_type": "code",
   "execution_count": null,
   "id": "97dbac20",
   "metadata": {},
   "outputs": [],
   "source": [
    "nums = [1,2,3,4,5,6,7,8,9,10]\n",
    "\n",
    "nums_even = [num for num in nums if num % 2 == 0]\n",
    "\n",
    "print(nums_even)"
   ]
  },
  {
   "cell_type": "markdown",
   "id": "f4750fde",
   "metadata": {},
   "source": [
    "### 13번. 딕셔너리에서 가장 비싼 과일 찾기\n",
    "\n",
    "다음 딕셔너리에서 가격이 가장 높은 과일과 그 가격을 출력하세요:\n",
    "```python\n",
    "fruits = {'apple': 1000, 'banana': 500, 'orange': 800}\n",
    "```"
   ]
  },
  {
   "cell_type": "code",
   "execution_count": null,
   "id": "136f1814",
   "metadata": {},
   "outputs": [],
   "source": [
    "fruits = {'apple': 1000, 'banana': 500, 'orange': 800}\n",
    "max_price = 0\n",
    "max_fruit = ''\n",
    "\n",
    "for fruit, price in fruits.items():\n",
    "    if max_price < price:\n",
    "        max_price = price\n",
    "        max_fruit = fruit\n",
    "\n",
    "print(max_fruit, max_price)"
   ]
  },
  {
   "cell_type": "code",
   "execution_count": null,
   "id": "4440c679",
   "metadata": {},
   "outputs": [],
   "source": [
    "fruits = {'apple': 1000, 'banana': 500, 'orange': 800}\n",
    "expensive = ''\n",
    "\n",
    "for key in fruits:\n",
    "    if fruits.get(expensive, 0) < fruits[key]:\n",
    "        expensive = key\n",
    "\n",
    "print(expensive, fruits[expensive])"
   ]
  },
  {
   "cell_type": "code",
   "execution_count": null,
   "id": "f943a287",
   "metadata": {},
   "outputs": [
    {
     "name": "stdout",
     "output_type": "stream",
     "text": [
      "['apple', 'lemon'] 1000\n"
     ]
    }
   ],
   "source": [
    "fruits = {'apple': 1000, 'banana': 500, 'orange': 800, 'lemon': 1000}\n",
    "max_price = 0\n",
    "max_fruit = []\n",
    "\n",
    "for fruit, price in fruits.items():\n",
    "    \n",
    "    # 최고가가 경신되었을 때:\n",
    "    if max_price < price:\n",
    "        max_price = price\n",
    "        max_fruit = [fruit]\n",
    "    # 최고가가 또 나왔을 때:\n",
    "    elif max_price == price:\n",
    "        max_fruit.append(fruit)\n",
    "        \n",
    "print(max_fruit, max_price)"
   ]
  },
  {
   "cell_type": "code",
   "execution_count": null,
   "id": "18267c24",
   "metadata": {},
   "outputs": [],
   "source": [
    "fruits = {'apple': 1000, 'banana': 500, 'orange': 800, 'lemon': 1000}\n",
    "fruit_price = []\n",
    "expensive = []\n",
    "\n",
    "for fruit in fruits:\n",
    "    fruit_price.append([fruits[fruit], fruit])\n",
    "\n",
    "fruit_price.sort()\n",
    "\n",
    "for i in range(len(fruit_price)):\n",
    "    if fruit_price[-1][0] == fruit_price[i][0]:\n",
    "        expensive.append(fruit_price[i][1])\n",
    "\n",
    "print(expensive, fruits[expensive[0]])"
   ]
  },
  {
   "cell_type": "markdown",
   "id": "f63a58ef",
   "metadata": {},
   "source": [
    "### 14번. 구구단 3단 출력하기\n",
    "\n",
    "for문을 사용하여 구구단 3단을 출력하세요.\n",
    "\n",
    "📌 출력 예시:\n",
    "```\n",
    "3 x 1 = 3\n",
    "3 x 2 = 6\n",
    "...\n",
    "3 x 9 = 27\n",
    "```"
   ]
  },
  {
   "cell_type": "code",
   "execution_count": null,
   "id": "82376bb6",
   "metadata": {},
   "outputs": [],
   "source": [
    "for i in range(1, 10):\n",
    "    print(f'3 x {i} = {3 * i}')"
   ]
  },
  {
   "cell_type": "markdown",
   "id": "1a498a46",
   "metadata": {},
   "source": [
    "### 15번. 문자열에서 각 문자 개수 세기\n",
    "\n",
    "사용자로부터 문자열을 입력받아, 각 문자가 몇 번 나오는지 딕셔너리 형태로 출력하세요.\n",
    "\n",
    "📌 예시 입력: `hello`\n",
    "📌 예시 출력: `{'h':1, 'e':1, 'l':2, 'o':1}`"
   ]
  },
  {
   "cell_type": "code",
   "execution_count": null,
   "id": "3f9c2e5b",
   "metadata": {},
   "outputs": [],
   "source": [
    "text = input(\"문자열을 입력하세요: \")\n",
    "count_char = {}\n",
    "\n",
    "# text를 for로 순회\n",
    "for char in text:\n",
    "    # 문자가 있으면 dict에 +1\n",
    "    if count_char.get(char, 0):\n",
    "        count_char[char] += 1\n",
    "    # 없으면 새 키, count 0\n",
    "    else:\n",
    "        count_char.setdefault(char, 1)\n",
    "\n",
    "print(count_char)"
   ]
  },
  {
   "cell_type": "markdown",
   "id": "6a3f44e9",
   "metadata": {},
   "source": [
    "### 16번. 리스트 정렬과 최대/최소 값 찾기\n",
    "\n",
    "다음 리스트를 오름차순으로 정렬하고, 가장 큰 값과 가장 작은 값을 출력하세요:\n",
    "```python\n",
    "nums = [3, 1, 4, 1, 5, 9, 2, 6]\n",
    "```"
   ]
  },
  {
   "cell_type": "code",
   "execution_count": null,
   "id": "ecaa5fac",
   "metadata": {},
   "outputs": [],
   "source": [
    "nums = [3, 1, 4, 1, 5, 9, 2, 6]\n",
    "nums.sort()\n",
    "\n",
    "print(f'min: {nums[0]}, max: {nums[-1]}')"
   ]
  },
  {
   "cell_type": "markdown",
   "id": "21f6f2d0",
   "metadata": {},
   "source": [
    "### 17번. 회문(Palindrome) 검사\n",
    "\n",
    "입력받은 단어가 앞에서 읽든 뒤에서 읽든 같은 단어인지 확인하는 프로그램을 작성하세요.\n",
    "\n",
    "📌 예시: `level` → 회문 / `hello` → 회문 아님"
   ]
  },
  {
   "cell_type": "code",
   "execution_count": null,
   "id": "5e7b6989",
   "metadata": {},
   "outputs": [],
   "source": [
    "word = input(\"단어를 입력하세요: \")\n",
    "word_rev = word[::-1]\n",
    "\n",
    "print(f'{word} -> 회문') if word == word_rev else print(f'{word} -> 회문 아님')"
   ]
  },
  {
   "cell_type": "markdown",
   "id": "4e83b9ca",
   "metadata": {},
   "source": [
    "### 18번. 집합 연산: 합집합, 교집합, 차집합\n",
    "\n",
    "다음 두 집합의 합집합, 교집합, 차집합을 구하세요:\n",
    "```python\n",
    "A = {1, 2, 3, 4, 5}\n",
    "B = {4, 5, 6, 7, 8}\n",
    "```"
   ]
  },
  {
   "cell_type": "code",
   "execution_count": null,
   "id": "6c1c77ae",
   "metadata": {},
   "outputs": [],
   "source": [
    "A = {1, 2, 3, 4, 5}\n",
    "B = {4, 5, 6, 7, 8}\n",
    "\n",
    "print(f'합집합: {A | B}, 교집합: {A & B}, 차집합(A - B): {A - B}, 차집합(B - A): {B - A}')"
   ]
  },
  {
   "cell_type": "markdown",
   "id": "e49db016",
   "metadata": {},
   "source": [
    "### 19번. 1부터 n까지의 합 구하기\n",
    "\n",
    "사용자로부터 정수 n을 입력받아 1부터 n까지의 합을 구하는 프로그램을 작성하세요."
   ]
  },
  {
   "cell_type": "code",
   "execution_count": null,
   "id": "5e772a52",
   "metadata": {},
   "outputs": [],
   "source": [
    "n = int(input(\"정수를 입력하세요: \"))\n",
    "n_sum = 0\n",
    "\n",
    "for i in range(1, n+1):\n",
    "    n_sum += i\n",
    "\n",
    "print(n_sum)"
   ]
  },
  {
   "cell_type": "markdown",
   "id": "c8ae9f8e",
   "metadata": {},
   "source": [
    "### 20번. 리스트에서 중복 제거\n",
    "\n",
    "다음 리스트에서 중복된 값을 제거하고 유일한 값만 남긴 리스트를 출력하세요:\n",
    "```python\n",
    "nums = [1, 2, 2, 3, 4, 4, 5]\n",
    "```"
   ]
  },
  {
   "cell_type": "code",
   "execution_count": null,
   "id": "0b9d2135",
   "metadata": {},
   "outputs": [],
   "source": [
    "nums = [1, 2, 2, 3, 4, 4, 5]\n",
    "nums_unique = []\n",
    "\n",
    "for num in nums:\n",
    "    if num not in nums_unique:\n",
    "        nums_unique.append(num)\n",
    "        \n",
    "print(nums_unique)"
   ]
  }
 ],
 "metadata": {
  "kernelspec": {
   "display_name": "Python 3",
   "language": "python",
   "name": "python3"
  },
  "language_info": {
   "codemirror_mode": {
    "name": "ipython",
    "version": 3
   },
   "file_extension": ".py",
   "mimetype": "text/x-python",
   "name": "python",
   "nbconvert_exporter": "python",
   "pygments_lexer": "ipython3",
   "version": "3.13.2"
  }
 },
 "nbformat": 4,
 "nbformat_minor": 5
}
