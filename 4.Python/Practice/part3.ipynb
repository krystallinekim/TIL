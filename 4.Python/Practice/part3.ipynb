{
 "cells": [
  {
   "cell_type": "markdown",
   "id": "015c665a",
   "metadata": {},
   "source": [
    "### 22번 문제\n",
    "학생들의 성적 딕셔너리를 만들고, 평균 점수를 계산하여 평균 이상인 학생들만 출력하세요."
   ]
  },
  {
   "cell_type": "code",
   "execution_count": 16,
   "id": "3e3ee36e",
   "metadata": {},
   "outputs": [
    {
     "name": "stdout",
     "output_type": "stream",
     "text": [
      "average = 76.75\n",
      "Alice: 85\n",
      "Charlie: 90\n"
     ]
    }
   ],
   "source": [
    "scores = {'Alice': 85, 'Bob': 72, 'Charlie': 90, 'David': 60}\n",
    "\n",
    "average_scores = sum(scores.values()) / len(scores.values())\n",
    "print(f'average = {average_scores}')\n",
    "\n",
    "for key in scores:\n",
    "    if scores[key] > average_scores:\n",
    "        print(f'{key}: {scores[key]}')"
   ]
  },
  {
   "cell_type": "markdown",
   "id": "cf788c80",
   "metadata": {},
   "source": [
    "### 23번 문제\n",
    "주어진 문자열에서 숫자만 추출하여 합계를 구하는 프로그램을 작성하세요."
   ]
  },
  {
   "cell_type": "code",
   "execution_count": 25,
   "id": "7ea517c6",
   "metadata": {},
   "outputs": [
    {
     "name": "stdout",
     "output_type": "stream",
     "text": [
      "10\n"
     ]
    }
   ],
   "source": [
    "text = \"a1b2c3d4\"\n",
    "num_sum = 0\n",
    "\n",
    "for char in text:\n",
    "    if char.isnumeric():\n",
    "        num_sum += int(char)\n",
    "\n",
    "print(num_sum)"
   ]
  },
  {
   "cell_type": "markdown",
   "id": "8a14b3de",
   "metadata": {},
   "source": [
    "### 24번 문제\n",
    "피보나치 수열의 첫 10개 항을 리스트에 저장하여 출력하세요."
   ]
  },
  {
   "cell_type": "code",
   "execution_count": 24,
   "id": "cc8b02fd",
   "metadata": {},
   "outputs": [
    {
     "name": "stdout",
     "output_type": "stream",
     "text": [
      "[0, 1, 1, 2, 3, 5, 8, 13, 21, 34]\n"
     ]
    }
   ],
   "source": [
    "fibonacci = [0, 1]\n",
    "\n",
    "for i in range(10 - 2):\n",
    "    fibonacci.append(fibonacci[i] + fibonacci[i + 1])\n",
    "    \n",
    "print(fibonacci)"
   ]
  },
  {
   "cell_type": "markdown",
   "id": "cf47b1ae",
   "metadata": {},
   "source": [
    "### 25번 문제\n",
    "영어 문장을 입력받아 단어 개수, 문자 개수(공백 제외), 모음 개수를 세는 프로그램을 작성하세요."
   ]
  },
  {
   "cell_type": "code",
   "execution_count": 114,
   "id": "cef2eb3a",
   "metadata": {},
   "outputs": [
    {
     "name": "stdout",
     "output_type": "stream",
     "text": [
      "단어 개수: 12개\n",
      "문자 개수: 41개\n",
      "모음 개수: 14개\n"
     ]
    }
   ],
   "source": [
    "sentence = input(\"문장을 입력하세요: \")\n",
    "\n",
    "# 단어개수 (공백 기준으로 자른 리스트의 원소개수)\n",
    "print(f'단어 개수: {len(sentence.split(' '))}개')\n",
    "\n",
    "# 문자개수 (공백 제외)\n",
    "non_space_count = len(sentence) - sentence.count(' ')\n",
    "print(f'문자 개수: {non_space_count}개')\n",
    "\n",
    "# 모음개수 (a, e, i, o, u)\n",
    "vowel_count = 0\n",
    "\n",
    "for char in sentence.lower():\n",
    "    if char == 'a' or char == 'e' or char == 'i' or char == 'o' or char == 'u':\n",
    "        vowel_count += 1\n",
    "        \n",
    "print(f'모음 개수: {vowel_count}개')"
   ]
  },
  {
   "cell_type": "markdown",
   "id": "65dcf00d",
   "metadata": {},
   "source": [
    "### 26번 문제\n",
    "2차원 리스트 [[1, 2, 3], [4, 5, 6], [7, 8, 9]]의 모든 원소의 합을 구하세요."
   ]
  },
  {
   "cell_type": "code",
   "execution_count": 27,
   "id": "26a8319e",
   "metadata": {},
   "outputs": [
    {
     "name": "stdout",
     "output_type": "stream",
     "text": [
      "45\n"
     ]
    }
   ],
   "source": [
    "matrix = [[1, 2, 3], [4, 5, 6], [7, 8, 9]]\n",
    "matrix_sum = 0\n",
    "\n",
    "for rows in matrix:\n",
    "    for elem in rows:\n",
    "        matrix_sum += elem\n",
    "\n",
    "print(matrix_sum)"
   ]
  },
  {
   "cell_type": "markdown",
   "id": "dea32b37",
   "metadata": {},
   "source": [
    "### 27번 문제\n",
    "문자열 리스트에서 가장 긴 문자열과 가장 짧은 문자열을 찾아 출력하세요."
   ]
  },
  {
   "cell_type": "code",
   "execution_count": 87,
   "id": "66bca84e",
   "metadata": {},
   "outputs": [
    {
     "name": "stdout",
     "output_type": "stream",
     "text": [
      "['strawberry']\n",
      "['kiwi']\n"
     ]
    }
   ],
   "source": [
    "words = [\"apple\", \"banana\", \"kiwi\", \"strawberry\"]\n",
    "len_text = []\n",
    "short = []\n",
    "long = []\n",
    "\n",
    "for word in words:\n",
    "    len_text.append([len(word), word])\n",
    "    \n",
    "len_text.sort()\n",
    "\n",
    "for i in range(len(len_text)):\n",
    "    if len_text[0][0] == len_text[i][0]:\n",
    "        short.append(len_text[i][1])\n",
    "    if len_text[-1][0] == len_text[i][0]:\n",
    "        long.append(len_text[i][1])        \n",
    "    \n",
    "print(long)\n",
    "print(short)\n"
   ]
  },
  {
   "cell_type": "markdown",
   "id": "88c6ac5b",
   "metadata": {},
   "source": [
    "### 28번 문제\n",
    "로또 번호 생성기를 만드세요. (1~45 중 중복 없는 6개 숫자)"
   ]
  },
  {
   "cell_type": "code",
   "execution_count": 29,
   "id": "5c9030f3",
   "metadata": {},
   "outputs": [
    {
     "name": "stdout",
     "output_type": "stream",
     "text": [
      "[3, 14, 2, 29, 22, 44]\n"
     ]
    }
   ],
   "source": [
    "import random\n",
    "\n",
    "lotto = random.sample(range(1, 46), 6)\n",
    "print(lotto)"
   ]
  },
  {
   "cell_type": "markdown",
   "id": "4cdf20f0",
   "metadata": {},
   "source": [
    "### 29번 문제\n",
    "문자열을 입력받아 각 문자의 ASCII 값을 딕셔너리로 저장하여 출력하세요."
   ]
  },
  {
   "cell_type": "code",
   "execution_count": 34,
   "id": "4ff89e6f",
   "metadata": {},
   "outputs": [
    {
     "name": "stdout",
     "output_type": "stream",
     "text": [
      "{'d': 100, 's': 115, 'l': 108}\n"
     ]
    }
   ],
   "source": [
    "text = input(\"문자열을 입력하세요: \")\n",
    "ascii_char = {}\n",
    "\n",
    "for char in text:\n",
    "    if ascii_char.get(char):\n",
    "        pass\n",
    "    else:\n",
    "        ascii_char.setdefault(char, ord(char))\n",
    "\n",
    "print(ascii_char)"
   ]
  },
  {
   "cell_type": "markdown",
   "id": "d458db98",
   "metadata": {},
   "source": [
    "### 30번 문제\n",
    "주어진 문자열에서 가장 많이 나타나는 문자와 그 개수를 찾아 출력하세요."
   ]
  },
  {
   "cell_type": "code",
   "execution_count": null,
   "id": "edbc2d19",
   "metadata": {},
   "outputs": [
    {
     "name": "stdout",
     "output_type": "stream",
     "text": [
      "['s', 'i'], 4 개\n"
     ]
    }
   ],
   "source": [
    "text = \"mississippi\"\n",
    "text_count = {}\n",
    "most_often = [None]\n",
    "\n",
    "for char in set(text):\n",
    "    text_count.setdefault(char, text.count(char))\n",
    "    \n",
    "for key in text_count:\n",
    "    if text_count[key] > text_count.get(most_often[0], 0):\n",
    "        most_often.clear()\n",
    "        most_often.append(key)\n",
    "    elif text_count[key] == text_count.get(most_often[0], 0):\n",
    "        most_often.append(key)\n",
    "\n",
    "print(f'{most_often}, {text_count[most_often[0]]} 개')"
   ]
  }
 ],
 "metadata": {
  "kernelspec": {
   "display_name": "Python 3",
   "language": "python",
   "name": "python3"
  },
  "language_info": {
   "codemirror_mode": {
    "name": "ipython",
    "version": 3
   },
   "file_extension": ".py",
   "mimetype": "text/x-python",
   "name": "python",
   "nbconvert_exporter": "python",
   "pygments_lexer": "ipython3",
   "version": "3.13.2"
  }
 },
 "nbformat": 4,
 "nbformat_minor": 5
}
