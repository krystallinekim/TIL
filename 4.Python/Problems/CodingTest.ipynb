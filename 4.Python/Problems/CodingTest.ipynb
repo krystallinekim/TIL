{
 "cells": [
  {
   "cell_type": "markdown",
   "id": "8e8b5421",
   "metadata": {},
   "source": [
    "# [**코딩테스트**](https://school.programmers.co.kr/learn/challenges?order=recent&page=1&languages=python3)"
   ]
  },
  {
   "cell_type": "markdown",
   "id": "c118b611",
   "metadata": {},
   "source": [
    "## Lv. 0"
   ]
  },
  {
   "cell_type": "markdown",
   "id": "6468e676",
   "metadata": {},
   "source": [
    "### 특별한 이차원 배열 2\n",
    "\n",
    "n × n 크기의 이차원 배열 arr이 매개변수로 주어질 때, arr이 다음을 만족하면 1을 아니라면 0을 return 하는 solution 함수를 작성해 주세요.\n",
    "\n",
    "- 0 ≤ i, j < n인 정수 i, j에 대하여 arr[i][j] = arr[j][i]\n",
    "\n",
    "제한사항\n",
    "\n",
    "- 1 ≤ arr의 길이 = arr의 원소의 길이 ≤ 100\n",
    "- 1 ≤ arr의 원소의 원소 ≤ 1,000\n",
    "- 모든 arr의 원소의 길이는 같습니다.\n"
   ]
  },
  {
   "cell_type": "code",
   "execution_count": null,
   "id": "c3b8dd36",
   "metadata": {},
   "outputs": [],
   "source": [
    "def solution(arr):\n",
    "\n",
    "    for i in range(len(arr)):\n",
    "        for j in range(len(arr[0])):\n",
    "            if arr[i][j] != arr[j][i]:\n",
    "                return 0\n",
    "    \n",
    "    return 1"
   ]
  },
  {
   "cell_type": "markdown",
   "id": "53a47b23",
   "metadata": {},
   "source": [
    "### 평행\n",
    "\n",
    "점 네 개의 좌표를 담은 이차원 배열  dots가 다음과 같이 매개변수로 주어집니다.\n",
    "\n",
    "- [[x1, y1], [x2, y2], [x3, y3], [x4, y4]]\n",
    "주어진 네 개의 점을 두 개씩 이었을 때, 두 직선이 평행이 되는 경우가 있으면 1을 없으면 0을 return 하도록 solution 함수를 완성해보세요.\n",
    "\n",
    "제한사항\n",
    "- dots의 길이 = 4\n",
    "- dots의 원소는 [x, y] 형태이며 x, y는 정수입니다.\n",
    "    - 0 ≤ x, y ≤ 100\n",
    "- 서로 다른 두개 이상의 점이 겹치는 경우는 없습니다.\n",
    "- 두 직선이 겹치는 경우(일치하는 경우)에도 1을 return 해주세요.\n",
    "- 임의의 두 점을 이은 직선이 x축 또는 y축과 평행한 경우는 주어지지 않습니다.\n"
   ]
  },
  {
   "cell_type": "code",
   "execution_count": null,
   "id": "15b878ed",
   "metadata": {},
   "outputs": [],
   "source": [
    "def gradient(coor):\n",
    "    return abs((coor[0][1] - coor[1][1]) / (coor[0][0] - coor[1][0]))\n",
    "\n",
    "def solution(dots):\n",
    "\n",
    "    cases = [([dots[0],dots[1]], [dots[2], dots[3]]),\n",
    "            ([dots[0],dots[2]], [dots[1], dots[3]]),\n",
    "            ([dots[0],dots[3]], [dots[1], dots[2]])]\n",
    "\n",
    "    for i in range(3):\n",
    "        if gradient(cases[i][0]) == gradient(cases[i][1]):\n",
    "            return 1\n",
    "    \n",
    "    return 0"
   ]
  },
  {
   "cell_type": "markdown",
   "id": "84aabc9a",
   "metadata": {},
   "source": [
    "### 안전지대\n",
    "\n",
    "다음 그림과 같이 지뢰가 있는 지역과 지뢰에 인접한 위, 아래, 좌, 우 대각선 칸을 모두 위험지역으로 분류합니다.\n",
    "\n",
    "\n",
    "\n",
    "<img width=\"200\" alt=\"typecasting\" src=\"https://grepp-programmers.s3.ap-northeast-2.amazonaws.com/files/production/124a2c93-da99-4643-96a8-292bb871f553/image.png\">\n",
    "\n",
    "지뢰는 2차원 배열 board에 1로 표시되어 있고 board에는 지뢰가 매설 된 지역 1과, 지뢰가 없는 지역 0만 존재합니다.\n",
    "지뢰가 매설된 지역의 지도 board가 매개변수로 주어질 때, 안전한 지역의 칸 수를 return하도록 solution 함수를 완성해주세요.\n",
    "\n",
    "제한사항\n",
    "-    board는 n * n 배열입니다.\n",
    "-    1 ≤ n ≤ 100\n",
    "-    지뢰는 1로 표시되어 있습니다.\n",
    "-    board에는 지뢰가 있는 지역 1과 지뢰가 없는 지역 0만 존재합니다."
   ]
  },
  {
   "cell_type": "code",
   "execution_count": null,
   "id": "73b7de77",
   "metadata": {},
   "outputs": [],
   "source": [
    "def target(board, i, j):\n",
    "    ilimit = len(board)\n",
    "    jlimit = len(board[0])\n",
    "\n",
    "    if 0 <= i < ilimit and 0 <= j < jlimit:\n",
    "        return board[i][j]\n",
    "    else:\n",
    "        return 0\n",
    "\n",
    "def solution(board):\n",
    "    answer = 0\n",
    "    surroundings = []\n",
    "    \n",
    "    # 주변 8칸\n",
    "    for di in (-1, 0, 1):\n",
    "        for dj in (-1, 0, 1):\n",
    "            if not (di == dj == 0):\n",
    "                surroundings.append([di,dj])\n",
    "        \n",
    "    for i in range(len(board)):\n",
    "        for j in range(len(board[0])):\n",
    "            # 특정한 칸 (i,j)에 대해, 그 칸이 빈 칸일 경우\n",
    "            if board[i][j] == 0:\n",
    "                for surrounding in surroundings:\n",
    "                    # 자기 주변 8칸에 대한 정보가 1일 때(폭탄일 때) 자기 칸에 2를 쓰고 계산 끝\n",
    "                    if target(board, i + surrounding[0], j + surrounding[1]) == 1:\n",
    "                        board[i][j] = 2\n",
    "                        break\n",
    "    \n",
    "    for r in board:\n",
    "        answer += r.count(0)\n",
    "        \n",
    "    return answer\n"
   ]
  },
  {
   "cell_type": "markdown",
   "id": "d129e844",
   "metadata": {},
   "source": [
    "### [PCCP 모의고사 #2] 1번 - 실습용 로봇\n",
    "\n",
    "컴퓨터공학과에서는 실습용 로봇을 이용해서 로봇 프로그래밍을 학습합니다. 실습용 로봇은 입력된 명령에 따라 x좌표와 y좌표로 표현되는 2차원 좌표 평면 위를 이동합니다. 하나의 명령은 하나의 문자로 주어지며 각 명령어에 따라 로봇이 수행하는 일은 다음과 같이 네 종류입니다.\n",
    "\n",
    "- 'R': 로봇이 오른쪽으로 90도 회전합니다.\n",
    "- 'L': 로봇이 왼쪽으로 90도 회전합니다.\n",
    "- 'G': 로봇이 한 칸 전진합니다.\n",
    "- 'B': 로봇이 한 칸 후진합니다.\n",
    "\n",
    "명령어는 각각의 명령들이 모인 하나의 문자열로 주어지며, 차례대로 수행됩니다.\n",
    "\n",
    "로봇은 처음에 (0, 0) 위치에 +y 축을 향하여 놓여 있습니다.\n",
    "\n",
    "로봇에 입력된 명령어를 순서대로 담고 있는 문자열 command가 주어집니다. 로봇이 주어진 명령어들을 순서대로 모두 수행한 뒤 도착한 최종 위치의 좌푯값 x, y를 순서대로 배열에 담아서 return 하도록 solution 함수를 완성해주세요.\n",
    "\n",
    "\n",
    "제한사항\n",
    "- 1 ≤ commad의 길이 ≤ 1,000,000\n",
    "- command는 'R', 'L', 'G', 'B'으로 구성된 문자열입니다.\n",
    "- command에 들어있는 문자 하나하나가 각 명령을 나타내며, 문자열에 먼저 등장하는 명령을 먼저 수행해야 합니다.\n"
   ]
  },
  {
   "cell_type": "code",
   "execution_count": null,
   "id": "757e7483",
   "metadata": {},
   "outputs": [],
   "source": [
    "def solution(commands):\n",
    "    \n",
    "    x, y = 0, 0\n",
    "    directory = [(0, 1), (1,0), (0,-1), (-1,0)]\n",
    "    dir_i = 0\n",
    "    head = directory[dir_i]\n",
    "    \n",
    "    for command in commands:\n",
    "        if command == \"R\":\n",
    "            dir_i = (dir_i + 1) % 4\n",
    "            head = directory[dir_i]\n",
    "\n",
    "        elif command == \"L\":\n",
    "            dir_i = (dir_i - 1) % 4\n",
    "            head = directory[dir_i]\n",
    "\n",
    "        elif command == \"G\":\n",
    "            x += head[0]\n",
    "            y += head[1]\n",
    "\n",
    "        elif command == \"B\":\n",
    "            x -= head[0]\n",
    "            y -= head[1]\n",
    "    \n",
    "    return [x, y]\n",
    "        "
   ]
  }
 ],
 "metadata": {
  "language_info": {
   "name": "python"
  }
 },
 "nbformat": 4,
 "nbformat_minor": 5
}
