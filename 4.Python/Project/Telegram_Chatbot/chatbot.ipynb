{
 "cells": [
  {
   "cell_type": "markdown",
   "id": "b14ba91e",
   "metadata": {},
   "source": [
    "# URL과 API에 관한 이해"
   ]
  },
  {
   "cell_type": "code",
   "execution_count": null,
   "id": "a965aa74",
   "metadata": {},
   "outputs": [],
   "source": [
    "# 내 챗봇의 주소\n",
    "from dotenv import load_dotenv\n",
    "import os\n",
    "\n",
    "load_dotenv()\n",
    "\n",
    "bot_token = os.getenv('TELEGRAM_BOT_TOKEN')"
   ]
  },
  {
   "cell_type": "code",
   "execution_count": null,
   "id": "e96598fc",
   "metadata": {},
   "outputs": [],
   "source": [
    "URL = f'https://api.telegram.org/bot{bot_token}'"
   ]
  },
  {
   "cell_type": "code",
   "execution_count": null,
   "id": "f60b24ab",
   "metadata": {},
   "outputs": [],
   "source": [
    "# Bot 정보 확인\n",
    "# /getMe\n",
    "\n",
    "print(URL + '/getMe')"
   ]
  },
  {
   "cell_type": "code",
   "execution_count": null,
   "id": "41506b54",
   "metadata": {},
   "outputs": [],
   "source": [
    "# Bot 업데이트\n",
    "# /getUpdates\n",
    "\n",
    "print(URL + '/getUpdates')"
   ]
  },
  {
   "cell_type": "code",
   "execution_count": null,
   "id": "8e0c2faf",
   "metadata": {},
   "outputs": [],
   "source": [
    "# 메세지 보내기\n",
    "# /sendMessage\n",
    "\n",
    "# Required Parameters\n",
    "my_id = '8436316592'  # 내 주소\n",
    "message = '애옹'  # 보낼 메세지\n",
    "\n",
    "print(URL + '/sendMessage' + f'?chat_id={my_id}&text={message}' )"
   ]
  },
  {
   "cell_type": "code",
   "execution_count": null,
   "id": "ddb8e5d0",
   "metadata": {},
   "outputs": [],
   "source": [
    "# 브라우저, Postman에 이은 3번째 클라이언트\n",
    "# 일반 사용자용 브라우저, 개발자용 브라우저인 Postman, 코드에 직접 사용하기 위한 requests 모듈\n",
    "import requests\n",
    "\n",
    "# Postman에서 하던 get - URL - send의 3단계는 똑같다.\n",
    "data = requests.get(URL + '/getUpdates').json()\n",
    "data"
   ]
  },
  {
   "cell_type": "code",
   "execution_count": null,
   "id": "71803c3f",
   "metadata": {},
   "outputs": [],
   "source": [
    "# 마지막 메세지의 내용 뽑아보기\n",
    "input_msg = data['result'][-1]['message']['text']\n",
    "\n",
    "# 마지막 메시지에 대해 발신인 id 뽑기\n",
    "sender_id = data['result'][-1]['message']['from']['id']\n",
    "\n",
    "print(input_msg, sender_id)"
   ]
  },
  {
   "cell_type": "code",
   "execution_count": null,
   "id": "f5bf1a8d",
   "metadata": {},
   "outputs": [],
   "source": [
    "# 마지막 메시지를 똑같이 따라해보기\n",
    "\n",
    "body = {\n",
    "    'chat_id': sender_id,\n",
    "    'text': input_msg,\n",
    "}\n",
    "\n",
    "requests.get(URL + '/sendMessage', body).json()"
   ]
  },
  {
   "cell_type": "code",
   "execution_count": null,
   "id": "4c676f8d",
   "metadata": {},
   "outputs": [],
   "source": [
    "# n회차 로또번호\n",
    "def lotto(n):\n",
    "    import requests\n",
    "\n",
    "    lotto_data = requests.get(f'https://www.dhlottery.co.kr/common.do?method=getLottoNumber&drwNo={n}').json()\n",
    "\n",
    "    real_numbers = []\n",
    "    bonus = lotto_data['bnusNo']\n",
    "\n",
    "    # 당첨번호 확인\n",
    "    for key, value in lotto_data.items():\n",
    "        if key[:-1] == 'drwtNo':\n",
    "            real_numbers.append(value)\n",
    "            \n",
    "    return f'{real_numbers}, {[bonus]}'"
   ]
  },
  {
   "cell_type": "code",
   "execution_count": null,
   "id": "9a0fd509",
   "metadata": {},
   "outputs": [],
   "source": [
    "# 수신담당\n",
    "\n",
    "import requests\n",
    "data = requests.get(URL + '/getUpdates').json()\n",
    "\n",
    "input_msg = data['result'][-1]['message']['text']\n",
    "sender_id = data['result'][-1]['message']['from']['id']\n",
    "\n",
    "print(data['result'][-1]['message']['text'])"
   ]
  },
  {
   "cell_type": "code",
   "execution_count": null,
   "id": "3ac6b8a0",
   "metadata": {},
   "outputs": [],
   "source": [
    "\n",
    "# '로또번호' 에 대한 응답으로 랜덤한 숫자 6개를 뽑아줌\n",
    "if input_msg in ['로또번호']:\n",
    "    import random\n",
    "    output_msg = str(random.sample(range(1, 46), 6))\n",
    "\n",
    "# '당첨번호' 혹은 '가즈아' 에 대한 응답으로 1181회 당첨번호 알려주기\n",
    "elif '로또당첨번호' in input_msg:\n",
    "    output_msg = lotto(1181)\n",
    "\n",
    "# 안녕, 하이, 안녕? 같은 말에는 안녕 못하다고 답함\n",
    "elif input_msg in ['안녕', '하이', '안녕?']:\n",
    "    output_msg = '안녕 못함'\n",
    "\n",
    "# '야옹'이라는 말이 포함되면 무조건 '야옹야옹' 하고 울기\n",
    "elif '야옹' in input_msg:\n",
    "    output_msg = '야옹야옹'\n",
    "\n",
    "# 모르는 말에는 '그런건 몰?루'이라고 답함\n",
    "else:\n",
    "    output_msg = '그런건 몰?루'\n"
   ]
  },
  {
   "cell_type": "code",
   "execution_count": null,
   "id": "27d9a1e4",
   "metadata": {},
   "outputs": [],
   "source": [
    "# 발신담당\n",
    "\n",
    "body = {\n",
    "    'chat_id': sender_id,\n",
    "    'text': output_msg,\n",
    "}\n",
    "\n",
    "sent = requests.get(URL + '/sendMessage', body).json()\n",
    "print(sent['result']['text'])"
   ]
  },
  {
   "cell_type": "code",
   "execution_count": null,
   "id": "4562695c",
   "metadata": {},
   "outputs": [],
   "source": [
    "# Webhook 이후\n",
    "import requests\n",
    "requests.get(URL + '/getWebhookInfo').json()"
   ]
  },
  {
   "cell_type": "code",
   "execution_count": null,
   "id": "1b68c76e",
   "metadata": {},
   "outputs": [],
   "source": []
  }
 ],
 "metadata": {
  "kernelspec": {
   "display_name": "Python 3",
   "language": "python",
   "name": "python3"
  },
  "language_info": {
   "codemirror_mode": {
    "name": "ipython",
    "version": 3
   },
   "file_extension": ".py",
   "mimetype": "text/x-python",
   "name": "python",
   "nbconvert_exporter": "python",
   "pygments_lexer": "ipython3",
   "version": "3.13.2"
  }
 },
 "nbformat": 4,
 "nbformat_minor": 5
}
