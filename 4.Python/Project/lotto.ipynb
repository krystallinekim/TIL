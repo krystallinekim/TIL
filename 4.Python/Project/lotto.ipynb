{
 "cells": [
  {
   "cell_type": "markdown",
   "id": "b96c6283",
   "metadata": {},
   "source": [
    "# **Lotto**"
   ]
  },
  {
   "cell_type": "code",
   "execution_count": null,
   "id": "06a42d17",
   "metadata": {},
   "outputs": [],
   "source": [
    "url = 'https://www.dhlottery.co.kr/common.do?method=getLottoNumber&drwNo=1'"
   ]
  },
  {
   "cell_type": "code",
   "execution_count": null,
   "id": "ab9b60aa",
   "metadata": {},
   "outputs": [],
   "source": [
    "{\n",
    "    \"totSellamnt\":3681782000,       # Total Sell Amount, 총판매액\n",
    "    \"returnValue\":\"success\",\n",
    "    \"drwNoDate\":\"2002-12-07\",       # 추첨일\n",
    "    \"firstWinamnt\":0,               # 1게임당 당첨금액\n",
    "    \"firstPrzwnerCo\":0,             # 당첨게임 수\n",
    "    \"firstAccumamnt\":863604600,\n",
    "    \"drwNo\":1,                      # 추첨회차\n",
    "    \"drwtNo1\":10,\n",
    "    \"drwtNo2\":23,\n",
    "    \"drwtNo3\":29,\n",
    "    \"drwtNo4\":33,\n",
    "    \"drwtNo5\":37,\n",
    "    \"drwtNo6\":40,\n",
    "    \"bnusNo\":16,                    # 당첨번호\n",
    "}\n",
    "\n",
    "# 이렇게 응용프로그램 보라고 만든 인터페이스 = Application Programming Interface, API"
   ]
  },
  {
   "cell_type": "code",
   "execution_count": 2,
   "id": "e95abcd2",
   "metadata": {},
   "outputs": [],
   "source": [
    "import requests\n",
    "\n",
    "url = 'https://www.dhlottery.co.kr/common.do?method=getLottoNumber&drwNo=1181'\n",
    "res = requests.get(url)\n",
    "\n",
    "# url에서 drwNo를 바꿔주면 다른 회차도 나옴"
   ]
  },
  {
   "cell_type": "code",
   "execution_count": null,
   "id": "a36d8a46",
   "metadata": {},
   "outputs": [],
   "source": [
    "{\n",
    "    \"totSellamnt\":113802682000,\n",
    "    \"returnValue\":\"success\",\n",
    "    \"drwNoDate\":\"2025-07-19\",\n",
    "    \"firstWinamnt\":1593643500,\n",
    "    \"firstPrzwnerCo\":17,\n",
    "    \"firstAccumamnt\":27091939500,\n",
    "    \"drwNo\":1181,\n",
    "    \"drwtNo1\":8,\n",
    "    \"drwtNo2\":10,\n",
    "    \"drwtNo3\":14,\n",
    "    \"drwtNo4\":20,\n",
    "    \"drwtNo5\":33,\n",
    "    \"drwtNo6\":41,\n",
    "    \"bnusNo\":28,\n",
    "}"
   ]
  },
  {
   "cell_type": "code",
   "execution_count": null,
   "id": "2f98218a",
   "metadata": {},
   "outputs": [
    {
     "name": "stdout",
     "output_type": "stream",
     "text": [
      "my_numbers [7, 17, 21, 41, 45, 27]\n",
      "real_numbers [41, 20, 33, 10, 14, 8] [28]\n",
      "False\n",
      "꽝\n"
     ]
    }
   ],
   "source": [
    "import random\n",
    "my_numbers = random.sample(range(1, 46), 6)\n",
    "print('my_numbers', my_numbers)\n",
    "\n",
    "# res.text 하면 str로 나옴\n",
    "data = res.json()\n",
    "\n",
    "real_numbers = []\n",
    "bonus = data['bnusNo']\n",
    "\n",
    "\n",
    "# 당첨번호\n",
    "for key, value in data.items():\n",
    "    if key[:-1] == 'drwtNo':\n",
    "        real_numbers.append(value)\n",
    "\n",
    "print('real_numbers', real_numbers, [bonus])\n",
    "\n",
    "same_numbers = set(my_numbers) & set(real_numbers) \n",
    "\n",
    "if len(same_numbers) == 6:\n",
    "    print('1등')\n",
    "elif len(same_numbers) == 5 and bonus in my_numbers:\n",
    "    print('2등')\n",
    "elif len(same_numbers) == 5:\n",
    "    print('3등')\n",
    "elif len(same_numbers) == 4:\n",
    "    print('4등')\n",
    "elif len(same_numbers) == 3:\n",
    "    print('5등')\n",
    "elif len(same_numbers) < 3:\n",
    "    print('꽝')"
   ]
  },
  {
   "cell_type": "code",
   "execution_count": 6,
   "id": "6a4ca791",
   "metadata": {},
   "outputs": [],
   "source": [
    "# 회차, my_numbers를 받으면 당첨 여부를 알려주는 함수\n",
    "def winning(drwNo, my_numbers):\n",
    "    import requests\n",
    "\n",
    "    print(f'my_numbers\\t{my_numbers}')\n",
    "    \n",
    "    # api로 전체 데이터 가져오기\n",
    "    url = 'https://www.dhlottery.co.kr/common.do?method=getLottoNumber&drwNo=' + str(drwNo)\n",
    "    data = requests.get(url).json()\n",
    "\n",
    "    real_numbers = []\n",
    "    bonus = data['bnusNo']\n",
    "\n",
    "\n",
    "    # 당첨번호 확인\n",
    "    for key, value in data.items():\n",
    "        if key[:-1] == 'drwtNo':\n",
    "            real_numbers.append(value)\n",
    "\n",
    "    print(f'real_numbers\\t{real_numbers}{[bonus]}')\n",
    "\n",
    "\n",
    "    same_numbers = set(my_numbers) & set(real_numbers)\n",
    "\n",
    "\n",
    "    if len(same_numbers) == 6:\n",
    "        return '1등'\n",
    "    elif len(same_numbers) == 5 and bonus in my_numbers:\n",
    "        return '2등'\n",
    "    elif len(same_numbers) == 5:\n",
    "        return '3등'\n",
    "    elif len(same_numbers) == 4:\n",
    "        return '4등'\n",
    "    elif len(same_numbers) == 3:\n",
    "        return '5등'\n",
    "    elif len(same_numbers) < 3:\n",
    "        return '꽝'"
   ]
  },
  {
   "cell_type": "code",
   "execution_count": 7,
   "id": "84260cdc",
   "metadata": {},
   "outputs": [
    {
     "name": "stdout",
     "output_type": "stream",
     "text": [
      "my_numbers\t[10, 40, 20, 29, 31, 19]\n",
      "real_numbers\t[41, 20, 33, 10, 14, 8][28]\n"
     ]
    },
    {
     "data": {
      "text/plain": [
       "'꽝'"
      ]
     },
     "execution_count": 7,
     "metadata": {},
     "output_type": "execute_result"
    }
   ],
   "source": [
    "import random\n",
    "my_numbers = random.sample(range(1, 46), 6)\n",
    "\n",
    "winning(1181, my_numbers)"
   ]
  }
 ],
 "metadata": {
  "kernelspec": {
   "display_name": "Python 3",
   "language": "python",
   "name": "python3"
  },
  "language_info": {
   "codemirror_mode": {
    "name": "ipython",
    "version": 3
   },
   "file_extension": ".py",
   "mimetype": "text/x-python",
   "name": "python",
   "nbconvert_exporter": "python",
   "pygments_lexer": "ipython3",
   "version": "3.13.2"
  }
 },
 "nbformat": 4,
 "nbformat_minor": 5
}
