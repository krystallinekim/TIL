{
 "cells": [
  {
   "cell_type": "markdown",
   "id": "c4585162",
   "metadata": {},
   "source": [
    "# [달팽이 순회](https://dailyalgo.kr/ko/problems/75)"
   ]
  },
  {
   "cell_type": "code",
   "execution_count": 1,
   "id": "4954787a",
   "metadata": {},
   "outputs": [
    {
     "data": {
      "text/plain": [
       "[[1, 2, 3, 4, 5],\n",
       " [16, 17, 18, 19, 6],\n",
       " [15, 24, 25, 20, 7],\n",
       " [14, 23, 22, 21, 8],\n",
       " [13, 12, 11, 10, 9]]"
      ]
     },
     "execution_count": 1,
     "metadata": {},
     "output_type": "execute_result"
    }
   ],
   "source": [
    "def solution(n):\n",
    "    board = [[0] * n for _ in range(n)]\n",
    "\n",
    "    r, c = 0, 0\n",
    "    dr = [0, 1, 0, -1]\n",
    "    dc = [1, 0, -1, 0]\n",
    "    idx = 0\n",
    "\n",
    "    board[0][0] = 1\n",
    "\n",
    "    for i in range(2, n**2+1):\n",
    "        nr, nc = r + dr[idx], c + dc[idx]\n",
    "        \n",
    "        if nr < 0 or nr >= n or nc < 0 or nc >= n or board[nr][nc]:\n",
    "            idx = (idx + 1) % 4\n",
    "            nr, nc = r + dr[idx], c + dc[idx]\n",
    "            \n",
    "        board[nr][nc] = i\n",
    "        r, c = nr, nc\n",
    "\n",
    "    return board\n",
    "\n",
    "solution(5)"
   ]
  },
  {
   "cell_type": "markdown",
   "id": "1fe04ea1",
   "metadata": {},
   "source": [
    "# [실습용 로봇](https://school.programmers.co.kr/learn/courses/15009/lessons/121687)"
   ]
  },
  {
   "cell_type": "code",
   "execution_count": 2,
   "id": "c737e55b",
   "metadata": {},
   "outputs": [
    {
     "data": {
      "text/plain": [
       "[2, 2]"
      ]
     },
     "execution_count": 2,
     "metadata": {},
     "output_type": "execute_result"
    }
   ],
   "source": [
    "def solution(commands):\n",
    "\n",
    "    x, y = 0, 0\n",
    "    idx = 0\n",
    "\n",
    "    dx = [0, 1, 0, -1]\n",
    "    dy = [1, 0, -1, 0]\n",
    "\n",
    "    for com in commands:\n",
    "        if com == 'R':\n",
    "            idx = (idx + 1) % 4\n",
    "        if com == 'L':\n",
    "            idx = (idx - 1) % 4 \n",
    "        if com == 'G':\n",
    "            x, y = x + dx[idx], y + dy[idx]\n",
    "        if com == 'B':\n",
    "            x, y = x - dx[idx], y - dy[idx]\n",
    "    return [x, y]\n",
    "        \n",
    "solution(\"GRGLGRG\")"
   ]
  }
 ],
 "metadata": {
  "kernelspec": {
   "display_name": "Python 3",
   "language": "python",
   "name": "python3"
  },
  "language_info": {
   "codemirror_mode": {
    "name": "ipython",
    "version": 3
   },
   "file_extension": ".py",
   "mimetype": "text/x-python",
   "name": "python",
   "nbconvert_exporter": "python",
   "pygments_lexer": "ipython3",
   "version": "3.13.2"
  }
 },
 "nbformat": 4,
 "nbformat_minor": 5
}
