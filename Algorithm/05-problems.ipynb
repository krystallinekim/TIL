{
 "cells": [
  {
   "cell_type": "markdown",
   "id": "47479a2c",
   "metadata": {},
   "source": [
    "# [신고 결과 받기](https://school.programmers.co.kr/learn/courses/30/lessons/92334)"
   ]
  },
  {
   "cell_type": "code",
   "execution_count": 1,
   "id": "e52df578",
   "metadata": {},
   "outputs": [
    {
     "data": {
      "text/plain": [
       "[2, 1, 1, 0]"
      ]
     },
     "execution_count": 1,
     "metadata": {},
     "output_type": "execute_result"
    }
   ],
   "source": [
    "def solution(id_list, report, k):\n",
    "\n",
    "    id_mat = [[0] * len(id_list) for _ in range(len(id_list))]\n",
    "\n",
    "    for names in set(report):\n",
    "        name = names.split()\n",
    "        id_mat[id_list.index(name[0])][id_list.index(name[1])] += 1\n",
    "\n",
    "    ans = [0] * len(id_list)\n",
    "\n",
    "    t_id_mat = [list(row) for row in zip(*id_mat)]\n",
    "\n",
    "    for i in range(len(id_list)):\n",
    "        if sum(t_id_mat[i]) >= k:\n",
    "            for j in range(len(id_list)):\n",
    "                ans[j] += t_id_mat[i][j]\n",
    "\n",
    "    return ans\n",
    "\n",
    "id_list = [\"muzi\", \"frodo\", \"apeach\", \"neo\"]\n",
    "report = [\"muzi frodo\",\"apeach frodo\",\"frodo neo\",\"muzi neo\",\"apeach muzi\"]\t\n",
    "k = 2\n",
    "solution(id_list, report, k)"
   ]
  },
  {
   "cell_type": "markdown",
   "id": "93a42467",
   "metadata": {},
   "source": [
    "# [그래프 탐색](https://dailyalgo.kr/ko/problems/28)"
   ]
  },
  {
   "cell_type": "code",
   "execution_count": 2,
   "id": "8c1c3c79",
   "metadata": {},
   "outputs": [
    {
     "data": {
      "text/plain": [
       "5"
      ]
     },
     "execution_count": 2,
     "metadata": {},
     "output_type": "execute_result"
    }
   ],
   "source": [
    "def solution(n, edges):\n",
    "\n",
    "    adj_list = [[] for _ in range(n+1)]\n",
    "\n",
    "    for edge in edges:\n",
    "        adj_list[edge[0]].append(edge[1])\n",
    "        adj_list[edge[1]].append(edge[0])\n",
    "\n",
    "    stack = [1]\n",
    "    visited = set()\n",
    "    trail = []\n",
    "\n",
    "    while stack:\n",
    "        cur = stack.pop()\n",
    "        if cur not in visited:\n",
    "            trail.append(cur)\n",
    "        visited.add(cur)\n",
    "        \n",
    "        for nxt in adj_list[cur]:\n",
    "            if nxt not in visited:\n",
    "                stack.append(nxt)\n",
    "        \n",
    "    return len(trail)\n",
    "\n",
    "n = 6\n",
    "edges = [[1,2],[1,3],[2,3],[2,4],[3,5]]\t\n",
    "solution(n, edges)"
   ]
  },
  {
   "cell_type": "markdown",
   "id": "72fb8eae",
   "metadata": {},
   "source": [
    "# [전력망을 둘로 나누기](https://school.programmers.co.kr/learn/courses/30/lessons/86971)"
   ]
  },
  {
   "cell_type": "code",
   "execution_count": 3,
   "id": "e1522201",
   "metadata": {},
   "outputs": [
    {
     "data": {
      "text/plain": [
       "3"
      ]
     },
     "execution_count": 3,
     "metadata": {},
     "output_type": "execute_result"
    }
   ],
   "source": [
    "def solution(n, wires):\n",
    "\n",
    "    tower_diff = n\n",
    "\n",
    "    for i in range(len(wires)):\n",
    "        wires_cut = wires.copy()\n",
    "        wires_cut.pop(i)\n",
    "        adj_list = [[] for _ in range(n+1)]\n",
    "        for wire in wires_cut:\n",
    "            adj_list[wire[0]].append(wire[1])\n",
    "            adj_list[wire[1]].append(wire[0])\n",
    "\n",
    "        stack = [1]\n",
    "        visited = set()\n",
    "        tower_left = 0\n",
    "\n",
    "        while stack:\n",
    "            cur = stack.pop()\n",
    "            if cur not in visited:\n",
    "                tower_left += 1\n",
    "            visited.add(cur)\n",
    "\n",
    "            for nxt in adj_list[cur]:\n",
    "                if nxt not in visited:\n",
    "                    stack.append(nxt)\n",
    "\n",
    "        tower_diff = min(tower_diff, abs(n - 2 * tower_left))\n",
    "    return tower_diff\n",
    "\n",
    "n = 9\n",
    "wires = [[1,3],[2,3],[3,4],[4,5],[4,6],[4,7],[7,8],[7,9]]\t\n",
    "solution(n, wires)"
   ]
  },
  {
   "cell_type": "markdown",
   "id": "f567a150",
   "metadata": {},
   "source": [
    "# [게임 맵 최단거리](https://school.programmers.co.kr/learn/courses/30/lessons/1844)"
   ]
  },
  {
   "cell_type": "code",
   "execution_count": 5,
   "id": "43de2727",
   "metadata": {},
   "outputs": [
    {
     "data": {
      "text/plain": [
       "11"
      ]
     },
     "execution_count": 5,
     "metadata": {},
     "output_type": "execute_result"
    }
   ],
   "source": [
    "from collections import deque\n",
    "\n",
    "def solution(maps):\n",
    "    rrange = len(maps)-1\n",
    "    crange = len(maps[0])-1\n",
    "    Q = deque([(0,0)])\n",
    "    dr = [1, -1, 0, 0]\n",
    "    dc = [0, 0, 1, -1]\n",
    "    visited = set()\n",
    "\n",
    "    while Q:\n",
    "        cur = Q.popleft()\n",
    "        if cur[0] == rrange and cur[1] == crange:\n",
    "            return maps[cur[0]][cur[1]]\n",
    "        \n",
    "        \n",
    "        for i in range(4):\n",
    "            nr = cur[0] + dr[i]\n",
    "            nc = cur[1] + dc[i]\n",
    "            if 0 <= nr <= rrange and 0 <= nc <= crange and maps[nr][nc] != 0 and (nr, nc) not in visited:\n",
    "                maps[nr][nc] = maps[cur[0]][cur[1]] + 1\n",
    "                visited.add((nr, nc))\n",
    "                Q.append((nr, nc))\n",
    "                \n",
    "\n",
    "    return -1\n",
    "\n",
    "maps = [[1,0,1,1,1],[1,0,1,0,1],[1,0,1,1,1],[1,1,1,0,1],[0,0,0,0,1]]\t\n",
    "solution(maps)"
   ]
  },
  {
   "cell_type": "markdown",
   "id": "e486dc2c",
   "metadata": {},
   "source": [
    "# [보물 지도](https://school.programmers.co.kr/learn/courses/15009/lessons/121690)"
   ]
  },
  {
   "cell_type": "code",
   "execution_count": 6,
   "id": "06baf324",
   "metadata": {},
   "outputs": [
    {
     "data": {
      "text/plain": [
       "5"
      ]
     },
     "execution_count": 6,
     "metadata": {},
     "output_type": "execute_result"
    }
   ],
   "source": [
    "from collections import deque\n",
    "\n",
    "def solution(n, m, hole):\n",
    "    maps = [[1] * m for _ in range(n)]\n",
    "    \n",
    "    for r, c in hole:\n",
    "        maps[r-1][c-1] = 0\n",
    "\n",
    "    Q = deque([(0,0,True,0)])\n",
    "    dir = [(1,0), (-1,0), (0,1), (0,-1)]\n",
    "    visited = set([(0,0,True)])\n",
    "        \n",
    "    def delta_search(x, y, jump, is_shoe, move):\n",
    "           \n",
    "        for i in range(4):\n",
    "            nx = x + dir[i][0] * jump\n",
    "            ny = y + dir[i][1] * jump\n",
    "            \n",
    "            if 0 <= nx < n and 0 <= ny < m and maps[nx][ny] != 0 and (nx, ny, is_shoe) not in visited:\n",
    "                visited.add((nx, ny, is_shoe))\n",
    "                Q.append([nx, ny, is_shoe, move+1])\n",
    "\n",
    "    while Q:\n",
    "        x, y, is_shoe, move = Q.popleft()\n",
    "        if x == n-1 and y == m-1:\n",
    "            if is_shoe:\n",
    "                return move-1\n",
    "            return move\n",
    "        \n",
    "        if is_shoe:  # 신발 있음\n",
    "            delta_search(x, y, 1, True, move) # 신발 남김\n",
    "            delta_search(x, y, 2, False, move) # 신발 사용\n",
    "        else:     # 신발 없음\n",
    "            delta_search(x, y, 1, False, move) # 신발 없음\n",
    "    return -1\n",
    "\n",
    "n, m = 4, 4\n",
    "hole = [[2, 3], [3, 3]]\n",
    "solution(n, m, hole)"
   ]
  }
 ],
 "metadata": {
  "kernelspec": {
   "display_name": "Python 3",
   "language": "python",
   "name": "python3"
  },
  "language_info": {
   "codemirror_mode": {
    "name": "ipython",
    "version": 3
   },
   "file_extension": ".py",
   "mimetype": "text/x-python",
   "name": "python",
   "nbconvert_exporter": "python",
   "pygments_lexer": "ipython3",
   "version": "3.13.2"
  }
 },
 "nbformat": 4,
 "nbformat_minor": 5
}
