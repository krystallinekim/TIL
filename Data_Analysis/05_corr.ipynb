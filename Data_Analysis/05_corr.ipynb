{
 "cells": [
  {
   "cell_type": "markdown",
   "id": "73d3ec10",
   "metadata": {},
   "source": [
    "# Correlation(상관관계)"
   ]
  },
  {
   "cell_type": "code",
   "execution_count": null,
   "id": "99b06bd5",
   "metadata": {},
   "outputs": [],
   "source": [
    "import pandas as pd\n",
    "import matplotlib.pyplot as plt\n",
    "import seaborn as sns\n",
    "import warnings\n",
    "from IPython.display import display\n",
    "\n",
    "warnings.filterwarnings('ignore')\n",
    "\n",
    "plt.rcParams['font.family'] = 'Malgun Gothic'\n",
    "plt.rcParams['axes.unicode_minus'] = False\n",
    "\n",
    "df = pd.read_csv('./OnlineRetail.csv', encoding='ISO-8859-1')"
   ]
  },
  {
   "cell_type": "code",
   "execution_count": null,
   "id": "cfca5ad9",
   "metadata": {},
   "outputs": [],
   "source": [
    "from da_utils import outlier\n",
    "from da_utils import profile, patterns"
   ]
  },
  {
   "cell_type": "code",
   "execution_count": null,
   "id": "5a1a1d8f",
   "metadata": {},
   "outputs": [],
   "source": [
    "profile.get_data_profile(df)"
   ]
  },
  {
   "cell_type": "code",
   "execution_count": null,
   "id": "7d4f73bc",
   "metadata": {},
   "outputs": [],
   "source": [
    "patterns.analyze_missing_patterns(df)"
   ]
  },
  {
   "cell_type": "code",
   "execution_count": null,
   "id": "27f65fe1",
   "metadata": {},
   "outputs": [],
   "source": [
    "# 결측치 처리 후 실행하기\n",
    "outlier.outlier_detection(df)"
   ]
  },
  {
   "cell_type": "code",
   "execution_count": null,
   "id": "ede45f8a",
   "metadata": {},
   "outputs": [],
   "source": []
  }
 ],
 "metadata": {
  "kernelspec": {
   "display_name": "Python 3",
   "language": "python",
   "name": "python3"
  },
  "language_info": {
   "codemirror_mode": {
    "name": "ipython",
    "version": 3
   },
   "file_extension": ".py",
   "mimetype": "text/x-python",
   "name": "python",
   "nbconvert_exporter": "python",
   "pygments_lexer": "ipython3",
   "version": "3.13.2"
  }
 },
 "nbformat": 4,
 "nbformat_minor": 5
}
