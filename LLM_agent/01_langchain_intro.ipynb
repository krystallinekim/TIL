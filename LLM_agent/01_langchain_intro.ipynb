{
 "cells": [
  {
   "cell_type": "markdown",
   "id": "6161bd71",
   "metadata": {},
   "source": [
    "# 랭체인 입문"
   ]
  }
 ],
 "metadata": {
  "language_info": {
   "name": "python"
  }
 },
 "nbformat": 4,
 "nbformat_minor": 5
}
