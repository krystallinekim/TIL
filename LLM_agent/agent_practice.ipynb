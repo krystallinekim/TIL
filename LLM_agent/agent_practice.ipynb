{
 "cells": [
  {
   "cell_type": "markdown",
   "id": "3aaf1089",
   "metadata": {},
   "source": [
    "# Agent 작성\n",
    "\n",
    "주제 - 내가 배운 모든 걸 알고 있는 학습 조교\n",
    "\n",
    "data - TIL 안의 모든 md 파일\n",
    "\n",
    "Tools: RAG, 웹서치\n",
    "\n"
   ]
  },
  {
   "cell_type": "code",
   "execution_count": 29,
   "id": "f8f483dd",
   "metadata": {},
   "outputs": [
    {
     "data": {
      "text/plain": [
       "True"
      ]
     },
     "execution_count": 29,
     "metadata": {},
     "output_type": "execute_result"
    }
   ],
   "source": [
    "# base\n",
    "from dotenv import load_dotenv\n",
    "from langchain_openai import ChatOpenAI\n",
    "\n",
    "# agent\n",
    "from langchain.agents import create_openai_tools_agent, AgentExecutor\n",
    "from langchain_core.prompts import ChatPromptTemplate, MessagesPlaceholder\n",
    "from langchain_core.runnables import RunnablePassthrough, RunnableLambda\n",
    "\n",
    "# memory\n",
    "from langchain.memory import ConversationBufferMemory\n",
    "\n",
    "# web search\n",
    "from langchain_tavily import TavilySearch\n",
    "\n",
    "# RAG\n",
    "from langchain_community.document_loaders import DirectoryLoader, TextLoader\n",
    "from langchain_text_splitters import MarkdownTextSplitter\n",
    "from langchain_openai import OpenAIEmbeddings\n",
    "from langchain_community.vectorstores import Chroma\n",
    "from langchain.tools.retriever import create_retriever_tool\n",
    "\n",
    "# 출력파서\n",
    "from pydantic import BaseModel, Field\n",
    "\n",
    "load_dotenv()"
   ]
  },
  {
   "cell_type": "markdown",
   "id": "1c4313fb",
   "metadata": {},
   "source": [
    "## 기초\n",
    "### LLM"
   ]
  },
  {
   "cell_type": "code",
   "execution_count": 6,
   "id": "7ef512f1",
   "metadata": {},
   "outputs": [],
   "source": [
    "# LLM\n",
    "llm = ChatOpenAI(model='gpt-4.1-nano', temperature=0)"
   ]
  },
  {
   "cell_type": "markdown",
   "id": "cc68783d",
   "metadata": {},
   "source": [
    "### 프롬프트"
   ]
  },
  {
   "cell_type": "code",
   "execution_count": null,
   "id": "f01bdd01",
   "metadata": {},
   "outputs": [],
   "source": [
    "# 프롬프트\n",
    "\n",
    "system_message = f'''\n",
    "너는 웹 검색도 가능하고, 사용자가 AI 기반 데이터 분석가 양성 과정에서 공부한 내용도 검색할 수 있는 어시스턴트야.\n",
    "\n",
    "\n",
    "\n",
    "사용자가 일반적인 질문을 하거나, 최신성 혹은 팩트 체크가 필요하자 않다면 도구를 사용하지 않아도 좋아.\n",
    "\n",
    "만약 답을 모르겠다면, 그냥 답을 모르겠다고 말해.\n",
    "\n",
    "가장 의미있는 검색결과들을 요약해서 질문에 답해줘.\n",
    "\n",
    "'''\n",
    "\n",
    "\n",
    "prompt = ChatPromptTemplate([\n",
    "    ('system', system_message),\n",
    "    MessagesPlaceholder(variable_name='chat_history'),\n",
    "    ('human', '{input}'),\n",
    "    MessagesPlaceholder(variable_name='agent_scratchpad')\n",
    "])\n"
   ]
  },
  {
   "cell_type": "markdown",
   "id": "a5da5c0f",
   "metadata": {},
   "source": [
    "### 메모리"
   ]
  },
  {
   "cell_type": "code",
   "execution_count": 8,
   "id": "0dc8f269",
   "metadata": {},
   "outputs": [],
   "source": [
    "# 메모리\n",
    "memory = ConversationBufferMemory(\n",
    "    return_messages=True,\n",
    "    memory_key='chat_history'\n",
    ")"
   ]
  },
  {
   "cell_type": "markdown",
   "id": "08658407",
   "metadata": {},
   "source": [
    "## Tools\n",
    "### 웹서치"
   ]
  },
  {
   "cell_type": "code",
   "execution_count": 31,
   "id": "a603c8e9",
   "metadata": {},
   "outputs": [],
   "source": [
    "# 웹서치\n",
    "search_tool = TavilySearch(\n",
    "    max_results=5,\n",
    "    topic='general',\n",
    "    search_depth='advanced'\n",
    ")"
   ]
  },
  {
   "cell_type": "markdown",
   "id": "df88646f",
   "metadata": {},
   "source": [
    "### RAG"
   ]
  },
  {
   "cell_type": "code",
   "execution_count": null,
   "id": "e64d380e",
   "metadata": {},
   "outputs": [
    {
     "name": "stderr",
     "output_type": "stream",
     "text": [
      "100%|██████████| 47/47 [00:00<00:00, 5331.50it/s]\n"
     ]
    }
   ],
   "source": [
    "# 사전처리\n",
    "def load_markdown(folder_path):\n",
    "    loader = DirectoryLoader(\n",
    "        folder_path,\n",
    "        glob='**/*.md',\n",
    "        loader_cls=lambda path: TextLoader(path, encoding=\"utf-8\"),\n",
    "        show_progress=True\n",
    "    )\n",
    "    docs = loader.load()\n",
    "    return docs\n",
    "\n",
    "folder_path = '../'\n",
    "documents = load_markdown(folder_path)\n",
    "\n",
    "text_splitter = MarkdownTextSplitter(\n",
    "    chunk_size=1000,\n",
    "    chunk_overlap=200\n",
    ")\n",
    "\n",
    "split_docs = text_splitter.split_documents(documents)\n",
    "\n",
    "embedding = OpenAIEmbeddings()\n",
    "\n",
    "vectorstore = Chroma.from_documents(documents=split_docs, embedding=embedding)"
   ]
  },
  {
   "cell_type": "code",
   "execution_count": 30,
   "id": "c22756bf",
   "metadata": {},
   "outputs": [],
   "source": [
    "# RAG\n",
    "retriever = vectorstore.as_retriever()\n",
    "\n",
    "rag_tool = create_retriever_tool(\n",
    "    retriever,\n",
    "    name='md_search',\n",
    "    description='수업자료에서 관련된 내용을 검색합니다'\n",
    ")"
   ]
  },
  {
   "cell_type": "code",
   "execution_count": null,
   "id": "858675ae",
   "metadata": {},
   "outputs": [],
   "source": [
    "# Tools 설정\n",
    "tools = [search_tool, rag_tool]"
   ]
  },
  {
   "cell_type": "markdown",
   "id": "03ab83a7",
   "metadata": {},
   "source": [
    "## 조합"
   ]
  },
  {
   "cell_type": "code",
   "execution_count": null,
   "id": "b2f9d9bc",
   "metadata": {},
   "outputs": [],
   "source": [
    "agent = create_openai_tools_agent(\n",
    "    llm=llm,\n",
    "    tools=tools,\n",
    "    prompt=prompt\n",
    ")\n",
    "\n",
    "agent_executor = AgentExecutor(\n",
    "    agent=agent,\n",
    "    tools=tools,\n",
    "    memory=memory,\n",
    "    verbose=True    \n",
    ")\n",
    "\n",
    "agent_executor.invoke({'input': ''})"
   ]
  }
 ],
 "metadata": {
  "kernelspec": {
   "display_name": "Python 3",
   "language": "python",
   "name": "python3"
  },
  "language_info": {
   "codemirror_mode": {
    "name": "ipython",
    "version": 3
   },
   "file_extension": ".py",
   "mimetype": "text/x-python",
   "name": "python",
   "nbconvert_exporter": "python",
   "pygments_lexer": "ipython3",
   "version": "3.13.2"
  }
 },
 "nbformat": 4,
 "nbformat_minor": 5
}
