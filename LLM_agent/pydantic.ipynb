{
 "cells": [
  {
   "cell_type": "markdown",
   "id": "82849414",
   "metadata": {},
   "source": [
    "# Pydantic\n",
    "\n",
    "파이썬 데이터 검증 라이브러리"
   ]
  },
  {
   "cell_type": "code",
   "execution_count": 13,
   "id": "c6935af0",
   "metadata": {},
   "outputs": [
    {
     "name": "stdout",
     "output_type": "stream",
     "text": [
      "id=1 name='neo' is_active=True\n"
     ]
    },
    {
     "data": {
      "text/plain": [
       "{'id': 2, 'name': 'smith', 'is_active': True}"
      ]
     },
     "execution_count": 13,
     "metadata": {},
     "output_type": "execute_result"
    }
   ],
   "source": [
    "# BaseModel: 데이터 검증용 클래스를 만들기 위한 부모 클래스\n",
    "from pydantic import BaseModel\n",
    "\n",
    "data = {\n",
    "    \"id\": 1,\n",
    "    \"name\": \"neo\",\n",
    "    \"is_active\": True\n",
    "}\n",
    "\n",
    "# 일반적으로 이런 데이터들이 정상적으로 들어가 있는지 확인하려면 복잡하게 하드코딩을 해야 함\n",
    "\n",
    "# pydantic 이용시\n",
    "class User(BaseModel):\n",
    "    id: int\n",
    "    name: str\n",
    "    is_active: bool = True\n",
    "    \n",
    "u1 = User(id=1, name='neo')\n",
    "print(u1)  # id, name 잘 들어가고, is_active는 기본값도 True로 설정됨\n",
    "\n",
    "u2 = User(id='2', name='smith')  # id에 str를 넣으면 에러가 난다, 변환 가능한 숫자면 알아서 변환도 해줌\n",
    "u2.model_dump()  # python 객체(id=2, name=smith, is_active=True)를 한번에 딕셔너리로 변환도 해준다(나중에 JSON으로 변환하기 위함)"
   ]
  },
  {
   "cell_type": "code",
   "execution_count": 17,
   "id": "c3399aa5",
   "metadata": {},
   "outputs": [],
   "source": [
    "# Field: 추가 제약조건을 거는 함수\n",
    "from pydantic import Field\n",
    "\n",
    "class Order(BaseModel):\n",
    "    quantity: int = Field(gt=0, description='주문 수량 0 초과')  # gt: greater than, 초과\n",
    "    price: float = Field(ge=100, description='최소 단가는 100원 이상')  # ge: greater equal, 이상\n",
    "    \n",
    "\n",
    "o1 = Order(quantity=3, price=300)\n",
    "# o2 = Order(quantity=-1, price=30)  # ValidationError: 2 validation errors for Order"
   ]
  },
  {
   "cell_type": "code",
   "execution_count": null,
   "id": "ef591e6c",
   "metadata": {},
   "outputs": [
    {
     "ename": "ValidationError",
     "evalue": "1 validation error for Account\npassword\n  Value error, 비밀번호는 8자 이상이어야 합니다 [type=value_error, input_value='short', input_type=str]\n    For further information visit https://errors.pydantic.dev/2.11/v/value_error",
     "output_type": "error",
     "traceback": [
      "\u001b[31m---------------------------------------------------------------------------\u001b[39m",
      "\u001b[31mValidationError\u001b[39m                           Traceback (most recent call last)",
      "\u001b[36mCell\u001b[39m\u001b[36m \u001b[39m\u001b[32mIn[19]\u001b[39m\u001b[32m, line 15\u001b[39m\n\u001b[32m     12\u001b[39m             \u001b[38;5;28;01mraise\u001b[39;00m \u001b[38;5;167;01mValueError\u001b[39;00m(\u001b[33m'\u001b[39m\u001b[33m비밀번호는 8자 이상이어야 합니다\u001b[39m\u001b[33m'\u001b[39m)  \u001b[38;5;66;03m# raise: 에러를 내다\u001b[39;00m\n\u001b[32m     13\u001b[39m         \u001b[38;5;28;01mreturn\u001b[39;00m v\n\u001b[32m---> \u001b[39m\u001b[32m15\u001b[39m a = \u001b[43mAccount\u001b[49m\u001b[43m(\u001b[49m\u001b[43musername\u001b[49m\u001b[43m=\u001b[49m\u001b[33;43m'\u001b[39;49m\u001b[33;43mbob\u001b[39;49m\u001b[33;43m'\u001b[39;49m\u001b[43m,\u001b[49m\u001b[43m \u001b[49m\u001b[43mpassword\u001b[49m\u001b[43m=\u001b[49m\u001b[33;43m'\u001b[39;49m\u001b[33;43mshort\u001b[39;49m\u001b[33;43m'\u001b[39;49m\u001b[43m)\u001b[49m\n",
      "\u001b[36mFile \u001b[39m\u001b[32mc:\\Users\\IP_Time\\AppData\\Local\\Programs\\Python\\Python313\\Lib\\site-packages\\pydantic\\main.py:253\u001b[39m, in \u001b[36mBaseModel.__init__\u001b[39m\u001b[34m(self, **data)\u001b[39m\n\u001b[32m    251\u001b[39m \u001b[38;5;66;03m# `__tracebackhide__` tells pytest and some other tools to omit this function from tracebacks\u001b[39;00m\n\u001b[32m    252\u001b[39m __tracebackhide__ = \u001b[38;5;28;01mTrue\u001b[39;00m\n\u001b[32m--> \u001b[39m\u001b[32m253\u001b[39m validated_self = \u001b[38;5;28;43mself\u001b[39;49m\u001b[43m.\u001b[49m\u001b[43m__pydantic_validator__\u001b[49m\u001b[43m.\u001b[49m\u001b[43mvalidate_python\u001b[49m\u001b[43m(\u001b[49m\u001b[43mdata\u001b[49m\u001b[43m,\u001b[49m\u001b[43m \u001b[49m\u001b[43mself_instance\u001b[49m\u001b[43m=\u001b[49m\u001b[38;5;28;43mself\u001b[39;49m\u001b[43m)\u001b[49m\n\u001b[32m    254\u001b[39m \u001b[38;5;28;01mif\u001b[39;00m \u001b[38;5;28mself\u001b[39m \u001b[38;5;129;01mis\u001b[39;00m \u001b[38;5;129;01mnot\u001b[39;00m validated_self:\n\u001b[32m    255\u001b[39m     warnings.warn(\n\u001b[32m    256\u001b[39m         \u001b[33m'\u001b[39m\u001b[33mA custom validator is returning a value other than `self`.\u001b[39m\u001b[38;5;130;01m\\n\u001b[39;00m\u001b[33m'\u001b[39m\n\u001b[32m    257\u001b[39m         \u001b[33m\"\u001b[39m\u001b[33mReturning anything other than `self` from a top level model validator isn\u001b[39m\u001b[33m'\u001b[39m\u001b[33mt supported when validating via `__init__`.\u001b[39m\u001b[38;5;130;01m\\n\u001b[39;00m\u001b[33m\"\u001b[39m\n\u001b[32m    258\u001b[39m         \u001b[33m'\u001b[39m\u001b[33mSee the `model_validator` docs (https://docs.pydantic.dev/latest/concepts/validators/#model-validators) for more details.\u001b[39m\u001b[33m'\u001b[39m,\n\u001b[32m    259\u001b[39m         stacklevel=\u001b[32m2\u001b[39m,\n\u001b[32m    260\u001b[39m     )\n",
      "\u001b[31mValidationError\u001b[39m: 1 validation error for Account\npassword\n  Value error, 비밀번호는 8자 이상이어야 합니다 [type=value_error, input_value='short', input_type=str]\n    For further information visit https://errors.pydantic.dev/2.11/v/value_error"
     ]
    }
   ],
   "source": [
    "# field_validator: 더 복잡한 제약조건\n",
    "from pydantic import field_validator\n",
    "\n",
    "class Account(BaseModel):\n",
    "    username: str\n",
    "    password: str \n",
    "    \n",
    "    # password에 다음 함수를 적용\n",
    "    @field_validator('password')\n",
    "    def check_password_length(cls, v):\n",
    "        if len(v) < 8:  # v: value, password의 value의 길이가 8자 미만이면 에러를 내겠다는 것\n",
    "            raise ValueError('비밀번호는 8자 이상이어야 합니다')  # raise: 에러를 내다\n",
    "        return v\n",
    "\n",
    "a = Account(username='bob', password='short')\n",
    "\n",
    "# 답변의 형태를 이걸로 고정하고, LLM에게 이대로 답변을 달라고 넘기면 validation을 통과한 답변만 돌려줌"
   ]
  }
 ],
 "metadata": {
  "kernelspec": {
   "display_name": "Python 3",
   "language": "python",
   "name": "python3"
  },
  "language_info": {
   "codemirror_mode": {
    "name": "ipython",
    "version": 3
   },
   "file_extension": ".py",
   "mimetype": "text/x-python",
   "name": "python",
   "nbconvert_exporter": "python",
   "pygments_lexer": "ipython3",
   "version": "3.13.2"
  }
 },
 "nbformat": 4,
 "nbformat_minor": 5
}
