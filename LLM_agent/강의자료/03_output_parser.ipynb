{
 "cells": [
  {
   "cell_type": "markdown",
   "id": "8a15f4ab",
   "metadata": {},
   "source": [
    "# 출력 파서(`OutputParser`)\n",
    "\n",
    "LLM의 출력을 더 유용, 구조화된 형태로 변환함\n",
    "\n",
    "1. 구조화: LLM의 자유분방한 형식의 출력을 JSON, dict등의 형태로 **변환**할 수 있다. -> 쓰기 편함\n",
    "2. 일관성: 항상 일관된 출력형식을 주기 때문에, 후속 처리에 용이함\n",
    "3. 유연성: 다양한 출력 형식이 존재. JSON, list, dict 등등 다 가능함"
   ]
  },
  {
   "cell_type": "code",
   "execution_count": 1,
   "id": "70e20a54",
   "metadata": {},
   "outputs": [],
   "source": [
    "from dotenv import load_dotenv\n",
    "from langchain_openai import ChatOpenAI\n",
    "from langchain_core.prompts import PromptTemplate\n",
    "\n",
    "load_dotenv()\n",
    "llm = ChatOpenAI(model='gpt-4.1-nano')"
   ]
  },
  {
   "cell_type": "markdown",
   "id": "27a64b17",
   "metadata": {},
   "source": [
    "## PydanticOutputParser\n",
    "\n",
    "파이썬 객체로 볼 수 있게 바꿔주는 편\n",
    "\n",
    "JSON화는 JsonOutputParser가 따로 있긴 함"
   ]
  },
  {
   "cell_type": "code",
   "execution_count": null,
   "id": "4c0d3c0d",
   "metadata": {},
   "outputs": [],
   "source": [
    "from langchain_core.output_parsers import PydanticOutputParser\n",
    "from pydantic import BaseModel, Field"
   ]
  },
  {
   "cell_type": "code",
   "execution_count": 11,
   "id": "b296c3e9",
   "metadata": {},
   "outputs": [],
   "source": [
    "# 일반적인 이메일 형식, input\n",
    "email_conversation = \"\"\"From: 김철수 (chulsoo.kim@bikecorporation.me)\n",
    "To: 이은채 (eunchae@teddyinternational.me)\n",
    "Subject: \"ZENESIS\" 자전거 유통 협력 및 미팅 일정 제안\n",
    "\n",
    "안녕하세요, 이은채 대리님,\n",
    "\n",
    "저는 바이크코퍼레이션의 김철수 상무입니다. 최근 보도자료를 통해 귀사의 신규 자전거 \"ZENESIS\"에 대해 알게 되었습니다. 바이크코퍼레이션은 자전거 제조 및 유통 분야에서 혁신과 품질을 선도하는 기업으로, 이 분야에서의 장기적인 경험과 전문성을 가지고 있습니다.\n",
    "\n",
    "ZENESIS 모델에 대한 상세한 브로슈어를 요청드립니다. 특히 기술 사양, 배터리 성능, 그리고 디자인 측면에 대한 정보가 필요합니다. 이를 통해 저희가 제안할 유통 전략과 마케팅 계획을 보다 구체화할 수 있을 것입니다.\n",
    "\n",
    "또한, 협력 가능성을 더 깊이 논의하기 위해 다음 주 화요일(1월 15일) 오전 10시에 미팅을 제안합니다. 귀사 사무실에서 만나 이야기를 나눌 수 있을까요?\n",
    "\n",
    "감사합니다.\n",
    "\n",
    "김철수\n",
    "상무이사\n",
    "바이크코퍼레이션\n",
    "\"\"\""
   ]
  },
  {
   "cell_type": "code",
   "execution_count": 20,
   "id": "3cf780a1",
   "metadata": {},
   "outputs": [
    {
     "name": "stdout",
     "output_type": "stream",
     "text": [
      "\n",
      "아래 이메일에서 핵심 정보를 추출해 줘\n",
      "---\n",
      "From: 김철수 (chulsoo.kim@bikecorporation.me)\n",
      "To: 이은채 (eunchae@teddyinternational.me)\n",
      "Subject: \"ZENESIS\" 자전거 유통 협력 및 미팅 일정 제안\n",
      "\n",
      "안녕하세요, 이은채 대리님,\n",
      "\n",
      "저는 바이크코퍼레이션의 김철수 상무입니다. 최근 보도자료를 통해 귀사의 신규 자전거 \"ZENESIS\"에 대해 알게 되었습니다. 바이크코퍼레이션은 자전거 제조 및 유통 분야에서 혁신과 품질을 선도하는 기업으로, 이 분야에서의 장기적인 경험과 전문성을 가지고 있습니다.\n",
      "\n",
      "ZENESIS 모델에 대한 상세한 브로슈어를 요청드립니다. 특히 기술 사양, 배터리 성능, 그리고 디자인 측면에 대한 정보가 필요합니다. 이를 통해 저희가 제안할 유통 전략과 마케팅 계획을 보다 구체화할 수 있을 것입니다.\n",
      "\n",
      "또한, 협력 가능성을 더 깊이 논의하기 위해 다음 주 화요일(1월 15일) 오전 10시에 미팅을 제안합니다. 귀사 사무실에서 만나 이야기를 나눌 수 있을까요?\n",
      "\n",
      "감사합니다.\n",
      "\n",
      "김철수\n",
      "상무이사\n",
      "바이크코퍼레이션\n",
      "\n",
      "\n"
     ]
    }
   ],
   "source": [
    "prompt = PromptTemplate.from_template(\"\"\"\n",
    "아래 이메일에서 핵심 정보를 추출해 줘\n",
    "---\n",
    "{email_conversation}\n",
    "\"\"\")\n",
    "\n",
    "print(prompt.format(email_conversation=email_conversation))"
   ]
  },
  {
   "cell_type": "code",
   "execution_count": 21,
   "id": "2cbd40f7",
   "metadata": {},
   "outputs": [
    {
     "name": "stdout",
     "output_type": "stream",
     "text": [
      "아래는 이메일의 핵심 정보입니다:\n",
      "\n",
      "1. 발신인: 김철수 상무(바이크코퍼레이션)\n",
      "2. 수신인: 이은채 대리(티디인터내셔널)\n",
      "3. 주제: \"ZENESIS\" 자전거 유통 협력 및 미팅 일정 제안\n",
      "4. 요청 내용:\n",
      "   - \"ZENESIS\" 모델의 상세 브로슈어 요청\n",
      "   - 포함 요청 항목: 기술 사양, 배터리 성능, 디자인 정보\n",
      "5. 미팅 일정:\n",
      "   - 날짜 및 시간: 1월 15일(화요일) 오전 10시\n",
      "   - 장소: 귀사(티디인터내셔널) 사무실\n",
      "6. 목적:\n",
      "   - 유통 전략 및 마케팅 계획 구체화\n",
      "   - 협력 가능성 논의\n"
     ]
    }
   ],
   "source": [
    "chain = prompt | llm\n",
    "res = chain.invoke({'email_conversation': email_conversation}).content\n",
    "print(res)  # 사람용 요약으로는 훌륭하지만, 구조화된 답변은 아님. 모든 이메일을 정해진 포맷에 맞게 정리하고 싶다면?"
   ]
  },
  {
   "cell_type": "code",
   "execution_count": 32,
   "id": "9182f69f",
   "metadata": {},
   "outputs": [
    {
     "name": "stdout",
     "output_type": "stream",
     "text": [
      "The output should be formatted as a JSON instance that conforms to the JSON schema below.\n",
      "\n",
      "As an example, for the schema {\"properties\": {\"foo\": {\"title\": \"Foo\", \"description\": \"a list of strings\", \"type\": \"array\", \"items\": {\"type\": \"string\"}}}, \"required\": [\"foo\"]}\n",
      "the object {\"foo\": [\"bar\", \"baz\"]} is a well-formatted instance of the schema. The object {\"properties\": {\"foo\": [\"bar\", \"baz\"]}} is not well-formatted.\n",
      "\n",
      "Here is the output schema:\n",
      "```\n",
      "{\"properties\": {\"person\": {\"description\": \"메일 보낸 사람\", \"title\": \"Person\", \"type\": \"string\"}, \"email\": {\"description\": \"메일 보낸 사람의 메일 주소\", \"title\": \"Email\", \"type\": \"string\"}, \"subject\": {\"description\": \"메일 제목\", \"title\": \"Subject\", \"type\": \"string\"}, \"summary\": {\"description\": \"메일 본문 요약\", \"title\": \"Summary\", \"type\": \"string\"}, \"date\": {\"description\": \"메일에 언급된 미팅 날짜와 시간\", \"title\": \"Date\", \"type\": \"string\"}}, \"required\": [\"person\", \"email\", \"subject\", \"summary\", \"date\"]}\n",
      "```\n"
     ]
    }
   ],
   "source": [
    "# Field의 description을 LLM이 읽어서 이해한다\n",
    "class EmailSummary(BaseModel):\n",
    "    person: str = Field(description='메일 보낸 사람')\n",
    "    email: str = Field(description='메일 보낸 사람의 메일 주소')\n",
    "    subject: str = Field(description='메일 제목')\n",
    "    summary: str = Field(description='메일 본문 요약')\n",
    "    date: str = Field(description='메일에 언급된 미팅 날짜와 시간')\n",
    "    \n",
    "parser = PydanticOutputParser(pydantic_object=EmailSummary)\n",
    "print(parser.get_format_instructions())  # LLM에게 주는 지침"
   ]
  },
  {
   "cell_type": "code",
   "execution_count": 31,
   "id": "dc1ea449",
   "metadata": {},
   "outputs": [],
   "source": [
    "prompt = PromptTemplate.from_template(\"\"\"\n",
    "너는 요약 전문 어시스턴트야. 아래 질문과 형식에 맞게 답변을 한국어로 만들어줘.\n",
    "\n",
    "---\n",
    "\n",
    "질문: {question}\n",
    "\n",
    "이메일 내용: {email_conversation}\n",
    "\n",
    "형식: {format}\n",
    "\n",
    "\"\"\")\n",
    "\n",
    "# 일부 고정 변수\n",
    "prompt = prompt.partial(format=parser.get_format_instructions())"
   ]
  },
  {
   "cell_type": "code",
   "execution_count": 35,
   "id": "506242aa",
   "metadata": {},
   "outputs": [],
   "source": [
    "chain = prompt | llm | parser\n",
    "res = chain.invoke(\n",
    "    {\n",
    "        'question': '이메일 내용 중에 중요한 내용을 추출해 줘',\n",
    "        'email_conversation' : email_conversation\n",
    "    }\n",
    "    )"
   ]
  },
  {
   "cell_type": "code",
   "execution_count": null,
   "id": "45472118",
   "metadata": {},
   "outputs": [
    {
     "name": "stdout",
     "output_type": "stream",
     "text": [
      "{'date': '2024년 1월 15일 오전 10시',\n",
      " 'email': 'chulsoo.kim@bikecorporation.me',\n",
      " 'person': '김철수 상무',\n",
      " 'subject': '\"ZENESIS\" 자전거 유통 협력 및 미팅 일정 제안',\n",
      " 'summary': \"바이크코퍼레이션 김철수 상무는 귀사의 'ZENESIS' 자전거에 대해 상세 브로슈어 요청과 함께, 기술 사양, 배터리 \"\n",
      "            '성능, 디자인 정보 확보를 희망하며, 다음 주 1월 15일 화요일 오전 10시에 사무실에서 협력 논의를 위한 미팅을 '\n",
      "            '제안함.'}\n"
     ]
    }
   ],
   "source": [
    "from pprint import pprint\n",
    "pprint(res.model_dump())\n",
    "# 앞으로 어떤 메일을 넣어도 지금처럼 형식을 맞춰 줄거라는 것"
   ]
  },
  {
   "cell_type": "markdown",
   "id": "3c5e73d4",
   "metadata": {},
   "source": [
    "## CSV Parser  "
   ]
  },
  {
   "cell_type": "code",
   "execution_count": 52,
   "id": "b4814468",
   "metadata": {},
   "outputs": [
    {
     "name": "stdout",
     "output_type": "stream",
     "text": [
      "Your response should be a list of comma separated values, eg: `foo, bar, baz` or `foo,bar,baz`\n"
     ]
    },
    {
     "data": {
      "text/plain": [
       "'List 5 중국집 대표메뉴. \\nYour response should be a list of comma separated values, eg: `foo, bar, baz` or `foo,bar,baz`'"
      ]
     },
     "execution_count": 52,
     "metadata": {},
     "output_type": "execute_result"
    }
   ],
   "source": [
    "from langchain_core.output_parsers import CommaSeparatedListOutputParser\n",
    "\n",
    "output_parser = CommaSeparatedListOutputParser()\n",
    "\n",
    "print(output_parser.get_format_instructions())\n",
    "\n",
    "prompt = PromptTemplate(\n",
    "    template='List 5 {subject}. \\n{format_instructions}',\n",
    "    input_variables=['subject'],\n",
    "    partial_variables={'format_instructions': output_parser.get_format_instructions()}\n",
    ")\n",
    "\n",
    "prompt.format(subject='중국집 대표메뉴')"
   ]
  },
  {
   "cell_type": "code",
   "execution_count": 59,
   "id": "965c7247",
   "metadata": {},
   "outputs": [],
   "source": [
    "chain_short = prompt | llm \n",
    "chain_parser = prompt | llm | output_parser\n",
    "\n",
    "\n",
    "csv_res = chain_short.invoke({'subject': '맥도날드 대표메뉴'}).content\n",
    "lst_res = chain_parser.invoke({'subject': '대한민국의 국민주식'})"
   ]
  },
  {
   "cell_type": "code",
   "execution_count": null,
   "id": "e223be35",
   "metadata": {},
   "outputs": [
    {
     "name": "stdout",
     "output_type": "stream",
     "text": [
      "Big Mac, Quarter Pounder, Chicken McNuggets, McChicken, Fries\n",
      "['삼성전자', 'SK하이닉스', 'LG전자', '현대차', 'POSCO']\n"
     ]
    }
   ],
   "source": [
    "print(csv_res)  # csv같은 형태로 (사람이)보기 위한 방법\n",
    "print(lst_res)  # 리스트로 csv 파일 만들기 활용도가 커서 보통 이렇게 만든다"
   ]
  },
  {
   "cell_type": "markdown",
   "id": "9bc789fa",
   "metadata": {},
   "source": [
    "## Structured Output Parser\n",
    "\n",
    "dict 형식 -> 멍청한 모델에도 적용 가능함"
   ]
  },
  {
   "cell_type": "code",
   "execution_count": 71,
   "id": "ac059e3f",
   "metadata": {},
   "outputs": [
    {
     "name": "stdout",
     "output_type": "stream",
     "text": [
      "The output should be a markdown code snippet formatted in the following schema, including the leading and trailing \"```json\" and \"```\":\n",
      "\n",
      "```json\n",
      "{\n",
      "\t\"answer\": string  // 사용자의 질문에 대한 답변\n",
      "\t\"source\": string  // 질문에 답하기 위해 사용된 웹사이트 주소 출처\n",
      "}\n",
      "```\n"
     ]
    }
   ],
   "source": [
    "from langchain.output_parsers import ResponseSchema, StructuredOutputParser  # 이건 langchain_core가 아니라 langchain에 있음\n",
    "\n",
    "response_schemas = [\n",
    "    ResponseSchema(name='answer', description='사용자의 질문에 대한 답변'),  # type도 정하는게 가능한데, 꼭 정해진 문자가 아니라 LLM이 알아들을 수만 있으면 됨\n",
    "    ResponseSchema(name='source', description='질문에 답하기 위해 사용된 웹사이트 주소 출처')\n",
    "]\n",
    "\n",
    "output_parser = StructuredOutputParser.from_response_schemas(response_schemas)\n",
    "print(output_parser.get_format_instructions())  # 진짜 json으로 나옴"
   ]
  },
  {
   "cell_type": "code",
   "execution_count": null,
   "id": "4da808ac",
   "metadata": {},
   "outputs": [
    {
     "name": "stdout",
     "output_type": "stream",
     "text": [
      "사용자 질문에 최선을 다해 답변함.\n",
      "질문: 처서는 몇월 몇일인가?\n",
      "The output should be a markdown code snippet formatted in the following schema, including the leading and trailing \"```json\" and \"```\":\n",
      "\n",
      "```json\n",
      "{\n",
      "\t\"answer\": string  // 사용자의 질문에 대한 답변\n",
      "\t\"source\": string  // 질문에 답하기 위해 사용된 웹사이트 주소 출처\n",
      "}\n",
      "```\n"
     ]
    }
   ],
   "source": [
    "prompt = PromptTemplate(\n",
    "    template='사용자 질문에 최선을 다해 답변함.\\n질문: {question}\\n{format_instructions}',\n",
    "    input_variables=['question'],\n",
    "    partial_variables={'format_instructions': output_parser.get_format_instructions()}\n",
    ")\n",
    "\n",
    "print(prompt.format(question='처서는 몇월 몇일인가?'))"
   ]
  },
  {
   "cell_type": "code",
   "execution_count": 77,
   "id": "8bdf4122",
   "metadata": {},
   "outputs": [
    {
     "name": "stdout",
     "output_type": "stream",
     "text": [
      "{'answer': '처서(處暑)는 음력 24번째 절기로, 양력으로 보통 8월 23일경에 해당합니다. 정확한 날짜는 매년 달라질 수 '\n",
      "           '있습니다.',\n",
      " 'source': 'https://ko.wikipedia.org/wiki/%EC%B2%98%EC%84%9C'}\n"
     ]
    }
   ],
   "source": [
    "chain = prompt | llm | output_parser\n",
    "res = chain.invoke({'question':'처서는 몇월 몇일인가?'})\n",
    "pprint(res)\n",
    "\n",
    "# stream을 해서 토큰별로 확인하는 건 안됨 - 이미 후처리(딕셔너리 형태로 변환)한 답변이기 떄문"
   ]
  },
  {
   "cell_type": "markdown",
   "id": "5edead83",
   "metadata": {},
   "source": [
    "## DataFrame Output Parser\n",
    "\n",
    "원하는 데이터프레임을 분석하고 데이터프레임으로 답변도 받을 수 있다"
   ]
  },
  {
   "cell_type": "code",
   "execution_count": 135,
   "id": "3c1ab0fd",
   "metadata": {},
   "outputs": [
    {
     "name": "stdout",
     "output_type": "stream",
     "text": [
      "The output should be formatted as a string as the operation, followed by a colon, followed by the column or row to be queried on, followed by optional array parameters.\n",
      "1. The column names are limited to the possible columns below.\n",
      "2. Arrays must either be a comma-separated list of numbers formatted as [1,3,5], or it must be in range of numbers formatted as [0..4].\n",
      "3. Remember that arrays are optional and not necessarily required.\n",
      "4. If the column is not in the possible columns or the operation is not a valid Pandas DataFrame operation, return why it is invalid as a sentence starting with either \"Invalid column\" or \"Invalid operation\".\n",
      "\n",
      "As an example, for the formats:\n",
      "1. String \"column:num_legs\" is a well-formatted instance which gets the column num_legs, where num_legs is a possible column.\n",
      "2. String \"row:1\" is a well-formatted instance which gets row 1.\n",
      "3. String \"column:num_legs[1,2]\" is a well-formatted instance which gets the column num_legs for rows 1 and 2, where num_legs is a possible column.\n",
      "4. String \"row:1[num_legs]\" is a well-formatted instance which gets row 1, but for just column num_legs, where num_legs is a possible column.\n",
      "5. String \"mean:num_legs[1..3]\" is a well-formatted instance which takes the mean of num_legs from rows 1 to 3, where num_legs is a possible column and mean is a valid Pandas DataFrame operation.\n",
      "6. String \"do_something:num_legs\" is a badly-formatted instance, where do_something is not a valid Pandas DataFrame operation.\n",
      "7. String \"mean:invalid_col\" is a badly-formatted instance, where invalid_col is not a possible column.\n",
      "\n",
      "Here are the possible columns:\n",
      "```\n",
      "survived, pclass, sex, age, sibsp, parch, fare, embarked, class, who, adult_male, deck, embark_town, alive, alone\n",
      "```\n",
      "\n"
     ]
    }
   ],
   "source": [
    "from langchain.output_parsers import PandasDataFrameOutputParser\n",
    "import pandas as pd\n",
    "import seaborn as sns\n",
    "\n",
    "titanic_df = sns.load_dataset('titanic')\n",
    "\n",
    "output_parser = PandasDataFrameOutputParser(dataframe=titanic_df)  # 분석 대상인 데이터프레임을 마지막에 제공하는 셈 -> 컬럼 목록을 제공하기 위해\n",
    "print(output_parser.get_format_instructions())"
   ]
  },
  {
   "cell_type": "code",
   "execution_count": 136,
   "id": "4239b551",
   "metadata": {},
   "outputs": [],
   "source": [
    "prompt = PromptTemplate(\n",
    "    template=\"Answer the user query.\\n{format_instructions}\\nuser query: {query}\\n\",\n",
    "    input_variables=[\"query\"],\n",
    "    partial_variables={\"format_instructions\": output_parser.get_format_instructions()}\n",
    ")"
   ]
  },
  {
   "cell_type": "code",
   "execution_count": 139,
   "id": "f37dfe3d",
   "metadata": {},
   "outputs": [
    {
     "name": "stdout",
     "output_type": "stream",
     "text": [
      "{'age': 0      22.0\n",
      "1      38.0\n",
      "2      26.0\n",
      "3      35.0\n",
      "4      35.0\n",
      "       ... \n",
      "886    27.0\n",
      "887    19.0\n",
      "888     NaN\n",
      "889    26.0\n",
      "890    32.0\n",
      "Name: age, Length: 891, dtype: float64}\n"
     ]
    }
   ],
   "source": [
    "chain = prompt | llm | output_parser\n",
    "res = chain.invoke({'query': 'age 컬럼을 조회해 줘'})\n",
    "print(res)"
   ]
  },
  {
   "cell_type": "code",
   "execution_count": 140,
   "id": "4afe51d3",
   "metadata": {},
   "outputs": [
    {
     "name": "stdout",
     "output_type": "stream",
     "text": [
      "{'mean': np.float64(29.69911764705882)}\n"
     ]
    }
   ],
   "source": [
    "res = chain.invoke({'query': 'age 컬럼의 평균을 조회해 줘'})\n",
    "print(res)"
   ]
  },
  {
   "cell_type": "code",
   "execution_count": 142,
   "id": "395dfc14",
   "metadata": {},
   "outputs": [],
   "source": [
    "# res = chain.invoke({'query': 'age 컬럼의 결측치를 전체 컬럼의 평균으로 채워줘'})\n",
    "# print(res)\n",
    "# 생각보다 복잡한건 잘 못함"
   ]
  },
  {
   "cell_type": "markdown",
   "id": "e6adccc0",
   "metadata": {},
   "source": [
    "## Datetime Output Parser"
   ]
  },
  {
   "cell_type": "code",
   "execution_count": 109,
   "id": "f9a18a79",
   "metadata": {},
   "outputs": [
    {
     "name": "stdout",
     "output_type": "stream",
     "text": [
      "Write a datetime string that matches the following pattern: '%Y-%m-%d'.\n",
      "\n",
      "Examples: 2025-09-02, 2024-09-02, 2025-09-01\n",
      "\n",
      "Return ONLY this string, no other words!\n"
     ]
    }
   ],
   "source": [
    "from langchain.output_parsers import DatetimeOutputParser\n",
    "\n",
    "output_parser = DatetimeOutputParser(format = '%Y-%m-%d')\n",
    "print(output_parser.get_format_instructions())\n",
    "\n",
    "prompt = PromptTemplate(\n",
    "    template='Answer the users question:\\n\\n#Format Instructions: \\n{format_instructions}\\n\\n#Question: \\n{question}\\n\\n',\n",
    "    input_variables=['question'],\n",
    "    partial_variables={'format_instructions': output_parser.get_format_instructions()}\n",
    ")"
   ]
  },
  {
   "cell_type": "code",
   "execution_count": 117,
   "id": "bafeb9d3",
   "metadata": {},
   "outputs": [
    {
     "name": "stdout",
     "output_type": "stream",
     "text": [
      "2024-04-27 00:00:00\n"
     ]
    }
   ],
   "source": [
    "chain = prompt | llm  | output_parser\n",
    "res = chain.invoke({'question': '내가 로또를 사면 당첨될 날은 언제일까?'})\n",
    "print(res)"
   ]
  },
  {
   "cell_type": "markdown",
   "id": "fcdb3939",
   "metadata": {},
   "source": [
    "## Enum Output Parser\n",
    "\n",
    "Enumerate, 열거형 출력 파서\n",
    "\n",
    "정해진 목록 중에 답을 고르는 것(객관식)"
   ]
  },
  {
   "cell_type": "code",
   "execution_count": 144,
   "id": "6b5fa6c8",
   "metadata": {},
   "outputs": [
    {
     "name": "stdout",
     "output_type": "stream",
     "text": [
      "Select one of the following options: 빨간색, 초록색, 파란색, 하얀색, 검은색\n"
     ]
    }
   ],
   "source": [
    "from langchain.output_parsers import EnumOutputParser\n",
    "from enum import Enum\n",
    "\n",
    "class Colors(Enum):\n",
    "    RED = '빨간색'\n",
    "    GREEN = '초록색'\n",
    "    BLUE = '파란색'\n",
    "    WHITE = '하얀색'\n",
    "    BLACK = '검은색'\n",
    "    \n",
    "output_parser = EnumOutputParser(enum=Colors)\n",
    "print(output_parser.get_format_instructions())\n",
    "\n",
    "prompt = PromptTemplate(\n",
    "    template='다음 질문에 답해줘.\\n\\n#Instructions: {format_instructions} \\n\\n#질문: {object}는 어떤 색에 가장 가까울까?',\n",
    "    input_variables=['object'],\n",
    "    partial_variables={'format_instructions': output_parser.get_format_instructions()}\n",
    ")"
   ]
  },
  {
   "cell_type": "code",
   "execution_count": 145,
   "id": "9e323f72",
   "metadata": {},
   "outputs": [
    {
     "name": "stdout",
     "output_type": "stream",
     "text": [
      "Colors.GREEN\n"
     ]
    }
   ],
   "source": [
    "chain = prompt | llm | output_parser\n",
    "res = chain.invoke({'object': '병아리'})\n",
    "print(res)"
   ]
  },
  {
   "cell_type": "markdown",
   "id": "38b44c71",
   "metadata": {},
   "source": [
    "## Output Parser + Agent\n",
    "\n",
    "Agent가 정해진 출력으로 나오게 하기"
   ]
  },
  {
   "cell_type": "code",
   "execution_count": 13,
   "id": "e1a3b428",
   "metadata": {},
   "outputs": [
    {
     "name": "stdout",
     "output_type": "stream",
     "text": [
      "\n",
      "\n",
      "\u001b[1m> Entering new AgentExecutor chain...\u001b[0m\n",
      "\u001b[32;1m\u001b[1;3m{\n",
      "  \"감정\": \"불만, 실망\",\n",
      "  \"공격성\": \"높음\",\n",
      "  \"언어\": \"부정적, 비판적\",\n",
      "  \"특이사항\": \"음식 품질 불만, 서비스 지연, 주문 누락\"\n",
      "}\u001b[0m\n",
      "\n",
      "\u001b[1m> Finished chain.\u001b[0m\n"
     ]
    },
    {
     "data": {
      "text/plain": [
       "Classification(sentiment='불만, 실망', agressiveness=8, language='부정적, 비판적', remarks='고객이 음식 품질, 서비스 지연, 주문 누락에 대해 강한 불만과 실망을 표현하고 있으며, 공격성이 높아 주의가 필요합니다.')"
      ]
     },
     "execution_count": 13,
     "metadata": {},
     "output_type": "execute_result"
    }
   ],
   "source": [
    "from langchain_openai import ChatOpenAI\n",
    "from langchain.agents import create_openai_tools_agent, AgentExecutor\n",
    "from langchain_core.prompts import ChatPromptTemplate, MessagesPlaceholder\n",
    "from langchain.memory import ConversationBufferMemory\n",
    "from pydantic import BaseModel, Field\n",
    "\n",
    "# 1. pydantic 클래스(답변 형태)\n",
    "class Classification(BaseModel):\n",
    "    sentiment: str = Field(description='작성된 글의 감정')\n",
    "    agressiveness: int = Field(description='얼마나 공격적인지를 1~10점으로 판단')\n",
    "    language: str = Field(description='작성된 글의 언어')\n",
    "    remarks: str = Field(description='명사형으로 특이사항을 요약. 특이사항은 문제사항이나 문제가 있던 이유를 말하며, 특이사항이 없을 경우 작성하지 말 것')\n",
    "\n",
    "# 2. LLM\n",
    "llm = ChatOpenAI(model='gpt-4.1-nano', temperature=0)\n",
    "structured_llm = llm.with_structured_output(Classification)\n",
    "\n",
    "# 3. 프롬프트\n",
    "prompt = ChatPromptTemplate([\n",
    "    ('system', '당신은 텍스트에서 감정, 공격성, 언어, 특이사항을 추출하는 분류기입니다.\\n응답은 항상 한국어로 해야 합니다.'),\n",
    "    MessagesPlaceholder(variable_name='chat_history'),\n",
    "    ('human', '{input}'),\n",
    "    MessagesPlaceholder(variable_name='agent_scratchpad')\n",
    "])\n",
    "\n",
    "# 4. 메모리\n",
    "memory = ConversationBufferMemory(\n",
    "    return_messages=True,\n",
    "    memory_key='chat_history'\n",
    ")\n",
    "\n",
    "# 5. agent 조립\n",
    "agent = create_openai_tools_agent(\n",
    "    llm=llm,\n",
    "    tools=[],\n",
    "    prompt=prompt\n",
    ")\n",
    "\n",
    "# 6. Executor\n",
    "agent_executor = AgentExecutor(\n",
    "    agent=agent,\n",
    "    tools=[],\n",
    "    memory=memory,\n",
    "    verbose=True\n",
    ")\n",
    "\n",
    "from langchain_core.runnables import RunnableLambda\n",
    "\n",
    "pipeline = (\n",
    "    agent_executor \n",
    "    | RunnableLambda(lambda x: x['output'])\n",
    "    | structured_llm\n",
    ")\n",
    "\n",
    "pipeline.invoke({'input': \"La comida fue terrible. Llegó después de una hora y ya estaba fría. Además, faltaba uno de los platos que pedí y el sabor era pésimo. Si van a trabajar así, mejor no lo hagan.\"})"
   ]
  }
 ],
 "metadata": {
  "kernelspec": {
   "display_name": "Python 3",
   "language": "python",
   "name": "python3"
  },
  "language_info": {
   "codemirror_mode": {
    "name": "ipython",
    "version": 3
   },
   "file_extension": ".py",
   "mimetype": "text/x-python",
   "name": "python",
   "nbconvert_exporter": "python",
   "pygments_lexer": "ipython3",
   "version": "3.13.2"
  }
 },
 "nbformat": 4,
 "nbformat_minor": 5
}
