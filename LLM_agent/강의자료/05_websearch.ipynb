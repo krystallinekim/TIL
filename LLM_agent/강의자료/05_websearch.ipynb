{
 "cells": [
  {
   "cell_type": "markdown",
   "id": "5853aa13",
   "metadata": {},
   "source": [
    "# 웹 검색"
   ]
  },
  {
   "cell_type": "code",
   "execution_count": 7,
   "id": "1f2b48c3",
   "metadata": {},
   "outputs": [
    {
     "data": {
      "text/plain": [
       "True"
      ]
     },
     "execution_count": 7,
     "metadata": {},
     "output_type": "execute_result"
    }
   ],
   "source": [
    "from dotenv import load_dotenv\n",
    "\n",
    "load_dotenv()"
   ]
  },
  {
   "cell_type": "code",
   "execution_count": null,
   "id": "c8ef0925",
   "metadata": {},
   "outputs": [
    {
     "data": {
      "text/plain": [
       "{'query': '서울고속버스터미널 근처에서, 제로페이가 되는 점심 먹을 만한 곳을 알려줘',\n",
       " 'follow_up_questions': None,\n",
       " 'answer': None,\n",
       " 'images': [],\n",
       " 'results': [{'url': 'https://www.diningcode.com/list.dc?query=%EA%B3%A0%EC%86%8D%ED%84%B0%EB%AF%B8%EB%84%90%20%EC%A0%9C%EB%A1%9C%ED%8E%98%EC%9D%B4',\n",
       "   'title': \"'고속터미널 제로페이' 맛집 빅데이터 추천순위 Top3\",\n",
       "   'content': '고속터미널 제로페이맛집 (3곳) · 1. 이디야커피 서울고속버스터미널점 · 2. 이디야 반포지하상가점 · 3. 써브웨이 서울고속터미널점.',\n",
       "   'score': 0.7961819,\n",
       "   'raw_content': None},\n",
       "  {'url': 'https://www.diningcode.com/list.dc?query=%EA%B0%95%EB%82%A8%EA%B3%A0%EC%86%8D%EB%B2%84%EC%8A%A4%ED%84%B0%EB%AF%B8%EB%84%90%20%EC%A0%9C%EB%A1%9C%ED%8E%98%EC%9D%B4',\n",
       "   'title': \"'강남고속버스터미널 제로페이' 맛집 빅데이터 추천순위 Top3\",\n",
       "   'content': '강남고속버스터미널 제로페이맛집 (3곳) · 1. 이디야커피 서울고속버스터미널점 · 2. 이디야 반포지하상가점 · 3. 써브웨이 서울고속터미널점.',\n",
       "   'score': 0.79293,\n",
       "   'raw_content': None},\n",
       "  {'url': 'https://www.tripadvisor.co.kr/RestaurantsNear-g294197-d9579467-Express_Bus_Terminal-Seoul.html',\n",
       "   'title': '서울 고속 버스 터미널 역 근처 맛집 Best 10 - Tripadvisor',\n",
       "   'content': '고속 버스 터미널 역 근처 맛집 · 1. 플레이버즈. 5.0. (1,718건의 리뷰). 해산물, 아시아 요리$$$$ · 2. 타마유라. 5.0. (181건의 리뷰) · 3. 더 마고 그릴. 4.9. (266건의',\n",
       "   'score': 0.56690645,\n",
       "   'raw_content': None},\n",
       "  {'url': 'https://blog.naver.com/PostView.nhn?blogId=minkishin91&logNo=223441301989&redirect=Dlog&widgetTypeCall=true',\n",
       "   'title': '강남 양재 비플페이 제로페이 직장인 맛집 모음 (가맹점 ...',\n",
       "   'content': '근데 KFC도 비플페이 가맹점입니다. 그리고 무려 키오스크에서 바로 제로페이 결제가 가능합니다.. \\u200b. 그래서 전 햄버거가 땡기는 날이면 가끔 방문합니다',\n",
       "   'score': 0.47489962,\n",
       "   'raw_content': None},\n",
       "  {'url': 'https://www.siksinhot.com/search?keywords=%EA%B3%A0%EC%86%8D%EB%B2%84%EC%8A%A4%ED%84%B0%EB%AF%B8%EB%84%90+%EC%84%9C%EC%9A%B8',\n",
       "   'title': '고속버스터미널 서울 맛집 인기검색 순위',\n",
       "   'content': '덩실찹쌀떡. 3.9 · 반포/잠원 / 떡/다과. 15,073 1. 해담채 남부터미널점 , 서울특별시 서초구 서초중앙로5길 10-8 쁘띠 · 해담채 남부터미널점. 평가중.',\n",
       "   'score': 0.39480802,\n",
       "   'raw_content': None}],\n",
       " 'response_time': 1.65,\n",
       " 'request_id': 'b59f17c8-79b5-4269-b83c-b38bf6d3aeb5'}"
      ]
     },
     "execution_count": 8,
     "metadata": {},
     "output_type": "execute_result"
    }
   ],
   "source": [
    "from langchain_tavily import TavilySearch\n",
    "\n",
    "search_tool = TavilySearch(\n",
    "    max_results=5,\n",
    "    topic=\"general\",  # general/news/finance\n",
    "    search_depth=\"basic\",  # basic/advance\n",
    "    # time_range=\"day\",  # 데이터 최신 기준, None/day/week/month/year\n",
    "    # include_domains=None,\n",
    "    # exclude_domains=None  # 특정 도메인 포함/제외\n",
    ")\n",
    "\n",
    "search_tool.invoke({'query': '서울고속버스터미널 근처에서, 제로페이가 되는 점심 먹을 만한 곳을 알려줘'})"
   ]
  },
  {
   "cell_type": "code",
   "execution_count": null,
   "id": "967f09bd",
   "metadata": {},
   "outputs": [
    {
     "data": {
      "text/plain": [
       "\"검색결과에서는 서울고속터미널에서 제로페이 또는 비플페이로 결제 가능한 점심 식사 장소에 대한 구체적인 정보는 찾기 어렵습니다. 하지만, 일반적으로 고속터미널 주변이나 터미널 내에서 제로페이와 비플페이 결제가 가능한 식당은 점차 늘어나고 있으니 다음과 같은 방법을 추천드립니다:\\n\\n1. 터미널 내 푸드코트 및 카페를 방문해보세요. 많은 곳이 무선 결제 수단을 도입하고 있으며, 제로페이 또는 비플페이 결제 가능 여부는 결제 시 확인하는 것이 좋습니다.\\n2. 터미널 근처의 인기 있는 식당 검색 시 '제로페이' 또는 '비플페이' 지원 여부를 별도로 문의하거나, 내비게이션 또는 결제 앱에 제공된 정보를 참고하세요.\\n3. 다이닝코드나 유튜브 리뷰 등에서는 제로페이와 비플페이 지원 식당 정보가 자주 업데이트되지 않으니, 방문 전에 해당 가게에 직접 문의하는 것이 가장 확실합니다.\\n\\n요약하면, 서울고속터미널 내 또는 근처에서 제로페이와 비플페이 결제 지원 식당은 가능성이 높으며, 방문 전 전화 문의 또는 결제 시 확인하시는 것을 추천드립니다.\""
      ]
     },
     "execution_count": 18,
     "metadata": {},
     "output_type": "execute_result"
    }
   ],
   "source": [
    "from langchain_openai import ChatOpenAI\n",
    "from langchain_core.prompts import PromptTemplate\n",
    "from langchain_core.output_parsers import StrOutputParser\n",
    "from langchain_core.runnables import RunnableLambda, RunnablePassthrough\n",
    "\n",
    "llm = ChatOpenAI(model='gpt-4.1-nano')\n",
    "\n",
    "prompt = PromptTemplate(\n",
    "    input_variables=['query', 'search_results'],\n",
    "    template='''\n",
    "너는 웹 검색결과를 요약해서, 질문에 맞게 잘 정리해서 좋은 답변을 주는 챗봇이야.\n",
    "---\n",
    "질문: {query}\n",
    "---\n",
    "검색결과: {search_results}\n",
    "---\n",
    "질문에 맞는 답을 검색결과 바탕으로 잘 정리해서 알려줘.\n",
    "'''\n",
    ")\n",
    "\n",
    "chain = (\n",
    "    {\n",
    "        'query': RunnablePassthrough(),  # 사용자 입력 그대로 RunnablePassthrough() 위치에 들어옴\n",
    "        'search_results': search_tool | RunnableLambda(\n",
    "            lambda x: '\\n'.join(\n",
    "                [f'-{r['title']}: {r['content']}' for r in x['results']]\n",
    "            )\n",
    "        )\n",
    "    }\n",
    "    | prompt \n",
    "    | llm \n",
    "    | StrOutputParser()\n",
    ")\n",
    "\n",
    "chain.invoke('서울고속터미널에서 점심먹기 좋은 곳을 알려줘. 그런데, 제로페이나 비플페이가 가능한 곳만 알려줘')\n",
    "# 단, 이 코드도 볼 일이 없다. agent 기능에 통합됨"
   ]
  }
 ],
 "metadata": {
  "kernelspec": {
   "display_name": "Python 3",
   "language": "python",
   "name": "python3"
  },
  "language_info": {
   "codemirror_mode": {
    "name": "ipython",
    "version": 3
   },
   "file_extension": ".py",
   "mimetype": "text/x-python",
   "name": "python",
   "nbconvert_exporter": "python",
   "pygments_lexer": "ipython3",
   "version": "3.13.2"
  }
 },
 "nbformat": 4,
 "nbformat_minor": 5
}
