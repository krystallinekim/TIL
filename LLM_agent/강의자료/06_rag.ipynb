{
 "cells": [
  {
   "cell_type": "markdown",
   "id": "39221823",
   "metadata": {},
   "source": [
    "# RAG\n",
    "Retrieval Augmented Generation, 검색 증강 생성\n",
    "\n",
    "LLM에게 외부 데이터를 context로 활용할 수 있도록 처리 하는 과정"
   ]
  },
  {
   "cell_type": "markdown",
   "id": "e1868590",
   "metadata": {},
   "source": [
    "## 사전처리 단계\n",
    "\n",
    "1. 문서 불러오기(Loading)\n",
    "2. 텍스트 나누기(Splitting)\n",
    "3. 숫자로 바꾸기(Embedding)\n",
    "4. 저장하기(VectorStore)"
   ]
  },
  {
   "cell_type": "code",
   "execution_count": 14,
   "id": "7a7ebe82",
   "metadata": {},
   "outputs": [
    {
     "data": {
      "text/plain": [
       "True"
      ]
     },
     "execution_count": 14,
     "metadata": {},
     "output_type": "execute_result"
    }
   ],
   "source": [
    "from dotenv import load_dotenv\n",
    "\n",
    "load_dotenv()"
   ]
  },
  {
   "cell_type": "code",
   "execution_count": null,
   "id": "d703813d",
   "metadata": {},
   "outputs": [],
   "source": [
    "# 예시\n",
    "from langchain_core.documents import Document\n",
    "\n",
    "documents = [\n",
    "    Document(\n",
    "        page_content=\"Dogs are great companions, known for their loyalty and friendliness.\",\n",
    "        metadata={\"source\": \"mammal-pets-doc\"},\n",
    "    ),\n",
    "    Document(\n",
    "        page_content=\"Cats are independent pets that often enjoy their own space.\",\n",
    "        metadata={\"source\": \"mammal-pets-doc\"},\n",
    "    ),\n",
    "    Document(\n",
    "        page_content=\"Goldfish are popular pets for beginners, requiring relatively simple care.\",\n",
    "        metadata={\"source\": \"fish-pets-doc\"},\n",
    "    ),\n",
    "    Document(\n",
    "        page_content=\"Parrots are intelligent birds capable of mimicking human speech.\",\n",
    "        metadata={\"source\": \"bird-pets-doc\"},\n",
    "    ),\n",
    "    Document(\n",
    "        page_content=\"Rabbits are social animals that need plenty of space to hop around.\",\n",
    "        metadata={\"source\": \"mammal-pets-doc\"},\n",
    "    ),\n",
    "]  # 문서 불러오기 - 텍스트 나누기(1, 2)까지 완료된 상태"
   ]
  },
  {
   "cell_type": "code",
   "execution_count": 3,
   "id": "0e34de22",
   "metadata": {},
   "outputs": [],
   "source": [
    "from langchain_openai import OpenAIEmbeddings\n",
    "from langchain_chroma import Chroma\n",
    "\n",
    "# OpenAI의 임베딩 모델\n",
    "embedding = OpenAIEmbeddings(model='text-embedding-3-small')\n",
    "embedding.embed_query('고양이보다는 개가 더 좋지')\n",
    "\n",
    "# Vector Store에 임베딩 후 저장(3, 4) - 메모리에\n",
    "vectorstore = Chroma.from_documents(documents, embedding=embedding)"
   ]
  },
  {
   "cell_type": "code",
   "execution_count": 6,
   "id": "bd6605fb",
   "metadata": {},
   "outputs": [
    {
     "data": {
      "text/plain": [
       "[Document(id='2048dff6-c685-4321-aee2-599600359c6a', metadata={'source': 'mammal-pets-doc'}, page_content='Dogs are great companions, known for their loyalty and friendliness.'),\n",
       " Document(id='387917e9-8ec1-4d18-b27e-d904ee4239b5', metadata={'source': 'fish-pets-doc'}, page_content='Goldfish are popular pets for beginners, requiring relatively simple care.')]"
      ]
     },
     "execution_count": 6,
     "metadata": {},
     "output_type": "execute_result"
    }
   ],
   "source": [
    "vectorstore.similarity_search(\n",
    "    '고양이보다 개가 더 좋아', \n",
    "    k=2\n",
    ")"
   ]
  },
  {
   "cell_type": "code",
   "execution_count": 18,
   "id": "d3bfe498",
   "metadata": {},
   "outputs": [
    {
     "name": "stdout",
     "output_type": "stream",
     "text": [
      "23\n"
     ]
    }
   ],
   "source": [
    "# 1. Load\n",
    "from langchain_community.document_loaders import PyMuPDFLoader\n",
    "\n",
    "loader = PyMuPDFLoader('../data/spri.pdf')\n",
    "docs = loader.load()\n",
    "\n",
    "print(len(docs))\n",
    "\n",
    "# for doc in docs:\n",
    "#     print(doc)"
   ]
  },
  {
   "cell_type": "code",
   "execution_count": 19,
   "id": "2c792bda",
   "metadata": {},
   "outputs": [
    {
     "name": "stdout",
     "output_type": "stream",
     "text": [
      "72\n"
     ]
    }
   ],
   "source": [
    "# 2. Split\n",
    "from langchain_text_splitters import RecursiveCharacterTextSplitter\n",
    "\n",
    "# Recursive~: 대충 자르는 splitter\n",
    "text_splitter = RecursiveCharacterTextSplitter(\n",
    "    chunk_size=500,  # 글자 수\n",
    "    chunk_overlap=50  # 두 청크 사이에 겹치는 글자 수를 50개\n",
    ")\n",
    "\n",
    "docs_splitted = text_splitter.split_documents(docs)\n",
    "print(len(docs_splitted))\n",
    "\n",
    "# for doc in docs_splitted:\n",
    "#     print(doc)\n",
    "#     print('========================================================')"
   ]
  },
  {
   "cell_type": "code",
   "execution_count": null,
   "id": "a12bd513",
   "metadata": {},
   "outputs": [
    {
     "data": {
      "text/plain": [
       "[Document(id='e1df93b2-8c5a-4acb-9f87-62822783df02', metadata={'producer': 'Hancom PDF 1.3.0.542', 'creator': 'Hwp 2018 10.0.0.13462', 'creationdate': '2023-12-08T13:28:38+09:00', 'source': '../data/spri.pdf', 'file_path': '../data/spri.pdf', 'total_pages': 23, 'format': 'PDF 1.4', 'title': '', 'author': 'dj', 'subject': '', 'keywords': '', 'moddate': '2023-12-08T13:28:38+09:00', 'trapped': '', 'modDate': \"D:20231208132838+09'00'\", 'creationDate': \"D:20231208132838+09'00'\", 'page': 3}, page_content='1. 정책/법제  \\n2. 기업/산업 \\n3. 기술/연구 \\n 4. 인력/교육\\n미국, 안전하고 신뢰할 수 있는 AI 개발과 사용에 관한 행정명령 발표 \\nn 미국 바이든 대통령이 ‘안전하고 신뢰할 수 있는 AI 개발과 사용에 관한 행정명령’에 서명하고 \\n광범위한 행정 조치를 명시\\nn 행정명령은 △AI의 안전과 보안 기준 마련 △개인정보보호 △형평성과 시민권 향상 △소비자 \\n보호 △노동자 지원 △혁신과 경쟁 촉진 △국제협력을 골자로 함\\nKEY Contents\\n£ 바이든 대통령, AI 행정명령 통해 안전하고 신뢰할 수 있는 AI 개발과 활용 추진\\nn 미국 바이든 대통령이 2023년 10월 30일 연방정부 차원에서 안전하고 신뢰할 수 있는 AI 개발과 \\n사용을 보장하기 위한 행정명령을 발표\\n∙행정명령은 △AI의 안전과 보안 기준 마련 △개인정보보호 △형평성과 시민권 향상 △소비자 보호 \\n△노동자 지원 △혁신과 경쟁 촉진 △국제협력에 관한 내용을 포괄'),\n",
       " Document(id='d32007ba-42e5-4e54-8d36-94b2ef0c1fc2', metadata={'producer': 'Hancom PDF 1.3.0.542', 'creator': 'Hwp 2018 10.0.0.13462', 'creationdate': '2023-12-08T13:28:38+09:00', 'source': '../data/spri.pdf', 'file_path': '../data/spri.pdf', 'total_pages': 23, 'format': 'PDF 1.4', 'title': '', 'author': 'dj', 'subject': '', 'keywords': '', 'moddate': '2023-12-08T13:28:38+09:00', 'trapped': '', 'modDate': \"D:20231208132838+09'00'\", 'creationDate': \"D:20231208132838+09'00'\", 'page': 3}, page_content='공부하고 취업할 수 있도록 지원\\n☞ 출처 : The White House, Executive Order on the Safe, Secure, and Trustworthy Development and Use of \\nArtificial Intelligence (E.O. 14110), 2023.10.30.'),\n",
       " Document(id='24dfa41e-70c8-43b0-aa82-3b76dd2b3151', metadata={'producer': 'Hancom PDF 1.3.0.542', 'creator': 'Hwp 2018 10.0.0.13462', 'creationdate': '2023-12-08T13:28:38+09:00', 'source': '../data/spri.pdf', 'file_path': '../data/spri.pdf', 'total_pages': 23, 'format': 'PDF 1.4', 'title': '', 'author': 'dj', 'subject': '', 'keywords': '', 'moddate': '2023-12-08T13:28:38+09:00', 'trapped': '', 'modDate': \"D:20231208132838+09'00'\", 'creationDate': \"D:20231208132838+09'00'\", 'page': 4}, page_content='정보공유를 위해 ‘히로시마 AI 프로세스’를 출범**\\n∙기업의 자발적 채택을 위해 마련된 이번 행동강령은 기반모델과 생성 AI를 포함한 첨단 AI 시스템의 \\n위험 식별과 완화에 필요한 조치를 포함\\n* 주요 7개국(G7)은 미국, 일본, 독일, 영국, 프랑스, 이탈리아, 캐나다를 의미\\n** 5월 정상회의에는 한국, 호주, 베트남 등을 포함한 8개국이 초청을 받았으나, AI 국제 행동강령에는 우선 G7 국가만 포함하여 채택\\nn G7은 행동강령을 통해 아래의 조치를 제시했으며, 빠르게 발전하는 기술에 대응할 수 있도록 \\n이해관계자 협의를 통해 필요에 따라 개정할 예정\\n∙첨단 AI 시스템의 개발 과정에서 AI 수명주기 전반에 걸쳐 위험을 평가 및 완화하는 조치를 채택하고, \\n첨단 AI 시스템의 출시와 배포 이후 취약점과 오용 사고, 오용 유형을 파악해 완화\\n∙첨단 AI 시스템의 성능과 한계를 공개하고 적절하거나 부적절한 사용영역을 알리는 방법으로 투명성을 \\n보장하고 책임성을 강화'),\n",
       " Document(id='bf37cf0e-01f2-4e73-b9ff-50745c8768c6', metadata={'producer': 'Hancom PDF 1.3.0.542', 'creator': 'Hwp 2018 10.0.0.13462', 'creationdate': '2023-12-08T13:28:38+09:00', 'source': '../data/spri.pdf', 'file_path': '../data/spri.pdf', 'total_pages': 23, 'format': 'PDF 1.4', 'title': '', 'author': 'dj', 'subject': '', 'keywords': '', 'moddate': '2023-12-08T13:28:38+09:00', 'trapped': '', 'modDate': \"D:20231208132838+09'00'\", 'creationDate': \"D:20231208132838+09'00'\", 'page': 1}, page_content='2023년 12월호\\nⅠ. 인공지능 산업 동향 브리프\\n 1. 정책/법제 \\n   ▹ 미국, 안전하고 신뢰할 수 있는 AI 개발과 사용에 관한 행정명령 발표  ························· 1\\n   ▹ G7, 히로시마 AI 프로세스를 통해 AI 기업 대상 국제 행동강령에 합의··························· 2\\n   ▹ 영국 AI 안전성 정상회의에 참가한 28개국, AI 위험에 공동 대응 선언··························· 3\\n   ▹ 미국 법원, 예술가들이 생성 AI 기업에 제기한 저작권 소송 기각····································· 4\\n   ▹ 미국 연방거래위원회, 저작권청에 소비자 보호와 경쟁 측면의 AI 의견서 제출················· 5')]"
      ]
     },
     "execution_count": 15,
     "metadata": {},
     "output_type": "execute_result"
    }
   ],
   "source": [
    "# 3. 벡터 임베딩 + vectorstore 저장\n",
    "from langchain_openai import OpenAIEmbeddings  # 3. 임베딩 담당\n",
    "from langchain_community.vectorstores import FAISS  # 4. 벡터스토어 담당\n",
    "\n",
    "embedding = OpenAIEmbeddings()\n",
    "\n",
    "vectorstore = FAISS.from_documents(documents=docs_splitted, embedding=embedding)\n",
    "\n",
    "vectorstore.similarity_search(\n",
    "    '미국 대통령과 관련된 문서들 가져와봐'\n",
    ")"
   ]
  },
  {
   "cell_type": "markdown",
   "id": "db079ac8",
   "metadata": {},
   "source": [
    "## 검색 증강 단계\n",
    "\n",
    "1. 사용자 질문(Query)\n",
    "2. 검색(Retrieve)\n",
    "3. LLM\n",
    "4. 최종 답변"
   ]
  },
  {
   "cell_type": "code",
   "execution_count": null,
   "id": "c001b4cc",
   "metadata": {},
   "outputs": [
    {
     "data": {
      "text/plain": [
       "'삼성전자는 자체 개발한 생성 AI인 ‘삼성 가우스’를 공개했으며, 언어, 코드, 이미지 모델로 구성되어 온디바이스에서 작동합니다. 이 AI는 외부 유출 위험이 낮고, 스마트폰 등 다양한 제품에 단계적으로 탑재될 예정입니다. 2023년 11월 ‘삼성 AI 포럼 2023’에서 최초 공개되었으며, 향후 경쟁 제품들과의 차별화를 기대할 수 있습니다.'"
      ]
     },
     "execution_count": 24,
     "metadata": {},
     "output_type": "execute_result"
    }
   ],
   "source": [
    "from langchain import hub\n",
    "from langchain_openai import ChatOpenAI\n",
    "from langchain_core.runnables import RunnablePassthrough\n",
    "from langchain_core.output_parsers import StrOutputParser\n",
    "\n",
    "# 프롬프트(langchain hub에서)\n",
    "prompt = hub.pull('rlm/rag-prompt')\n",
    "\n",
    "# LLM(gpt)\n",
    "llm = ChatOpenAI(model='gpt-4.1-nano')\n",
    "\n",
    "# 검색기(Retriever)\n",
    "retriever = vectorstore.as_retriever()\n",
    "\n",
    "chain = (\n",
    "    {'context': retriever, 'question': RunnablePassthrough()}  # 들어온 인자가 그대로 들어옴\n",
    "    | prompt\n",
    "    | llm\n",
    "    | StrOutputParser()\n",
    ")\n",
    "\n",
    "chain.invoke('삼성전자 관련 소식을 다 가져와줘')"
   ]
  },
  {
   "cell_type": "code",
   "execution_count": null,
   "id": "acc9a25a",
   "metadata": {},
   "outputs": [],
   "source": [
    "# 관심있는 데이터 소스로 RAG 해보기\n"
   ]
  }
 ],
 "metadata": {
  "kernelspec": {
   "display_name": "Python 3",
   "language": "python",
   "name": "python3"
  },
  "language_info": {
   "codemirror_mode": {
    "name": "ipython",
    "version": 3
   },
   "file_extension": ".py",
   "mimetype": "text/x-python",
   "name": "python",
   "nbconvert_exporter": "python",
   "pygments_lexer": "ipython3",
   "version": "3.13.2"
  }
 },
 "nbformat": 4,
 "nbformat_minor": 5
}
