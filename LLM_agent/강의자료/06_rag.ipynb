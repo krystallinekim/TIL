{
 "cells": [
  {
   "cell_type": "markdown",
   "id": "39221823",
   "metadata": {},
   "source": [
    "# RAG\n",
    "Retrieval Augmented Generation, 검색 증강 생성\n",
    "\n",
    "LLM에게 외부 데이터를 context로 활용할 수 있도록 처리 하는 과정"
   ]
  },
  {
   "cell_type": "markdown",
   "id": "e1868590",
   "metadata": {},
   "source": [
    "## 사전처리 단계\n",
    "\n",
    "1. 문서 불러오기(Loading)\n",
    "2. 텍스트 나누기(Splitting)\n",
    "3. 숫자로 바꾸기(Embedding)\n",
    "4. 저장하기(VectorStore)"
   ]
  },
  {
   "cell_type": "code",
   "execution_count": 1,
   "id": "7a7ebe82",
   "metadata": {},
   "outputs": [
    {
     "data": {
      "text/plain": [
       "True"
      ]
     },
     "execution_count": 1,
     "metadata": {},
     "output_type": "execute_result"
    }
   ],
   "source": [
    "from dotenv import load_dotenv\n",
    "\n",
    "load_dotenv()"
   ]
  },
  {
   "cell_type": "code",
   "execution_count": 2,
   "id": "d703813d",
   "metadata": {},
   "outputs": [],
   "source": [
    "from langchain_core.documents import Document\n",
    "\n",
    "documents = [\n",
    "    Document(\n",
    "        page_content=\"Dogs are great companions, known for their loyalty and friendliness.\",\n",
    "        metadata={\"source\": \"mammal-pets-doc\"},\n",
    "    ),\n",
    "    Document(\n",
    "        page_content=\"Cats are independent pets that often enjoy their own space.\",\n",
    "        metadata={\"source\": \"mammal-pets-doc\"},\n",
    "    ),\n",
    "    Document(\n",
    "        page_content=\"Goldfish are popular pets for beginners, requiring relatively simple care.\",\n",
    "        metadata={\"source\": \"fish-pets-doc\"},\n",
    "    ),\n",
    "    Document(\n",
    "        page_content=\"Parrots are intelligent birds capable of mimicking human speech.\",\n",
    "        metadata={\"source\": \"bird-pets-doc\"},\n",
    "    ),\n",
    "    Document(\n",
    "        page_content=\"Rabbits are social animals that need plenty of space to hop around.\",\n",
    "        metadata={\"source\": \"mammal-pets-doc\"},\n",
    "    ),\n",
    "]  # 1. 문서 불러오기 - 2. 텍스트 나누기까지 완료된 상태"
   ]
  },
  {
   "cell_type": "code",
   "execution_count": 3,
   "id": "0e34de22",
   "metadata": {},
   "outputs": [],
   "source": [
    "from langchain_openai import OpenAIEmbeddings\n",
    "\n",
    "# OpenAI의 임베딩 모델\n",
    "embedding = OpenAIEmbeddings()"
   ]
  },
  {
   "cell_type": "markdown",
   "id": "db079ac8",
   "metadata": {},
   "source": [
    "## 검색 증강 단계\n"
   ]
  },
  {
   "cell_type": "code",
   "execution_count": null,
   "id": "c001b4cc",
   "metadata": {},
   "outputs": [],
   "source": []
  }
 ],
 "metadata": {
  "kernelspec": {
   "display_name": "Python 3",
   "language": "python",
   "name": "python3"
  },
  "language_info": {
   "codemirror_mode": {
    "name": "ipython",
    "version": 3
   },
   "file_extension": ".py",
   "mimetype": "text/x-python",
   "name": "python",
   "nbconvert_exporter": "python",
   "pygments_lexer": "ipython3",
   "version": "3.13.2"
  }
 },
 "nbformat": 4,
 "nbformat_minor": 5
}
