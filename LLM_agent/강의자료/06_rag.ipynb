{
 "cells": [
  {
   "cell_type": "markdown",
   "id": "39221823",
   "metadata": {},
   "source": [
    "# RAG\n",
    "Retrieval Augmented Generation, 검색 증강 생성\n",
    "\n",
    "LLM에게 외부 데이터를 context로 활용할 수 있도록 처리 하는 과정"
   ]
  },
  {
   "cell_type": "markdown",
   "id": "e1868590",
   "metadata": {},
   "source": [
    "## 사전처리 단계\n",
    "\n",
    "1. 문서 불러오기(Loading)\n",
    "2. 텍스트 나누기(Splitting)\n",
    "3. 숫자로 바꾸기(Embedding)\n",
    "4. 저장하기(VectorStore)"
   ]
  },
  {
   "cell_type": "code",
   "execution_count": 3,
   "id": "7a7ebe82",
   "metadata": {},
   "outputs": [
    {
     "data": {
      "text/plain": [
       "True"
      ]
     },
     "execution_count": 3,
     "metadata": {},
     "output_type": "execute_result"
    }
   ],
   "source": [
    "from dotenv import load_dotenv\n",
    "\n",
    "load_dotenv()"
   ]
  },
  {
   "cell_type": "code",
   "execution_count": null,
   "id": "d703813d",
   "metadata": {},
   "outputs": [],
   "source": [
    "# 예시\n",
    "from langchain_core.documents import Document\n",
    "\n",
    "documents = [\n",
    "    Document(\n",
    "        page_content=\"Dogs are great companions, known for their loyalty and friendliness.\",\n",
    "        metadata={\"source\": \"mammal-pets-doc\"},\n",
    "    ),\n",
    "    Document(\n",
    "        page_content=\"Cats are independent pets that often enjoy their own space.\",\n",
    "        metadata={\"source\": \"mammal-pets-doc\"},\n",
    "    ),\n",
    "    Document(\n",
    "        page_content=\"Goldfish are popular pets for beginners, requiring relatively simple care.\",\n",
    "        metadata={\"source\": \"fish-pets-doc\"},\n",
    "    ),\n",
    "    Document(\n",
    "        page_content=\"Parrots are intelligent birds capable of mimicking human speech.\",\n",
    "        metadata={\"source\": \"bird-pets-doc\"},\n",
    "    ),\n",
    "    Document(\n",
    "        page_content=\"Rabbits are social animals that need plenty of space to hop around.\",\n",
    "        metadata={\"source\": \"mammal-pets-doc\"},\n",
    "    ),\n",
    "]  # 문서 불러오기 - 텍스트 나누기(1, 2)까지 완료된 상태"
   ]
  },
  {
   "cell_type": "code",
   "execution_count": 3,
   "id": "0e34de22",
   "metadata": {},
   "outputs": [],
   "source": [
    "from langchain_openai import OpenAIEmbeddings\n",
    "from langchain_chroma import Chroma\n",
    "\n",
    "# OpenAI의 임베딩 모델\n",
    "embedding = OpenAIEmbeddings(model='text-embedding-3-small')\n",
    "embedding.embed_query('고양이보다는 개가 더 좋지')\n",
    "\n",
    "# Vector Store에 임베딩 후 저장(3, 4) - 메모리에\n",
    "vectorstore = Chroma.from_documents(documents, embedding=embedding)"
   ]
  },
  {
   "cell_type": "code",
   "execution_count": 6,
   "id": "bd6605fb",
   "metadata": {},
   "outputs": [
    {
     "data": {
      "text/plain": [
       "[Document(id='2048dff6-c685-4321-aee2-599600359c6a', metadata={'source': 'mammal-pets-doc'}, page_content='Dogs are great companions, known for their loyalty and friendliness.'),\n",
       " Document(id='387917e9-8ec1-4d18-b27e-d904ee4239b5', metadata={'source': 'fish-pets-doc'}, page_content='Goldfish are popular pets for beginners, requiring relatively simple care.')]"
      ]
     },
     "execution_count": 6,
     "metadata": {},
     "output_type": "execute_result"
    }
   ],
   "source": [
    "vectorstore.similarity_search(\n",
    "    '고양이보다 개가 더 좋아', \n",
    "    k=2\n",
    ")"
   ]
  },
  {
   "cell_type": "code",
   "execution_count": 18,
   "id": "d3bfe498",
   "metadata": {},
   "outputs": [
    {
     "name": "stdout",
     "output_type": "stream",
     "text": [
      "23\n"
     ]
    }
   ],
   "source": [
    "# 1. Load\n",
    "from langchain_community.document_loaders import PyMuPDFLoader\n",
    "\n",
    "loader = PyMuPDFLoader('../data/spri.pdf')\n",
    "docs = loader.load()\n",
    "\n",
    "print(len(docs))\n",
    "\n",
    "# for doc in docs:\n",
    "#     print(doc)"
   ]
  },
  {
   "cell_type": "code",
   "execution_count": 19,
   "id": "2c792bda",
   "metadata": {},
   "outputs": [
    {
     "name": "stdout",
     "output_type": "stream",
     "text": [
      "72\n"
     ]
    }
   ],
   "source": [
    "# 2. Split\n",
    "from langchain_text_splitters import RecursiveCharacterTextSplitter\n",
    "\n",
    "# Recursive~: 대충 자르는 splitter\n",
    "text_splitter = RecursiveCharacterTextSplitter(\n",
    "    chunk_size=500,  # 글자 수\n",
    "    chunk_overlap=50  # 두 청크 사이에 겹치는 글자 수를 50개\n",
    ")\n",
    "\n",
    "docs_splitted = text_splitter.split_documents(docs)\n",
    "print(len(docs_splitted))\n",
    "\n",
    "# for doc in docs_splitted:\n",
    "#     print(doc)\n",
    "#     print('========================================================')"
   ]
  },
  {
   "cell_type": "code",
   "execution_count": null,
   "id": "a12bd513",
   "metadata": {},
   "outputs": [
    {
     "data": {
      "text/plain": [
       "[Document(id='e1df93b2-8c5a-4acb-9f87-62822783df02', metadata={'producer': 'Hancom PDF 1.3.0.542', 'creator': 'Hwp 2018 10.0.0.13462', 'creationdate': '2023-12-08T13:28:38+09:00', 'source': '../data/spri.pdf', 'file_path': '../data/spri.pdf', 'total_pages': 23, 'format': 'PDF 1.4', 'title': '', 'author': 'dj', 'subject': '', 'keywords': '', 'moddate': '2023-12-08T13:28:38+09:00', 'trapped': '', 'modDate': \"D:20231208132838+09'00'\", 'creationDate': \"D:20231208132838+09'00'\", 'page': 3}, page_content='1. 정책/법제  \\n2. 기업/산업 \\n3. 기술/연구 \\n 4. 인력/교육\\n미국, 안전하고 신뢰할 수 있는 AI 개발과 사용에 관한 행정명령 발표 \\nn 미국 바이든 대통령이 ‘안전하고 신뢰할 수 있는 AI 개발과 사용에 관한 행정명령’에 서명하고 \\n광범위한 행정 조치를 명시\\nn 행정명령은 △AI의 안전과 보안 기준 마련 △개인정보보호 △형평성과 시민권 향상 △소비자 \\n보호 △노동자 지원 △혁신과 경쟁 촉진 △국제협력을 골자로 함\\nKEY Contents\\n£ 바이든 대통령, AI 행정명령 통해 안전하고 신뢰할 수 있는 AI 개발과 활용 추진\\nn 미국 바이든 대통령이 2023년 10월 30일 연방정부 차원에서 안전하고 신뢰할 수 있는 AI 개발과 \\n사용을 보장하기 위한 행정명령을 발표\\n∙행정명령은 △AI의 안전과 보안 기준 마련 △개인정보보호 △형평성과 시민권 향상 △소비자 보호 \\n△노동자 지원 △혁신과 경쟁 촉진 △국제협력에 관한 내용을 포괄'),\n",
       " Document(id='d32007ba-42e5-4e54-8d36-94b2ef0c1fc2', metadata={'producer': 'Hancom PDF 1.3.0.542', 'creator': 'Hwp 2018 10.0.0.13462', 'creationdate': '2023-12-08T13:28:38+09:00', 'source': '../data/spri.pdf', 'file_path': '../data/spri.pdf', 'total_pages': 23, 'format': 'PDF 1.4', 'title': '', 'author': 'dj', 'subject': '', 'keywords': '', 'moddate': '2023-12-08T13:28:38+09:00', 'trapped': '', 'modDate': \"D:20231208132838+09'00'\", 'creationDate': \"D:20231208132838+09'00'\", 'page': 3}, page_content='공부하고 취업할 수 있도록 지원\\n☞ 출처 : The White House, Executive Order on the Safe, Secure, and Trustworthy Development and Use of \\nArtificial Intelligence (E.O. 14110), 2023.10.30.'),\n",
       " Document(id='24dfa41e-70c8-43b0-aa82-3b76dd2b3151', metadata={'producer': 'Hancom PDF 1.3.0.542', 'creator': 'Hwp 2018 10.0.0.13462', 'creationdate': '2023-12-08T13:28:38+09:00', 'source': '../data/spri.pdf', 'file_path': '../data/spri.pdf', 'total_pages': 23, 'format': 'PDF 1.4', 'title': '', 'author': 'dj', 'subject': '', 'keywords': '', 'moddate': '2023-12-08T13:28:38+09:00', 'trapped': '', 'modDate': \"D:20231208132838+09'00'\", 'creationDate': \"D:20231208132838+09'00'\", 'page': 4}, page_content='정보공유를 위해 ‘히로시마 AI 프로세스’를 출범**\\n∙기업의 자발적 채택을 위해 마련된 이번 행동강령은 기반모델과 생성 AI를 포함한 첨단 AI 시스템의 \\n위험 식별과 완화에 필요한 조치를 포함\\n* 주요 7개국(G7)은 미국, 일본, 독일, 영국, 프랑스, 이탈리아, 캐나다를 의미\\n** 5월 정상회의에는 한국, 호주, 베트남 등을 포함한 8개국이 초청을 받았으나, AI 국제 행동강령에는 우선 G7 국가만 포함하여 채택\\nn G7은 행동강령을 통해 아래의 조치를 제시했으며, 빠르게 발전하는 기술에 대응할 수 있도록 \\n이해관계자 협의를 통해 필요에 따라 개정할 예정\\n∙첨단 AI 시스템의 개발 과정에서 AI 수명주기 전반에 걸쳐 위험을 평가 및 완화하는 조치를 채택하고, \\n첨단 AI 시스템의 출시와 배포 이후 취약점과 오용 사고, 오용 유형을 파악해 완화\\n∙첨단 AI 시스템의 성능과 한계를 공개하고 적절하거나 부적절한 사용영역을 알리는 방법으로 투명성을 \\n보장하고 책임성을 강화'),\n",
       " Document(id='bf37cf0e-01f2-4e73-b9ff-50745c8768c6', metadata={'producer': 'Hancom PDF 1.3.0.542', 'creator': 'Hwp 2018 10.0.0.13462', 'creationdate': '2023-12-08T13:28:38+09:00', 'source': '../data/spri.pdf', 'file_path': '../data/spri.pdf', 'total_pages': 23, 'format': 'PDF 1.4', 'title': '', 'author': 'dj', 'subject': '', 'keywords': '', 'moddate': '2023-12-08T13:28:38+09:00', 'trapped': '', 'modDate': \"D:20231208132838+09'00'\", 'creationDate': \"D:20231208132838+09'00'\", 'page': 1}, page_content='2023년 12월호\\nⅠ. 인공지능 산업 동향 브리프\\n 1. 정책/법제 \\n   ▹ 미국, 안전하고 신뢰할 수 있는 AI 개발과 사용에 관한 행정명령 발표  ························· 1\\n   ▹ G7, 히로시마 AI 프로세스를 통해 AI 기업 대상 국제 행동강령에 합의··························· 2\\n   ▹ 영국 AI 안전성 정상회의에 참가한 28개국, AI 위험에 공동 대응 선언··························· 3\\n   ▹ 미국 법원, 예술가들이 생성 AI 기업에 제기한 저작권 소송 기각····································· 4\\n   ▹ 미국 연방거래위원회, 저작권청에 소비자 보호와 경쟁 측면의 AI 의견서 제출················· 5')]"
      ]
     },
     "execution_count": 15,
     "metadata": {},
     "output_type": "execute_result"
    }
   ],
   "source": [
    "# 3. 벡터 임베딩 + vectorstore 저장\n",
    "from langchain_openai import OpenAIEmbeddings  # 3. 임베딩 담당\n",
    "from langchain_community.vectorstores import FAISS  # 4. 벡터스토어 담당\n",
    "\n",
    "embedding = OpenAIEmbeddings()\n",
    "\n",
    "vectorstore = FAISS.from_documents(documents=docs_splitted, embedding=embedding)\n",
    "\n",
    "vectorstore.similarity_search(\n",
    "    '미국 대통령과 관련된 문서들 가져와봐'\n",
    ")"
   ]
  },
  {
   "cell_type": "markdown",
   "id": "db079ac8",
   "metadata": {},
   "source": [
    "## 검색 증강 단계\n",
    "\n",
    "1. 사용자 질문(Query)\n",
    "2. 검색(Retrieve)\n",
    "3. LLM\n",
    "4. 최종 답변"
   ]
  },
  {
   "cell_type": "code",
   "execution_count": null,
   "id": "c001b4cc",
   "metadata": {},
   "outputs": [
    {
     "data": {
      "text/plain": [
       "'삼성전자는 자체 개발한 생성 AI인 ‘삼성 가우스’를 공개했으며, 언어, 코드, 이미지 모델로 구성되어 온디바이스에서 작동합니다. 이 AI는 외부 유출 위험이 낮고, 스마트폰 등 다양한 제품에 단계적으로 탑재될 예정입니다. 2023년 11월 ‘삼성 AI 포럼 2023’에서 최초 공개되었으며, 향후 경쟁 제품들과의 차별화를 기대할 수 있습니다.'"
      ]
     },
     "execution_count": 24,
     "metadata": {},
     "output_type": "execute_result"
    }
   ],
   "source": [
    "from langchain import hub\n",
    "from langchain_openai import ChatOpenAI\n",
    "from langchain_core.runnables import RunnablePassthrough\n",
    "from langchain_core.output_parsers import StrOutputParser\n",
    "\n",
    "# 프롬프트(langchain hub에서)\n",
    "prompt = hub.pull('rlm/rag-prompt')\n",
    "\n",
    "# LLM(gpt)\n",
    "llm = ChatOpenAI(model='gpt-4.1-nano')\n",
    "\n",
    "# 검색기(Retriever)\n",
    "retriever = vectorstore.as_retriever()\n",
    "\n",
    "chain = (\n",
    "    {'context': retriever, 'question': RunnablePassthrough()}  # 들어온 인자가 그대로 들어옴\n",
    "    | prompt\n",
    "    | llm\n",
    "    | StrOutputParser()\n",
    ")\n",
    "\n",
    "chain.invoke('삼성전자 관련 소식을 다 가져와줘')"
   ]
  },
  {
   "cell_type": "code",
   "execution_count": 5,
   "id": "acc9a25a",
   "metadata": {},
   "outputs": [
    {
     "name": "stdout",
     "output_type": "stream",
     "text": [
      "1347\n",
      "6519\n"
     ]
    }
   ],
   "source": [
    "# 관심있는 데이터 소스로 RAG 해보기\n",
    "from langchain_community.document_loaders import PyMuPDFLoader  # 1. 데이터 로드 담당\n",
    "from langchain_text_splitters import RecursiveCharacterTextSplitter  # 2. 데이터 스플릿 담당\n",
    "from langchain_openai import OpenAIEmbeddings  # 3. 임베딩 담당\n",
    "from langchain_community.vectorstores import Chroma  # 4. 벡터스토어 담당\n",
    "\n",
    "# 1. 데이터 로딩\n",
    "loader = PyMuPDFLoader('../data/Organic_Chemistry.pdf')\n",
    "docs = loader.load()\n",
    "\n",
    "print(len(docs))\n",
    "\n",
    "# 2. 데이터 스플릿\n",
    "text_splitter = RecursiveCharacterTextSplitter(\n",
    "    chunk_size=500,  # 글자 수\n",
    "    chunk_overlap=50  # 두 청크 사이에 겹치는 글자 수를 50개\n",
    ")\n",
    "\n",
    "docs_splitted = text_splitter.split_documents(docs)\n",
    "print(len(docs_splitted))\n",
    "\n",
    "# 3. 임베딩\n",
    "embedding = OpenAIEmbeddings()\n",
    "\n",
    "# 4. 벡터스토어\n",
    "vectorstore = Chroma.from_documents(documents=docs_splitted, embedding=embedding)"
   ]
  },
  {
   "cell_type": "code",
   "execution_count": 9,
   "id": "a1e1e186",
   "metadata": {},
   "outputs": [
    {
     "data": {
      "text/plain": [
       "'이 책의 저자인 Francis A. Carey와 Richard J. Sundberg의 생애에 대한 구체적인 정보는 제공된 자료에 포함되어 있지 않습니다. 따라서 저자들의 생애에 대해 알 수 있는 내용이 없습니다. 추가적인 자료가 필요할 것 같습니다.'"
      ]
     },
     "execution_count": 9,
     "metadata": {},
     "output_type": "execute_result"
    }
   ],
   "source": [
    "from langchain.prompts import PromptTemplate\n",
    "from langchain_openai import ChatOpenAI\n",
    "from langchain_core.runnables import RunnablePassthrough, RunnableLambda\n",
    "from langchain_core.output_parsers import StrOutputParser\n",
    "from langchain_tavily import TavilySearch\n",
    "\n",
    "# 책 분석 프롬프트\n",
    "book_prompt = PromptTemplate(\n",
    "    input_variables=['query', 'book'],\n",
    "    template='''\n",
    "당신은 질문에 응답하는 작업을 하기 위한 유능한 도우미입니다.\n",
    "주어진 책에서 검색된 내용을 바탕으로, 사용자의 질문에 대한 답변을 작성하세요.\n",
    "최대 5문장까지 답변하고, 답변을 간결하게 유지하세요.\n",
    "답을 모르겠다면, 그냥 답을 모르겠다고 말하세요.\n",
    "\n",
    "질문: {query}\n",
    "\n",
    "책 내용: {book}\n",
    "\n",
    "답변:\n",
    "''')\n",
    "\n",
    "# 웹 검색 프롬프트\n",
    "web_prompt = PromptTemplate(\n",
    "    input_variables=['book_analysis'],\n",
    "    template='''\n",
    "당신은 질문에 응답하는 작업을 하기 위한 유능한 도우미입니다.\n",
    "아래 책 분석 내용을 바탕으로 추가 정보를 얻기 위한 검색어를 생성하세요.\n",
    "검색어는 짧고 간결하게 하나만 만드세요.\n",
    "답을 모르겠다면, 그냥 답을 모르겠다고 말하세요.\n",
    "\n",
    "책 분석 내용: {book_analysis}\n",
    "\n",
    "답변:\n",
    "''')\n",
    "\n",
    "# 최종 프롬프트\n",
    "final_prompt = PromptTemplate(\n",
    "    input_variables=['query', 'book_analysis', 'web_search'],\n",
    "    template='''\n",
    "당신은 질문에 응답하는 작업을 하기 위한 유능한 도우미입니다.\n",
    "다음은 책 분석과 웹 검색 결과입니다. 이 두 정보를 바탕으로, 사용자의 질문에 대한 최종 답변을 작성하세요.\n",
    "답을 모르겠다면, 그냥 답을 모르겠다고 말하세요.\n",
    "\n",
    "질문: {query}\n",
    "\n",
    "책 분석 내용: {book_analysis}\n",
    "\n",
    "웹 분석 내용: {web_search}\n",
    "\n",
    "답변:\n",
    "''')\n",
    "\n",
    "# LLM(gpt)\n",
    "llm = ChatOpenAI(model='gpt-4.1-nano', temperature=0)\n",
    "\n",
    "# 검색기(Retriever)\n",
    "retriever = vectorstore.as_retriever()\n",
    "\n",
    "# 웹검색\n",
    "search_tool = TavilySearch()\n",
    "\n",
    "# 웹 검색 결과 포맷\n",
    "format_web_results = RunnableLambda(\n",
    "    lambda x: \"\\n\".join([f\"- {r['title']}: {r['content']}\" for r in x[\"results\"]])\n",
    ")\n",
    "\n",
    "\n",
    "# book chain\n",
    "book_chain = (\n",
    "    {\n",
    "        \"query\": RunnablePassthrough(),\n",
    "        \"book\": retriever\n",
    "    }\n",
    "    | book_prompt\n",
    "    | llm\n",
    "    | StrOutputParser()\n",
    ")\n",
    "\n",
    "# web chain\n",
    "web_chain = (\n",
    "    book_chain\n",
    "    | web_prompt\n",
    "    | llm\n",
    "    | StrOutputParser()\n",
    "    | search_tool\n",
    "    | format_web_results\n",
    ")\n",
    "\n",
    "# 전체 체인\n",
    "chain = (\n",
    "    {\n",
    "        \"query\": RunnablePassthrough(),\n",
    "        \"book_analysis\": book_chain,\n",
    "        \"web_search\": web_chain\n",
    "    }\n",
    "    | final_prompt\n",
    "    | llm\n",
    "    | StrOutputParser()\n",
    ")\n",
    "\n",
    "chain.invoke('이 책의 저자의 생애가 궁금해')"
   ]
  },
  {
   "cell_type": "markdown",
   "id": "d5274643",
   "metadata": {},
   "source": [
    "## Agent + RAG"
   ]
  },
  {
   "cell_type": "code",
   "execution_count": 17,
   "id": "e28125da",
   "metadata": {},
   "outputs": [],
   "source": [
    "from langchain.agents import create_openai_tools_agent, AgentExecutor\n",
    "from langchain.chat_models import init_chat_model\n",
    "from langchain_core.prompts import ChatPromptTemplate, MessagesPlaceholder\n",
    "from langchain.memory import ConversationBufferMemory\n",
    "from datetime import datetime\n",
    "\n",
    "from langchain_community.document_loaders import PyMuPDFLoader  # 1. 데이터 로드 담당\n",
    "from langchain_text_splitters import RecursiveCharacterTextSplitter  # 2. 데이터 스플릿 담당\n",
    "from langchain_openai import OpenAIEmbeddings  # 3. 임베딩 담당\n",
    "from langchain_community.vectorstores import FAISS  # 4. 벡터스토어 담당\n",
    "from langchain.tools.retriever import create_retriever_tool\n",
    "\n",
    "today = datetime.today().strftime('%D')\n",
    "\n",
    "llm = ChatOpenAI(model='gpt-4.1-nano')\n",
    "\n",
    "loader = PyMuPDFLoader('../data/spri.pdf')\n",
    "docs = loader.load()\n",
    "\n",
    "splitter = RecursiveCharacterTextSplitter(chunk_size=500, chunk_overlap=50)\n",
    "split_docs = splitter.split_documents(docs)\n",
    "\n",
    "embedding = OpenAIEmbeddings()\n",
    "vectorstore = FAISS.from_documents(split_docs, embedding=embedding)\n",
    "retriever = vectorstore.as_retriever()\n",
    "\n",
    "rag_tool = create_retriever_tool(\n",
    "    retriever,\n",
    "    name='pdf_search',\n",
    "    description='PDF 문서에서 질문과 관련된 내용을 검색합니다'  # agent가 언제 이 툴을 쓸지 알게 된다\n",
    ")\n",
    "\n",
    "text = f'''\n",
    "너는 웹 검색도 가능하고, 2023년 12월 인공지능 산업 최신동향 정보를 담은 pdf도 검색할 수 있는 어시스턴트야.\n",
    "\n",
    "사용자가 pdf 문서와 관련된 질문(ex. 'pdf에서', '문서 내용', '파일에서')을 하면 반드시 pdf_search 도구를 써야 해\n",
    "\n",
    "오늘 날짜는 미국식 날짜 표기로 {today}야. 최신 정보에 관한 정보가 필요하다면, 이 날짜를 기준으로 생각해.\n",
    "\n",
    "사용자가 최신성이나 팩트 체크를 필요하는 질문을 한 경우, web_search를 실행해야 해.\n",
    "\n",
    "확실하게 판단이 되지 않는다면, web_search와 pdf_search 둘 다 사용해.\n",
    "\n",
    "사용자가 일반적인 질문을 하거나, 최신성 혹은 팩트 체크가 필요하자 않다면 도구를 사용하지 않아도 좋아.\n",
    "\n",
    "만약 답을 모르겠다면, 그냥 답을 모르겠다고 말해.\n",
    "\n",
    "가장 의미있는 검색결과들을 요약해서 질문에 답해줘.\n",
    "\n",
    "'''\n",
    "\n",
    "prompt = ChatPromptTemplate.from_messages([\n",
    "    ('system', text),\n",
    "    MessagesPlaceholder(variable_name='chat_history'),\n",
    "    ('human', '{input}'),\n",
    "    MessagesPlaceholder(variable_name='agent_scratchpad')\n",
    "])\n",
    "\n",
    "memory = ConversationBufferMemory(\n",
    "    return_messages=True,\n",
    "    memory_key='chat_history'\n",
    ")\n",
    "\n",
    "agent = create_openai_tools_agent(\n",
    "    llm=llm,\n",
    "    tools=[search_tool, rag_tool],\n",
    "    prompt=prompt,\n",
    ")\n",
    "\n",
    "agent_executer = AgentExecutor(agent=agent, memory=memory, tools=[search_tool, rag_tool], verbose=True)"
   ]
  },
  {
   "cell_type": "code",
   "execution_count": 19,
   "id": "3333c244",
   "metadata": {},
   "outputs": [
    {
     "name": "stdout",
     "output_type": "stream",
     "text": [
      "\n",
      "\n",
      "\u001b[1m> Entering new AgentExecutor chain...\u001b[0m\n",
      "\u001b[32;1m\u001b[1;3m\n",
      "Invoking: `tavily_search` with `{'query': '삼성전자 인공지능 산업 최신 동향 2023년 이후', 'search_depth': 'advanced', 'time_range': 'month'}`\n",
      "\n",
      "\n",
      "\u001b[0m\u001b[36;1m\u001b[1;3m{'query': '삼성전자 인공지능 산업 최신 동향 2023년 이후', 'follow_up_questions': None, 'answer': None, 'images': [], 'results': [{'url': 'https://www.eugenefn.com/common/files/amail//20250806_B_isbang_223.pdf', 'title': 'AI Quant', 'content': 'SK하이닉스 56_ Eugene Research Center 2024 년 하반기에 두 기업의 심리는 큰 변화를 맞이하였다. 먼저8 월 고점을 기 점으로 삼성전자에 대한 애널리스트 심리가 꺾이기 시작하여, 하반기 동안 가파 르게 하락세를 보였다. 특히 2024 년 10~11 월경 애널리스트 보고서에서 부정 적 톤이 쏟아지며 심리 점수가 급락하였고, 2024 년 말에는 중립(0)에 가까운 수 준까지 하락하였다. 이는 아마도 하반기 실적 악화나 업황 둔화에 대한 우려가 본격 반영된 결과로 해석된다. 이후 2025 년에 들어서 삼성전자 주가가 회복 국면을 보였지만, 애널리스트 심 리는 이전만큼 회복되지 않고 중립 부근의 신중한 수준에 머물렀다. 2025 년 3~4 월 일부 호전되어 +0.07 까지 상승, 2 분기 실적 컨퍼런스 이후 +0.15 로 큰 폭 상승하며 회복세를 지속하고 있다. SK하이닉스 애널리스트 심리 추이는 더욱 극적인 저점 대비 반등 양상을 보였다. 앞서 언급했듯 2023 [...] 지표이다. [Dr. AI Quant] 애널리스트 심리 대전: 삼성전자VS. SK하이닉스 42_ Eugene Research Center 2023 년 이후 구축된 삼성전자의 애널리스트의 전반적인 심리 변화 추이를 파악 할 수 있다. 분석 결과를 살펴보면 애널리스트 심리는 특정 기간에 군집하는 패 턴을 나타낸다. 예를 들어, 반도체 업황 회복 기대감이 고조되던 시기에는 다수 의 긍정적 보고서가 집중되며 심리가 상승하는 패턴이 나타났고, 실적 발표 시즌 직후에는 심리가 단기적으로 특정 방향으로 쏠리는 현상이 관찰되었다. 이러한 심리의 고점과 저점, 그리고 급격한 전환 구간을 식별하는 것은 시장의 주요 변 곡점을 이해하는 데 중요한 단서를 제공한다. 도표 26. 애널리스트 심리 변화와 삼성전자 주가 자료: 유진투자증권 특정 거래일(t 시점)에 하나 이상의 리포트가 발간된 경우, 해당일의 전체 심리 점수는 모든 FinBERT 점수의 산술 평균으로 계산된다. 리포트가 없는 날의 ASI 는 [...] +0.20 전후의 높은 수준을 유지 했다. 2024 년 말 시점에도 약 +0.18 로 여전히 강한 긍정 구간에 있었고, 2025 년 8 월 현재도 +0.15 수준으로 낙관론이 우위를 나타내고 있다. 다만 2 분기 실 적 시즌을 기점으로 애널리스트들의 보수적인 견해가 반영되면서 심리 점수가 하락하고 있다는 점은 주의가 필요하다고 판단된다. [Dr. AI Quant] 애널리스트 심리 대전: 삼성전자 VS. SK하이닉스 Eugene Research Center _57 애널리스트 심리 변화와 주가수익률 애널리스트의 심리 변화가 삼성전자와 SK 하이닉스의 주가에 미치는 영향을 분 석한 결과에서 전반적으로 긍정적인 심리 변화 이후 주가가 상승하고, 부정적인 심리 변화 이후에는 주가가 하락하는 경향을 나타냈다. 삼성전자의 경우 애널리스트 심리가 긍정적으로 변한 다음 날(t+1) 주가는 평균 +0.20% 상승했으며, 20 일 후(t+20)에는 +1.83%의 상승률을 보였다. 반대로 심리가', 'score': 0.6493346, 'raw_content': None}, {'url': 'https://www.metroseoul.co.kr/article/20250825500217', 'title': \"삼성전자, IFA서 '미래 인공지능 일상' 공개\", 'content': \"삼성전자의 AI 홈은 '미래의 가능성이 아닌 지금 경험할 수 있는 현실', '일부가 아닌 모두가 누릴 수 있는 경험'을 모토로 한다. IFA 2025 현장에서는 최신 디스플레이\", 'score': 0.6133529, 'raw_content': None}, {'url': 'https://www.samsungsds.com/kr/insights/security-threats-in-the-agentic-ai-era.html', 'title': 'Agentic AI 시대, 진화하는 보안 위협과 그 해법은?', 'content': \"+ 인사이트 리포트\\n  + 클라우드 기술 백서\\n  + 고객사례\\n  + 리소스\\n  + 동영상\\n  + GDC 활용으로 여는 새로운 가능성을 살펴보세요.\\n    자세히 보기\\n  + 클라우드 전략 수립과 공공시장의 클라우드 도입 환경에 대한 인사이트를 알아보세요.\\n    자세히 보기\\n  + 우리 비즈니스에 가장 현실적인 AI는 무엇인가?\\n    자세히 보기\\n 뉴스룸\\n\\n  + 언론보도\\n  + 이슈와 팩트\\n  + 미디어 갤러리\\n  + 삼성SDS가 'REAL Summit 2025’를 개최하고 AI 에이전트 기술이 이끄는 기업 혁신 전략을 선보인다.\\n    자세히 보기\\n  + 삼성SDS가 국내 최초로 ‘RISE with SAP 프리미엄 서플라이어(Premium Supplier)’로 선정됐다.\\n    자세히 보기\\n  + 삼성SDS가 AI 에이전트 시대를 열어 나가겠다고 선언했다.\\n    자세히 보기\\n 회사정보\\n\\n  + 회사소개 [...] :   Korea / 한국어\\n  :   APAC / English\\n  :   China / 中文\\n  :   Europe / English\\n  :   Global / English\\n  :   India/English\\n  :   Latin America/Português\\n  :   USA / English\\n  :   Vietnam / Vietnamese\\n 검색창 열기\\n\\n  SAMSUNG SDS 메인으로 이동\\n\\n  추천 검색어\\n\\n  패브릭스\\n  브리티 코파일럿\\n  브리티 오토메이션\\n  인공지능\\n  하이브리드 클라우드\\n  클라우드 전환\\n  첼로스퀘어\\n  팩토리 솔루션\\n\\n  검색창 닫기\\n 문의하기\\n  문의하기\\n 전체메뉴 열기\\n\\n  SAMSUNG SDS\\n\\n  전체메뉴 열기\\n\\n  + Generative AI\\n\\n    - Generative AI 개요\\n    - 패브릭스\\n    - 브리티 코파일럿\\n    - 브리티 오토메이션\\n    - 삼성 클라우드 플랫폼 AI/ML\\n  + 클라우드 [...] - 삼성SDS AI Agent\\n    - 삼성SDS AI의 특별함\\n    - 인공지능\\n\\n       인공지능\\n       패브릭스\\n       브라이틱스 머신러닝\\n       브라이틱스 데이터 허브\\n    - 협업 솔루션 | Brity Works\\n\\n       협업 솔루션 | Brity Works\\n       브리티 코파일럿\\n       브리티 메일\\n       브리티 메신저\\n       브리티 미팅\\n       브리티 드라이브\\n    - 업무 자동화 솔루션 | Brity Automation\\n\\n       업무 자동화 솔루션 | Brity Automation\\n       브리티 오토메이션\\n    - 팩토리 솔루션\\n\\n       MES\\n       AMHS\\n    - 엔터프라이즈 솔루션\", 'score': 0.4858686, 'raw_content': None}, {'url': 'http://www.thedailymoney.com/news/articleView.html?idxno=1116078', 'title': '삼성·LG전자, 하반기 로봇으로 붙는다…로청·AI 집사 출격 대기', 'content': '삼성전자와 LG전자가 올해 1월 미국 라스베이거스에서 열린 \\'CES 2025\\'에서 각각 공개한 \\'볼리\\'와 \\'Q9\\'도 연내 출시될 예정이다. 볼리와 Q9은 가정 내 전자제품과 IoT(사물인터넷) 기기를 연결해 제어하는 \\'허브\\' 역할을 한다.\\n\\n삼성전자는 사용자의 취향, 패턴 등을 학습해 개인화된 정보를 제공하는 \\'AI 동반자\\'로서의 볼리의 정체성을 강조한다. 볼리는 듀얼렌즈 기술 기반의 프로젝터를 탑재해 사용자의 다양한 요구에 맞춰 영상으로 정보를 제공한다.\\n\\nLG전자는 Q9을 \\'이동형 AI 홈 허브\\'로 소개한다. 음성 인식과 AI 기술을 활용해 가정 내 기기를 제어하는 본연의 기능에 더해 이동성과 멀티 모달 센싱을 갖춰 공간을 돌아다니며 능동적으로 환경을 파악하고 문제를 해결할 수 있다는 점이 특징이다.\\n\\n삼성전자와 LG전자가 각각 레인보우로보틱스, 베어로보틱스를 인수하고 관련 연구·개발을 진행하고 있어 향후 집안일을 보조할 수 있는 실질적인 가정용 로봇 개발도 전망된다. [...] ## 상단영역\\n\\n## 본문영역\\n\\n삼성·LG전자, 하반기 로봇으로 붙는다…로청·AI 집사 출격 대기\\n\\n스크롤 이동 상태바\\n\\n### 삼성·LG전자, 하반기 로봇으로 붙는다…로청·AI 집사 출격 대기\\n\\n 기자명\\n  조수미 기자\\n 입력 2025.08.12 09:17\\n 수정 2025.08.12 09:25\\n\\n삼성전자(005930)와 LG전자(066570)가 올 하반기에 차세대 로봇청소기와 인공지능(AI) 집사 로봇 등을 출시하며 로봇 경쟁을 펼칠 예정이다. 로봇청소기는 로보락, 에코백스 등 기술력과 가격 경쟁력을 갖춘 중국 기업들 상대로 차별화가 관건이다. AI 집사 로봇은 양사가 추진하는 AI 전략의 중추가 될 것으로 보인다.\\n\\n中 장악한 로봇청소기…삼성·LG 차별화 숙제\\n\\n12일 업계에 따르면 삼성전자와 LG전자는 다음 달 독일 베를린에서 열리는 유럽 최대 가전 전시회 \\'IFA 2025\\'에서 로봇청소기 신제품과 AI 집사 로봇 등을 전시할 전망이다. [...] 데일리머니 계좌번호 : 농협은행 302-1934-6681-91 국회일보사\\n\\n트윗하기\\n\\n#### 키워드\\n\\n#삼성전자\\n#LG전자\\n\\n조수미 기자\\nchosoomee@thedailymoney.com\\n\\n다른기사 보기\\n\\n저작권자 © 데일리머니 무단전재 및 재배포 금지\\n\\n독자안내 기사의 수정 및 삭제는 정기구독자 에게만 서비스 합니다\\n\\n이 시각 추천뉴스\\n\\n주요기사\\n\\n컴업스타즈 경쟁률 27.9대1…해외 진출 노리는 스타트업 몰려\\n\\n놀유니버스, 토스·세이버와 국제선 항공권 간편결제 도입\\n\\nLS일렉트릭·LS전선, 부산 벡스코서 차세대 전력 설루션 전시\\n\\nNH證 \"롯데관광개발, 한-중 관계 개선…목표가 2만3000원\"\\n\\nSSG닷컴 \\'소문난 신선세일\\' 진행…\"장보기 상품 최대 62% 할인\"\\n\\n삼성전자, 獨 IFA2025서 \\'앰비언트 AI\\' 구현된 미래 보여준다\\n\\n본문글씨 줄이기\\n\\n본문글씨 키우기\\n\\n인쇄\\n\\nURL주소\\n\\n본문글씨 줄이기\\n\\n본문글씨 키우기', 'score': 0.4851368, 'raw_content': None}, {'url': 'https://www.samsungsds.com/kr/insights/digital-technologies-in-supply-chain-management.html', 'title': 'SCM의 부활과 미래: 디지털 기술이 이끄는 공급망 관리 ...', 'content': '삼성SDS 글로벌 물류 서비스\\n\\n  + 삼성SDS 물류의 특별함\\n  + Cello Square\\n  + 모든 오퍼링 보기\\n  + 전문가 문의하기\\n\\n 이벤트\\n\\n  + 이벤트\\n  + 웨비나\\n  + 퍼블릭에서 SCP로 클라우드전환 성공 사례를 만나보세요.\\n    자세히 보기\\n  + AI 핵심기술과 고객 성공사례를 직접 만날 수 있는 REAL Summit 2025에 초대합니다.\\n    자세히 보기\\n  + Brity Meeting X Copilot 60일 무료 프로모션공유하기\\n    자세히 보기\\n 인사이트\\n\\n  + 인사이트 리포트\\n  + 클라우드 기술 백서\\n  + 고객사례\\n  + 리소스\\n  + 동영상\\n  + GDC 활용으로 여는 새로운 가능성을 살펴보세요.\\n    자세히 보기\\n  + 클라우드 전략 수립과 공공시장의 클라우드 도입 환경에 대한 인사이트를 알아보세요.\\n    자세히 보기\\n  + 우리 비즈니스에 가장 현실적인 AI는 무엇인가?\\n    자세히 보기\\n 뉴스룸 [...] - 삼성SDS AI Agent\\n    - 삼성SDS AI의 특별함\\n    - 인공지능\\n\\n       인공지능\\n       패브릭스\\n       브라이틱스 머신러닝\\n       브라이틱스 데이터 허브\\n    - 협업 솔루션 | Brity Works\\n\\n       협업 솔루션 | Brity Works\\n       브리티 코파일럿\\n       브리티 메일\\n       브리티 메신저\\n       브리티 미팅\\n       브리티 드라이브\\n    - 업무 자동화 솔루션 | Brity Automation\\n\\n       업무 자동화 솔루션 | Brity Automation\\n       브리티 오토메이션\\n    - 팩토리 솔루션\\n\\n       MES\\n       AMHS\\n    - 엔터프라이즈 솔루션 [...] 본문 바로 가기\\n\\n Generative AI\\n\\n  + Generative AI\\n  + 브리티 코파일럿\\n  + 브리티 오토메이션\\n  + 삼성 클라우드 플랫폼 AI/ML\\n\\n  AI New LIFE, 내일의 기술을 내 일의 기술로: 메인 편\\n\\n  + 삼성SDS AI의 특별함\\n  + AI New LIFE, 삼성SDS AI Agent\\n  + 모든 오퍼링 보기\\n  + 전문가 문의하기\\n + 삼성 클라우드 플랫폼\\n  + 민관협력형 클라우드 | PPP 클라우드\\n  + 공공 클라우드\\n  + 금융 클라우드\\n  + Private/Dedicated Cloud\\n  + GPU as a Service | GPUaaS\\n  + 매니지드 서비스\\n  + 클라우드 보안 서비스\\n  + 데이터센터/네트워크', 'score': 0.29263115, 'raw_content': None}], 'response_time': 3.86, 'request_id': '7937a38d-74ec-4e69-950e-f88e6dbfb175'}\u001b[0m\u001b[32;1m\u001b[1;3m최근 최신 동향에 따르면, 삼성전자는 인공지능 분야에서 여러 진보를 이뤄내고 있습니다. 특히, 2023년 이후에는 '삼성 가우스'라는 자체 생성형 AI를 개발하여 언어, 코드, 이미지 분야에서 온디바이스 AI 기술을 확장하고 있으며, 단계적으로 제품에 탑재할 계획입니다. 이 AI는 사용자정보 유출 위험이 적고, 다양한 사용자 경험을 향상시키기 위해 활용되고 있습니다.\n",
      "\n",
      "또한, 인공지능을 일상생활과 연계하는 다양한 프로젝트도 진행 중입니다. 예를 들어, 2025년 IFA에서 '미래 인공지능 일상'을 공개하며, 디스플레이와 AI 홈 기술을 선보이고 있고, 로봇 분야에서는 로봇청소기와 AI 집사 로봇의 개발 및 출시를 준비하는 모습이 포착되고 있습니다. 삼성이 인수한 로봇기업을 활용하여 집안일 보조 로봇 개발도 추진 중입니다.\n",
      "\n",
      "현재 삼성은 글로벌 공급망 관리에도 디지털 기술과 AI를 접목시키며, 공급망의 부활과 미래 전략을 강화하는 한편, AI 기반 솔루션과 클라우드 플랫폼 등을 다양하게 확장하고 있습니다.\n",
      "\n",
      "전반적으로 삼성전자는 AI와 로봇, 클라우드 등 핵심 기술에서 지속적으로 혁신을 추진하며 산업 전반에 영향을 미치고 있는 모습입니다.\u001b[0m\n",
      "\n",
      "\u001b[1m> Finished chain.\u001b[0m\n"
     ]
    },
    {
     "data": {
      "text/plain": [
       "{'input': '지금 정보는 2023년 기준인데, 관련된 최신 동향을 보고 싶어',\n",
       " 'chat_history': [HumanMessage(content='pdf에서 삼성전자 관련 내용을 요약해줘.', additional_kwargs={}, response_metadata={}),\n",
       "  AIMessage(content='삼성전자에 관한 내용은 다음과 같습니다:\\n\\n1. **생성형 인공지능 ‘삼성 가우스’ 공개**: 삼성전자는 2023년 11월 8일 ‘삼성 AI 포럼 2023’에서 자체 개발한 생성형 AI인 ‘삼성 가우스’를 공개하였으며, 이 모델은 온디바이스에서 작동 가능하고, 언어, 코드, 이미지를 각각 담당하는 3개 모델로 구성되어 있습니다. 이는 외부로 사용자 정보 유출 위험이 없으며, 단계적으로 다양한 제품에 탑재될 계획입니다.\\n\\n2. **삼성 가우스의 특징**:\\n   - 언어, 코드, 이미지 세 가지 모델로 구성\\n   - 클라우드와 온디바이스용 모델 제공, 메일 작성, 문서 요약, 번역 지원\\n   - AI 코딩 어시스턴트 ‘코드아이’를 통해 소프트웨어 개발 최적화\\n   - 이미지를 창의적으로 생성하고 편집하며, 저해상도 이미지를 고해상도로 전환하는 기능 포함\\n   - 라이선스 또는 개인정보 침해 없이 학습된 안전한 데이터 활용\\n\\n3. **제품과 기술 적용 계획**: 삼성전자는 ‘삼성 가우스’를 다양한 제품에 단계적으로 탑재하며, 향후 온디바이스 AI 기술 강화에 주력할 예정입니다.\\n\\n4. **기타 관련 행사**:\\n   - 2024년 1월 9일~12일, 미국 라스베이거스에서 CES 2024가 열리며, AI를 포함한 최신 기술들이 전시될 예정입니다.\\n   - AI와 머신러닝 관련 국제 컨퍼런스인 AIMLA 2024도 개최 예정입니다.\\n\\n이 내용은 삼성전자의 최신 AI 개발 및 관련 기술 적용 계획에 대한 정보를 포함하고 있습니다.', additional_kwargs={}, response_metadata={}),\n",
       "  HumanMessage(content='지금 정보는 2023년 기준인데, 관련된 최신 동향을 보고 싶어', additional_kwargs={}, response_metadata={}),\n",
       "  AIMessage(content=\"최근 최신 동향에 따르면, 삼성전자는 인공지능 분야에서 여러 진보를 이뤄내고 있습니다. 특히, 2023년 이후에는 '삼성 가우스'라는 자체 생성형 AI를 개발하여 언어, 코드, 이미지 분야에서 온디바이스 AI 기술을 확장하고 있으며, 단계적으로 제품에 탑재할 계획입니다. 이 AI는 사용자정보 유출 위험이 적고, 다양한 사용자 경험을 향상시키기 위해 활용되고 있습니다.\\n\\n또한, 인공지능을 일상생활과 연계하는 다양한 프로젝트도 진행 중입니다. 예를 들어, 2025년 IFA에서 '미래 인공지능 일상'을 공개하며, 디스플레이와 AI 홈 기술을 선보이고 있고, 로봇 분야에서는 로봇청소기와 AI 집사 로봇의 개발 및 출시를 준비하는 모습이 포착되고 있습니다. 삼성이 인수한 로봇기업을 활용하여 집안일 보조 로봇 개발도 추진 중입니다.\\n\\n현재 삼성은 글로벌 공급망 관리에도 디지털 기술과 AI를 접목시키며, 공급망의 부활과 미래 전략을 강화하는 한편, AI 기반 솔루션과 클라우드 플랫폼 등을 다양하게 확장하고 있습니다.\\n\\n전반적으로 삼성전자는 AI와 로봇, 클라우드 등 핵심 기술에서 지속적으로 혁신을 추진하며 산업 전반에 영향을 미치고 있는 모습입니다.\", additional_kwargs={}, response_metadata={})],\n",
       " 'output': \"최근 최신 동향에 따르면, 삼성전자는 인공지능 분야에서 여러 진보를 이뤄내고 있습니다. 특히, 2023년 이후에는 '삼성 가우스'라는 자체 생성형 AI를 개발하여 언어, 코드, 이미지 분야에서 온디바이스 AI 기술을 확장하고 있으며, 단계적으로 제품에 탑재할 계획입니다. 이 AI는 사용자정보 유출 위험이 적고, 다양한 사용자 경험을 향상시키기 위해 활용되고 있습니다.\\n\\n또한, 인공지능을 일상생활과 연계하는 다양한 프로젝트도 진행 중입니다. 예를 들어, 2025년 IFA에서 '미래 인공지능 일상'을 공개하며, 디스플레이와 AI 홈 기술을 선보이고 있고, 로봇 분야에서는 로봇청소기와 AI 집사 로봇의 개발 및 출시를 준비하는 모습이 포착되고 있습니다. 삼성이 인수한 로봇기업을 활용하여 집안일 보조 로봇 개발도 추진 중입니다.\\n\\n현재 삼성은 글로벌 공급망 관리에도 디지털 기술과 AI를 접목시키며, 공급망의 부활과 미래 전략을 강화하는 한편, AI 기반 솔루션과 클라우드 플랫폼 등을 다양하게 확장하고 있습니다.\\n\\n전반적으로 삼성전자는 AI와 로봇, 클라우드 등 핵심 기술에서 지속적으로 혁신을 추진하며 산업 전반에 영향을 미치고 있는 모습입니다.\"}"
      ]
     },
     "execution_count": 19,
     "metadata": {},
     "output_type": "execute_result"
    }
   ],
   "source": [
    "agent_executer.invoke({'input': '지금 정보는 2023년 기준인데, 관련된 최신 동향을 보고 싶어'})"
   ]
  }
 ],
 "metadata": {
  "kernelspec": {
   "display_name": "Python 3",
   "language": "python",
   "name": "python3"
  },
  "language_info": {
   "codemirror_mode": {
    "name": "ipython",
    "version": 3
   },
   "file_extension": ".py",
   "mimetype": "text/x-python",
   "name": "python",
   "nbconvert_exporter": "python",
   "pygments_lexer": "ipython3",
   "version": "3.13.2"
  }
 },
 "nbformat": 4,
 "nbformat_minor": 5
}
