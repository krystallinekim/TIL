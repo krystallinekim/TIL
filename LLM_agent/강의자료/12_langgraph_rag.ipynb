{
 "cells": [
  {
   "cell_type": "markdown",
   "id": "13629a95",
   "metadata": {},
   "source": [
    "# RAG w/ Langgraph\n",
    "랭그래프에 RAG 추가하기"
   ]
  },
  {
   "cell_type": "code",
   "execution_count": 2,
   "id": "775e4f7c",
   "metadata": {},
   "outputs": [
    {
     "data": {
      "text/plain": [
       "True"
      ]
     },
     "execution_count": 2,
     "metadata": {},
     "output_type": "execute_result"
    }
   ],
   "source": [
    "from dotenv import load_dotenv\n",
    "\n",
    "load_dotenv()"
   ]
  },
  {
   "cell_type": "code",
   "execution_count": null,
   "id": "b59c3eed",
   "metadata": {},
   "outputs": [],
   "source": [
    "# RAG 준비\n",
    "\n",
    "# 1. Loader\n",
    "from langchain_community.document_loaders import WebBaseLoader\n",
    "from bs4.filter import SoupStrainer\n",
    "\n",
    "loader = WebBaseLoader(\n",
    "    web_paths=('https://lilianweng.github.io/posts/2023-06-23-agent/',),  # 여러개 가져오려면 튜플 안에 추가하면 됨\n",
    "    # 웹페이지에서 필요한 정보를 선택하기\n",
    "    bs_kwargs={\n",
    "        'parse_only': SoupStrainer(class_=['post-content'])\n",
    "    },\n",
    "    # header_template={},\n",
    ")\n",
    "docs = loader.load()\n",
    "\n",
    "# 웹페이지를 그대로 긁어오면, 필요없는 부분(사이트 제목, 밑에 광고들, 등등)이 뒤섞여서 나온다. -> 필요한 부분을 선택적으로 가져와야 함 -> bs_kwargs\n",
    "# from pprint import pprint\n",
    "# pprint(docs[0].page_content)\n",
    "\n",
    "# 2. Splitter\n",
    "from langchain_text_splitters import RecursiveCharacterTextSplitter\n",
    "\n",
    "splitter = RecursiveCharacterTextSplitter(\n",
    "    chunk_size=1000,\n",
    "    chunk_overlap=500\n",
    ")\n",
    "splitted_docs = splitter.split_documents(docs)\n",
    "# print(len(splitted_docs))\n",
    "\n",
    "# 3. Enbedding Model\n",
    "from langchain_openai import OpenAIEmbeddings\n",
    "\n",
    "embedding = OpenAIEmbeddings(model='text-embedding-3-small')  # small <-> large\n",
    "\n",
    "# 4. Vectorstore (일단은 FAISS, 나중엔 클라우드(Pinecone)에 저장할 것)\n",
    "from langchain_community.vectorstores import FAISS\n",
    "\n",
    "vectorstore = FAISS.from_documents(splitted_docs, embedding=embedding)"
   ]
  },
  {
   "cell_type": "code",
   "execution_count": 21,
   "id": "28570f9d",
   "metadata": {},
   "outputs": [
    {
     "name": "stdout",
     "output_type": "stream",
     "text": [
      "================================\u001b[1m Human Message \u001b[0m=================================\n",
      "\n",
      "You are an assistant for question-answering tasks. Use the following pieces of retrieved context to answer the question. If you don't know the answer, just say that you don't know. Use three sentences maximum and keep the answer concise.\n",
      "Question: \u001b[33;1m\u001b[1;3m{question}\u001b[0m \n",
      "Context: \u001b[33;1m\u001b[1;3m{context}\u001b[0m \n",
      "Answer:\n"
     ]
    }
   ],
   "source": [
    "# RAG\n",
    "\n",
    "# 1. 프롬프트\n",
    "from langchain import hub\n",
    "\n",
    "prompt = hub.pull('rlm/rag-prompt')\n",
    "for msg in prompt.messages:\n",
    "    msg.pretty_print()"
   ]
  },
  {
   "cell_type": "code",
   "execution_count": null,
   "id": "b9eb3b64",
   "metadata": {},
   "outputs": [],
   "source": [
    "# 랭그래프\n",
    "\n",
    "# 1. State\n",
    "from typing_extensions import TypedDict, List\n",
    "from langchain_core.documents import Document\n",
    "\n",
    "class State(TypedDict):\n",
    "    # 프롬프트에 뚫린 구멍은 반드시 채워줘야함\n",
    "    question: str  # 사용자의 질문\n",
    "    context: List[Document]  # LLM에게 전달할 RAG 데이터의 문서조각. List[Document]는 context에 Document 객체가 리스트로 모여있을 것이라는 의미\n",
    "    answer: str  # LLM의 답안\n",
    "\n",
    "# 2. Node\n",
    "#   검색노드\n",
    "def retrieve(state: State):\n",
    "    retrieved_docs = vectorstore.similarity_search(state['question'])  # [Document 타입 객체 x 4]\n",
    "    return {'context': retrieved_docs}\n",
    "\n",
    "\n",
    "# 3. Graph"
   ]
  }
 ],
 "metadata": {
  "kernelspec": {
   "display_name": "Python 3",
   "language": "python",
   "name": "python3"
  },
  "language_info": {
   "codemirror_mode": {
    "name": "ipython",
    "version": 3
   },
   "file_extension": ".py",
   "mimetype": "text/x-python",
   "name": "python",
   "nbconvert_exporter": "python",
   "pygments_lexer": "ipython3",
   "version": "3.13.2"
  }
 },
 "nbformat": 4,
 "nbformat_minor": 5
}
