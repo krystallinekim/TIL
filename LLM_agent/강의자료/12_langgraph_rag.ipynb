{
 "cells": [
  {
   "cell_type": "markdown",
   "id": "13629a95",
   "metadata": {},
   "source": [
    "# RAG w/ Langgraph\n",
    "랭그래프에 RAG 추가하기"
   ]
  },
  {
   "cell_type": "code",
   "execution_count": 1,
   "id": "775e4f7c",
   "metadata": {},
   "outputs": [
    {
     "data": {
      "text/plain": [
       "True"
      ]
     },
     "execution_count": 1,
     "metadata": {},
     "output_type": "execute_result"
    }
   ],
   "source": [
    "from dotenv import load_dotenv\n",
    "\n",
    "load_dotenv()"
   ]
  },
  {
   "cell_type": "code",
   "execution_count": 2,
   "id": "b59c3eed",
   "metadata": {},
   "outputs": [
    {
     "name": "stderr",
     "output_type": "stream",
     "text": [
      "USER_AGENT environment variable not set, consider setting it to identify your requests.\n"
     ]
    }
   ],
   "source": [
    "# RAG 준비\n",
    "\n",
    "# 1. Loader\n",
    "from langchain_community.document_loaders import WebBaseLoader\n",
    "from bs4.filter import SoupStrainer\n",
    "\n",
    "loader = WebBaseLoader(\n",
    "    web_paths=('https://lilianweng.github.io/posts/2023-06-23-agent/',),  # 여러개 가져오려면 튜플 안에 추가하면 됨\n",
    "    # 웹페이지에서 필요한 정보를 선택하기\n",
    "    bs_kwargs={\n",
    "        'parse_only': SoupStrainer(class_=['post-content'])\n",
    "    },\n",
    "    # header_template={},\n",
    ")\n",
    "docs = loader.load()\n",
    "\n",
    "# 웹페이지를 그대로 긁어오면, 필요없는 부분(사이트 제목, 밑에 광고들, 등등)이 뒤섞여서 나온다. -> 필요한 부분을 선택적으로 가져와야 함 -> bs_kwargs\n",
    "# from pprint import pprint\n",
    "# pprint(docs[0].page_content)\n",
    "\n",
    "# 2. Splitter\n",
    "from langchain_text_splitters import RecursiveCharacterTextSplitter\n",
    "\n",
    "splitter = RecursiveCharacterTextSplitter(\n",
    "    chunk_size=1000,\n",
    "    chunk_overlap=500\n",
    ")\n",
    "splitted_docs = splitter.split_documents(docs)\n",
    "# print(len(splitted_docs))\n",
    "\n",
    "# 3. Enbedding Model\n",
    "from langchain_openai import OpenAIEmbeddings\n",
    "\n",
    "embedding = OpenAIEmbeddings(model='text-embedding-3-small')  # small <-> large\n",
    "\n",
    "# 4. Vectorstore (일단은 FAISS, 나중엔 클라우드(Pinecone)에 저장할 것)\n",
    "from langchain_community.vectorstores import FAISS\n",
    "\n",
    "vectorstore = FAISS.from_documents(splitted_docs, embedding=embedding)"
   ]
  },
  {
   "cell_type": "code",
   "execution_count": 3,
   "id": "28570f9d",
   "metadata": {},
   "outputs": [
    {
     "name": "stdout",
     "output_type": "stream",
     "text": [
      "================================\u001b[1m Human Message \u001b[0m=================================\n",
      "\n",
      "You are an assistant for question-answering tasks. Use the following pieces of retrieved context to answer the question. If you don't know the answer, just say that you don't know. Use three sentences maximum and keep the answer concise.\n",
      "Question: \u001b[33;1m\u001b[1;3m{question}\u001b[0m \n",
      "Context: \u001b[33;1m\u001b[1;3m{context}\u001b[0m \n",
      "Answer:\n"
     ]
    }
   ],
   "source": [
    "# 프롬프트\n",
    "from langchain import hub\n",
    "\n",
    "prompt = hub.pull('rlm/rag-prompt')\n",
    "for msg in prompt.messages:\n",
    "    msg.pretty_print()"
   ]
  },
  {
   "cell_type": "code",
   "execution_count": 4,
   "id": "b9eb3b64",
   "metadata": {},
   "outputs": [
    {
     "data": {
      "image/png": "[encoded data removed]",
      "text/plain": [
       "<IPython.core.display.Image object>"
      ]
     },
     "metadata": {},
     "output_type": "display_data"
    }
   ],
   "source": [
    "# 랭그래프\n",
    "\n",
    "# 1. State\n",
    "from typing_extensions import TypedDict, List\n",
    "from langchain_core.documents import Document\n",
    "\n",
    "class State(TypedDict):\n",
    "    # 프롬프트에 뚫린 구멍은 반드시 채워줘야함\n",
    "    question: str  # 사용자의 질문\n",
    "    context: List[Document]  # LLM에게 전달할 RAG 데이터의 문서조각. List[Document]는 context에 Document 객체가 리스트로 모여있을 것이라는 의미\n",
    "    answer: str  # LLM의 답안\n",
    "\n",
    "# 2. Node\n",
    "# 2-1. 검색노드\n",
    "def retrieve(state: State):\n",
    "    retrieved_docs = vectorstore.similarity_search(state['question'], k=4)  # [Document 타입 객체 x 4]\n",
    "    return {'context': retrieved_docs}  # 언급하지 않은 state 항목들(question, answer)은 내부적으로 알아서 그대로 들어가짐\n",
    "\n",
    "# 2-2. 답변생성노드\n",
    "from langchain_openai import ChatOpenAI\n",
    "\n",
    "def generate(state: State):\n",
    "\n",
    "    # 내용에 해당하는 page_content만 모아서 토큰 절약\n",
    "    context_str = ''\n",
    "    for doc in state['context']:\n",
    "        context_str += doc.page_content + '\\n-----------------------------------------------\\n'\n",
    "\n",
    "    question_with_context = prompt.invoke({'question': state['question'], 'context': context_str})\n",
    "    llm = ChatOpenAI(model='gpt-4.1', temperature=0)\n",
    "    res = llm.invoke(question_with_context)    \n",
    "    return {'answer': res.content}\n",
    "\n",
    "# 3. Graph\n",
    "from langgraph.graph import START, END, StateGraph\n",
    "\n",
    "builder = StateGraph(State)\n",
    "\n",
    "builder.add_node('retrieve', retrieve)\n",
    "builder.add_node('generate', generate)\n",
    "\n",
    "builder.add_edge(START, 'retrieve')\n",
    "builder.add_edge('retrieve', 'generate')\n",
    "builder.add_edge('generate', END)\n",
    "\n",
    "graph = builder.compile()\n",
    "\n",
    "# 4. 시각화\n",
    "from IPython.display import Image, display\n",
    "\n",
    "display(Image(graph.get_graph().draw_mermaid_png()))"
   ]
  },
  {
   "cell_type": "code",
   "execution_count": 5,
   "id": "fb763236",
   "metadata": {},
   "outputs": [
    {
     "name": "stdout",
     "output_type": "stream",
     "text": [
      "에이전트 시스템은 주어진 목표를 달성하기 위해 자율적으로 작업을 수행하는 소프트웨어 구조입니다. LLM(대형 언어 모델) 기반 에이전트 시스템은 인터넷 검색, 장기 기억 관리, 파일 출력, 외부 API 호출 등 다양한 도구를 활용해 복잡한 문제를 해결할 수 있습니다. 또한, 자신의 행동을 지속적으로 평가하고 효율적으로 작업을 수행하도록 설계되어 있습니다.\n"
     ]
    }
   ],
   "source": [
    "final_state = graph.invoke({'question': '에이전트 시스템에 대해 알려줘'}) \n",
    "\n",
    "print(final_state['answer'])"
   ]
  },
  {
   "cell_type": "markdown",
   "id": "b65d78ea",
   "metadata": {},
   "source": [
    "## RAG +a"
   ]
  },
  {
   "cell_type": "markdown",
   "id": "7e51979c",
   "metadata": {},
   "source": [
    "### 메타데이터 편집\n",
    "원본 내용은 그대로 두되, 추가적으로 넣고 싶은 내용을 추가/삭제할 수 있다"
   ]
  },
  {
   "cell_type": "code",
   "execution_count": 6,
   "id": "e3bb3e48",
   "metadata": {},
   "outputs": [
    {
     "name": "stdout",
     "output_type": "stream",
     "text": [
      "{'source': 'https://lilianweng.github.io/posts/2023-06-23-agent/', 'section': 'beginning'}\n"
     ]
    }
   ],
   "source": [
    "# splitted_docs를 나눠서 전/중/후반부를 메타데이터에 추가하고 싶음\n",
    "third = len(splitted_docs) // 3\n",
    "\n",
    "for idx, doc in enumerate(splitted_docs):\n",
    "    if idx < third:\n",
    "        doc.metadata['section'] = 'beginning'\n",
    "    elif idx < third * 2:\n",
    "        doc.metadata['section'] = 'middle'        \n",
    "    else:\n",
    "        doc.metadata['section'] = 'end'\n",
    "print(splitted_docs[0].metadata)\n",
    "\n",
    "vectorstore = FAISS.from_documents(splitted_docs, embedding=embedding) "
   ]
  },
  {
   "cell_type": "markdown",
   "id": "ae657ab9",
   "metadata": {},
   "source": [
    "### 쿼리 분석/개선\n",
    "\n",
    "질문이 이어질 때, 이전 질문 내용을 사용해야 하는 질문이 들어오는 경우가 있다.\n",
    "\n",
    "지금 질문 + 이전 질문 내용과 답변 내용을 LLM에 넣어서, 새로 적합한 쿼리를 만들어서 RAG를 돌려줘야 함"
   ]
  },
  {
   "cell_type": "code",
   "execution_count": 7,
   "id": "9e275901",
   "metadata": {},
   "outputs": [],
   "source": [
    "# 쿼리를 분석해서, 질문에 전/중/후반부가 있다면 메타데이터를 참고하면 좋겠음\n",
    "from typing import Literal  # 말 그대로\n",
    "from typing_extensions import Annotated  # 첨언, 주석\n",
    "\n",
    "\n",
    "# StructuredOutput에서 사용하기 좋다. pydantic이랑 비슷한거\n",
    "class Search(TypedDict):\n",
    "    '''Vectorstore Search Query'''\n",
    "    # Annotated[타입(str), NOT NULL(... : 비어있지 않다), 설명(이 항목에 대한 설명)]\n",
    "    query: Annotated[str, ..., 'search query to run']\n",
    "    section: Annotated[\n",
    "        Literal['beginning', 'middle', 'end'],  # section은 전/중/후반부만 존재함\n",
    "        ...,\n",
    "        'Section to query'\n",
    "    ]\n",
    "    \n",
    "# question / query: question보다 좀 더 유사도 검색이 잘 되게 하는 query가 필요함\n",
    "class MyState(TypedDict):\n",
    "    question: str  \n",
    "    query: Search  # 이 쿼리는 Search를 참고할 것 -> state를 더 자세하게 정의하기 위해 따로 정의한 class Search\n",
    "    context: List[Document]\n",
    "    answer: str"
   ]
  },
  {
   "cell_type": "code",
   "execution_count": 12,
   "id": "3b19f765",
   "metadata": {},
   "outputs": [
    {
     "data": {
      "text/plain": [
       "{'query': 'LLM 작업 분해', 'section': 'beginning'}"
      ]
     },
     "execution_count": 12,
     "metadata": {},
     "output_type": "execute_result"
    }
   ],
   "source": [
    "llm = ChatOpenAI(model='gpt-4.1', temperature=0)\n",
    "\n",
    "s_llm = llm.with_structured_output(Search)  # 답변이 무조건 Search 클래스의 인스턴스로 나온다\n",
    "s_llm.invoke('그그 문서 앞쪽에 LLM 작ㅇ업 분해인가 하는 그게 뭐야')  # 벡터스토어에 비교하기 훨씬 좋게 맞춰준다. 기준은 Search 클래스의 docstring에 써있는 그대로."
   ]
  },
  {
   "cell_type": "code",
   "execution_count": 13,
   "id": "2dc933a7",
   "metadata": {},
   "outputs": [],
   "source": [
    "def analyze_query(state: MyState):\n",
    "    # Search 클래스에 맞게 사용자의 question을 {query, section}으로 바꿔줌\n",
    "    s_llm = llm.with_structured_output(Search)  # 답변이 무조건 Search 클래스의 인스턴스로 나온다\n",
    "    query = s_llm.invoke(state['question'])\n",
    "    return {'query': query}\n",
    "\n",
    "def retrieve(state: MyState):\n",
    "    query = state['query']\n",
    "    retrieved_docs = vectorstore.similarity_search(\n",
    "        query['query'], \n",
    "        # 필터함수를 돌려서 section이 쿼리의 section과 맞을 경우만 추려냄\n",
    "        filter=lambda metadata: metadata.get('section') == query['section']  # 벡터스토어의 결과에도 검증함수를 걸 수 있고, 그냥 데이터만이 아니라 메타데이터도 조건에 걸 수 있다. \n",
    "    )\n",
    "    return {'context': retrieved_docs}  # 언급하지 않은 state 항목들(question, answer)은 내부적으로 알아서 그대로 들어가짐\n",
    "\n",
    "def generate(state: MyState):\n",
    "    context_str = ''\n",
    "    for doc in state['context']:\n",
    "        context_str += doc.page_content + '\\n-----------------------------------------------\\n'\n",
    "\n",
    "    question_with_context = prompt.invoke({'question': state['question'], 'context': context_str})\n",
    "    res = llm.invoke(question_with_context)    \n",
    "    return {'answer': res.content}\n",
    "\n",
    "builder = StateGraph(State)\n",
    "\n",
    "builder.add_node('analyze_query', analyze_query)\n",
    "builder.add_node('retrieve', retrieve)\n",
    "builder.add_node('generate', generate)\n",
    "\n",
    "builder.add_edge(START, 'analyze_query')\n",
    "builder.add_edge('analyze_query', 'retrieve')\n",
    "builder.add_edge('retrieve', 'generate')\n",
    "builder.add_edge('generate', END)\n",
    "\n",
    "graph = builder.compile()"
   ]
  },
  {
   "cell_type": "code",
   "execution_count": null,
   "id": "b1335f88",
   "metadata": {},
   "outputs": [
    {
     "data": {
      "text/plain": [
       "{'question': '그그 문서 앞쪽에 LLM 작ㅇ업 분배인가 하는 그게 뭐야',\n",
       " 'context': [Document(id='f2ca9a03-24d9-4c81-a689-e278866313a7', metadata={'source': 'https://lilianweng.github.io/posts/2023-06-23-agent/', 'section': 'beginning'}, page_content='Task decomposition can be done (1) by LLM with simple prompting like \"Steps for XYZ.\\\\n1.\", \"What are the subgoals for achieving XYZ?\", (2) by using task-specific instructions; e.g. \"Write a story outline.\" for writing a novel, or (3) with human inputs.\\nAnother quite distinct approach, LLM+P (Liu et al. 2023), involves relying on an external classical planner to do long-horizon planning. This approach utilizes the Planning Domain Definition Language (PDDL) as an intermediate interface to describe the planning problem. In this process, LLM (1) translates the problem into “Problem PDDL”, then (2) requests a classical planner to generate a PDDL plan based on an existing “Domain PDDL”, and finally (3) translates the PDDL plan back into natural language. Essentially, the planning step is outsourced to an external tool, assuming the availability of domain-specific PDDL and a suitable planner which is common in certain robotic setups but not in many other domains.\\nSelf-Reflection#'),\n",
       "  Document(id='c9cb0a4e-36d4-4e16-9ea7-387eb87243cb', metadata={'source': 'https://lilianweng.github.io/posts/2023-06-23-agent/', 'section': 'beginning'}, page_content='Building agents with LLM (large language model) as its core controller is a cool concept. Several proof-of-concepts demos, such as AutoGPT, GPT-Engineer and BabyAGI, serve as inspiring examples. The potentiality of LLM extends beyond generating well-written copies, stories, essays and programs; it can be framed as a powerful general problem solver.\\nAgent System Overview#\\nIn a LLM-powered autonomous agent system, LLM functions as the agent’s brain, complemented by several key components:\\n\\nPlanning\\n\\nSubgoal and decomposition: The agent breaks down large tasks into smaller, manageable subgoals, enabling efficient handling of complex tasks.\\nReflection and refinement: The agent can do self-criticism and self-reflection over past actions, learn from mistakes and refine them for future steps, thereby improving the quality of final results.\\n\\n\\nMemory'),\n",
       "  Document(id='36e87ee7-a951-4133-823f-42e0f54f3340', metadata={'source': 'https://lilianweng.github.io/posts/2023-06-23-agent/', 'section': 'beginning'}, page_content='MRKL (Karpas et al. 2022), short for “Modular Reasoning, Knowledge and Language”, is a neuro-symbolic architecture for autonomous agents. A MRKL system is proposed to contain a collection of “expert” modules and the general-purpose LLM works as a router to route inquiries to the best suitable expert module. These modules can be neural (e.g. deep learning models) or symbolic (e.g. math calculator, currency converter, weather API).\\nThey did an experiment on fine-tuning LLM to call a calculator, using arithmetic as a test case. Their experiments showed that it was harder to solve verbal math problems than explicitly stated math problems because LLMs (7B Jurassic1-large model) failed to extract the right arguments for the basic arithmetic reliably. The results highlight when the external symbolic tools can work reliably, knowing when to and how to use the tools are crucial, determined by the LLM capability.'),\n",
       "  Document(id='fdd0abb2-9f89-4091-abd4-5c143d6e3752', metadata={'source': 'https://lilianweng.github.io/posts/2023-06-23-agent/', 'section': 'beginning'}, page_content='Tool use\\n\\nThe agent learns to call external APIs for extra information that is missing from the model weights (often hard to change after pre-training), including current information, code execution capability, access to proprietary information sources and more.\\n\\n\\n\\n\\n\\nOverview of a LLM-powered autonomous agent system.')],\n",
       " 'answer': '문서 앞쪽에 나오는 \"LLM 작업 분배\"는 LLM(대형 언어 모델)이 큰 작업을 더 작은 하위 목표나 단계로 쪼개어(subgoal and decomposition) 효율적으로 처리하는 과정을 의미합니다. 즉, 복잡한 문제를 해결하기 위해 LLM이 스스로 작업을 분해하고 각 단계별로 처리하는 역할을 한다는 뜻입니다. 이를 통해 LLM 기반 에이전트가 복잡한 문제도 체계적으로 해결할 수 있습니다.'}"
      ]
     },
     "execution_count": 14,
     "metadata": {},
     "output_type": "execute_result"
    }
   ],
   "source": [
    "graph.invoke({'question': '그그 문서 앞쪽에 LLM 작ㅇ업 분배인가 하는 그게 뭐야'})  # 메타데이터를 'beginning' 만 가져온 걸 알 수 있음"
   ]
  }
 ],
 "metadata": {
  "kernelspec": {
   "display_name": "Python 3",
   "language": "python",
   "name": "python3"
  },
  "language_info": {
   "codemirror_mode": {
    "name": "ipython",
    "version": 3
   },
   "file_extension": ".py",
   "mimetype": "text/x-python",
   "name": "python",
   "nbconvert_exporter": "python",
   "pygments_lexer": "ipython3",
   "version": "3.13.2"
  }
 },
 "nbformat": 4,
 "nbformat_minor": 5
}
