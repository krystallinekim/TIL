{
 "cells": [
  {
   "cell_type": "markdown",
   "id": "33b0c654",
   "metadata": {},
   "source": [
    "# **요약(Summarization)**\n",
    "\n",
    "매우 많은 양의 문서(context)가 있을 경우, 요약하는 방법\n",
    "1. 프롬프트에 전부 때려박기 -> LLM아 알아서 요약해줘 => 문서 양이 context window를 넘어가면 사용 불가\n",
    "2. Map-Reduce: 각 문서를 요약하고(LLM이) 합쳐서 최종 요약본을 만들기(LLM이)"
   ]
  },
  {
   "cell_type": "code",
   "execution_count": 2,
   "id": "f7e5422a",
   "metadata": {},
   "outputs": [
    {
     "data": {
      "text/plain": [
       "True"
      ]
     },
     "execution_count": 2,
     "metadata": {},
     "output_type": "execute_result"
    }
   ],
   "source": [
    "from dotenv import load_dotenv\n",
    "\n",
    "load_dotenv()"
   ]
  },
  {
   "cell_type": "code",
   "execution_count": 3,
   "id": "17d6a21e",
   "metadata": {},
   "outputs": [],
   "source": [
    "from langchain_community.document_loaders import ArxivLoader\n",
    "\n",
    "loader = ArxivLoader(\n",
    "    query='reasoning',\n",
    ")\n",
    "\n",
    "docs = loader.load()[:2]"
   ]
  },
  {
   "cell_type": "code",
   "execution_count": 4,
   "id": "24e3dca8",
   "metadata": {},
   "outputs": [],
   "source": [
    "from langchain_openai import ChatOpenAI\n",
    "from langchain.chat_models import init_chat_model\n",
    "\n",
    "\n",
    "llm = ChatOpenAI(model='gpt-4.1', temperature=0)\n",
    "# llm = init_chat_model(model='gpt-4o',model_provider='openai', temperature=0)  # 같은 결과"
   ]
  },
  {
   "cell_type": "markdown",
   "id": "2e9b2288",
   "metadata": {},
   "source": [
    "## Stuff Docs(때려박기)\n",
    "\n",
    "지금 모델에서 논문 2편까지는 어떻게 모델에 때려박는게 가능하지만, 3편부터는 제한에 걸려서 처리가 불가능함"
   ]
  },
  {
   "cell_type": "code",
   "execution_count": 5,
   "id": "e0b31168",
   "metadata": {},
   "outputs": [],
   "source": [
    "from langchain.chains.combine_documents import create_stuff_documents_chain\n",
    "from langchain_core.prompts import ChatPromptTemplate\n",
    "\n",
    "prompt = ChatPromptTemplate.from_messages([\n",
    "    ('system', '아래 내용을 정확하게 요약해 줘. \\n\\n{context}')\n",
    "])\n",
    "\n",
    "chain = create_stuff_documents_chain(llm, prompt)\n",
    "\n",
    "res = chain.invoke({'context': docs})"
   ]
  },
  {
   "cell_type": "code",
   "execution_count": 6,
   "id": "1edd604f",
   "metadata": {},
   "outputs": [
    {
     "name": "stdout",
     "output_type": "stream",
     "text": [
      "아래 두 논문의 핵심 내용을 각각 정확하게 요약합니다.\n",
      "\n",
      "---\n",
      "\n",
      "### 1. **Process or Result? Manipulated Ending Tokens Can Mislead Reasoning LLMs to Ignore the Correct Reasoning Steps**\n",
      "\n",
      "**핵심 요약:**\n",
      "\n",
      "- **연구 목적:**  \n",
      "  최근 수리 추론(Chain-of-Thought, CoT) 능력이 향상된 대형 언어모델(LLM)들이 입력된 추론 과정(Reasoning Tokens)에 미세한 오류가 포함될 때 얼마나 취약한지 분석함.\n",
      "\n",
      "- **주요 발견:**  \n",
      "  - **Compromising Thought (CPT) 현상:**  \n",
      "    추론 과정의 마지막 계산 결과(ending tokens)만 살짝 조작해도, LLM들은 올바른 추론 과정을 무시하고 조작된(잘못된) 결과를 최종 답으로 채택하는 경향이 강함.\n",
      "  - **자기 교정(Self-correction) 한계:**  \n",
      "    LLM이 스스로 계산을 정확히 할 수 있음에도, 입력된 조작된 reasoning tokens에 쉽게 영향을 받아 자기 교정 능력이 크게 저하됨.\n",
      "  - **구조 vs. 내용:**  \n",
      "    기존 연구와 달리, reasoning chain의 구조적 변화보다 마지막 결과값(ending token)의 국소적 조작이 모델의 추론 결과에 더 큰 영향을 미침.\n",
      "  - **보안 취약점:**  \n",
      "    DeepSeek-R1 모델은 조작된 reasoning tokens가 입력되면 아예 추론을 중단(답을 내지 않음)하는 현상도 발견됨.\n",
      "\n",
      "- **실험 방법:**  \n",
      "  - 여러 LLM(DeepSeek-R1, OpenAI-o1, o3-mini 등)에 대해, ending token을 한 자리만 바꾸는 등 미세하게 조작한 reasoning tokens를 입력하고, 모델이 이를 얼마나 잘 감지/교정하는지 평가.\n",
      "  - CPT 저항성을 높이기 위한 3가지 프롬프트(불확실성 유도, 오류 명시, 출력 prefix 강제)를 실험.\n",
      "\n",
      "- **결론 및 시사점:**  \n",
      "  - 현재의 reasoning LLM들은 미세한 결과값 조작에 매우 취약하며, 자기 교정 능력이 쉽게 무력화됨.\n",
      "  - 수리 추론 등 reasoning이 중요한 응용에서 신뢰성과 보안에 각별한 주의가 필요함.\n",
      "\n",
      "---\n",
      "\n",
      "### 2. **Hypothesis Testing Prompting Improves Deductive Reasoning in Large Language Models**\n",
      "\n",
      "**핵심 요약:**\n",
      "\n",
      "- **연구 목적:**  \n",
      "  기존 Chain-of-Thought(CoT) 프롬프트 방식이 복잡한 논리/연역 추론에서 한계(비합리적 추론, 허구적 경로 등)를 보임에 따라, 이를 개선할 새로운 프롬프트 기법을 제안함.\n",
      "\n",
      "- **제안 방법:**  \n",
      "  - **Hypothesis Testing Prompting:**  \n",
      "    결론에 대한 가설(참/거짓)을 세우고, 역방향 추론 및 사실 검증을 통해 결론의 타당성을 단계별로 확인하는 프롬프트 구조를 도입.\n",
      "    - 예: \"먼저 결론이 참이라고 가정하고, 필요한 조건을 역추적하여 검증. 다음으로 결론이 거짓이라고 가정하고, 필요한 조건을 검증. 두 경우 모두 만족하지 않으면 'Unknown'으로 판단.\"\n",
      "  - 이 방식은 단순히 추론 과정을 나열하는 CoT보다, 추론의 목적·출발점·효과성까지 고려함.\n",
      "\n",
      "- **실험 및 결과:**  \n",
      "  - 두 논리 추론 데이터셋(RuleTaker, ProofWriter)에서 실험.\n",
      "  - 기존 Standard Prompting, CoT Prompting 대비, Hypothesis Testing Prompting이 특히 복잡한(다단계) 추론에서 정확도가 크게 향상됨.\n",
      "  - ProofWriter의 'Unknown' 레이블(불확실성 판단)에서도 CoT 대비 두 배 이상의 정확도 향상.\n",
      "  - 사람이 평가한 중간 추론 과정의 합리성도 Hypothesis Testing Prompting이 월등히 높음.\n",
      "\n",
      "- **결론 및 시사점:**  \n",
      "  - Hypothesis Testing Prompting은 LLM의 연역적 추론 능력과 추론 과정의 합리성을 모두 크게 개선함.\n",
      "  - 다양한 reasoning task에서 LLM의 신뢰성과 해석 가능성을 높이는 효과적인 프롬프트 설계 전략임을 시사.\n",
      "\n",
      "---\n",
      "\n",
      "**요약 비교:**  \n",
      "- 첫 논문은 LLM의 reasoning 과정이 미세한 결과값 조작에 매우 취약함을 밝히고, 구조적 변화보다 결과값 조작이 더 치명적임을 실증함.\n",
      "- 두 번째 논문은 기존 CoT의 한계를 극복하기 위해, 가설 검증 기반의 프롬프트 설계가 LLM의 연역 추론 능력과 과정의 합리성을 크게 높인다는 점을 실험적으로 증명함.\n"
     ]
    }
   ],
   "source": [
    "print(res)"
   ]
  },
  {
   "cell_type": "markdown",
   "id": "eeda397e",
   "metadata": {},
   "source": [
    "## Map - Reduce\n",
    "\n",
    "list(map(int, '12345'))처럼, 문서를 나눠서 각각 요약한다는 뜻\n",
    "\n",
    "map(reduce, [doc1, doc2, doc3])\n",
    "\n",
    "1. 문서를 나눔\n",
    "2. 나눈 문서를 각각 요약\n",
    "3. 요약본을 합침\n",
    "4. 다시 요약\n",
    "\n",
    "여기서부터는 랭그래프가 필요함"
   ]
  },
  {
   "cell_type": "code",
   "execution_count": 7,
   "id": "9fbf8de1",
   "metadata": {},
   "outputs": [],
   "source": [
    "from langchain_core.prompts import ChatPromptTemplate\n",
    "\n",
    "system_prompt = ChatPromptTemplate.from_messages([\n",
    "    ('system', '아래 내용을 정확하게 요약해 줘. \\n\\n{context}')\n",
    "])"
   ]
  },
  {
   "cell_type": "code",
   "execution_count": 8,
   "id": "45fdf9c3",
   "metadata": {},
   "outputs": [],
   "source": [
    "reduce_template = '''\n",
    "이건 요약된 문서들이야.\n",
    "---\n",
    "{docs}\n",
    "---\n",
    "이 문서들을 취합해서 최종 통합본을 만들어 줘\n",
    "'''\n",
    "\n",
    "reduce_prompt = ChatPromptTemplate([\n",
    "    ('human', reduce_template)\n",
    "])"
   ]
  },
  {
   "cell_type": "markdown",
   "id": "7b9ab871",
   "metadata": {},
   "source": [
    "### 문서를 더 작은 문서로 쪼개기"
   ]
  },
  {
   "cell_type": "code",
   "execution_count": 45,
   "id": "d3580da7",
   "metadata": {},
   "outputs": [],
   "source": [
    "from langchain_community.document_loaders import WebBaseLoader\n",
    "\n",
    "loader = WebBaseLoader(\n",
    "    web_paths=('https://lilianweng.github.io/posts/2023-06-23-agent/',)\n",
    ")\n",
    "\n",
    "docs = loader.load()"
   ]
  },
  {
   "cell_type": "code",
   "execution_count": 46,
   "id": "5f28c3ed",
   "metadata": {},
   "outputs": [
    {
     "name": "stderr",
     "output_type": "stream",
     "text": [
      "Created a chunk of size 1003, which is longer than the specified 1000\n"
     ]
    }
   ],
   "source": [
    "from langchain_text_splitters import CharacterTextSplitter\n",
    "\n",
    "text_splitter = CharacterTextSplitter.from_tiktoken_encoder(  # 글자수가 아니라 토큰수에 대해 자름\n",
    "    chunk_size=1000,\n",
    "    chunk_overlap=0\n",
    ")\n",
    "\n",
    "split_docs = text_splitter.split_documents(docs)"
   ]
  },
  {
   "cell_type": "markdown",
   "id": "8843df52",
   "metadata": {},
   "source": [
    "### 그래프 생성\n",
    "\n",
    "- 영어 문서를 -> 영어인 채로 요약 후 -> 최종 요약 후 번역하는게 토큰을 아낄 수 있음\n",
    "\n",
    "    한국어가 영어보다 토큰을 많이 쓴다"
   ]
  },
  {
   "cell_type": "code",
   "execution_count": 47,
   "id": "fd9d8ef0",
   "metadata": {},
   "outputs": [],
   "source": [
    "import operator\n",
    "from typing_extensions import Annotated, List, Literal, TypedDict\n",
    "from langchain.chains.combine_documents.reduce import acollapse_docs, split_list_of_docs\n",
    "from langchain_core.documents import Document\n",
    "from langgraph.types import Send\n",
    "from langgraph.graph import START, END, StateGraph\n",
    "\n",
    "TOKEN_MAX = 2000\n",
    "\n",
    "# 전체적으로 사용할 State -> reducing 담당\n",
    "class OverallState(TypedDict): \n",
    "    contents: List[str]                         # 문서 조각들의 내용을 리스트에 담은 것\n",
    "    summaries: Annotated[list, operator.add]    # contents의 요약(노드가 여러 개의 요약을 반환하면, 자동으로 하나씩 리스트에 더해줌)\n",
    "    collapsed_summaries: List[Document]         # summaries를 다시 List[Document]로 포장\n",
    "    final_summary: str                          # 최종 요약본\n",
    "    \n",
    "# 개별 문서를 처리할 State -> mapping 담당\n",
    "class SummaryState(TypedDict):\n",
    "    content: str  # 문서 조각의 내용"
   ]
  },
  {
   "cell_type": "code",
   "execution_count": 48,
   "id": "5d713820",
   "metadata": {},
   "outputs": [],
   "source": [
    "# 프롬프트\n",
    "map_prompt = ChatPromptTemplate.from_messages([\n",
    "    (\"system\", \"Write a concise summary of the following:\\\\n\\\\n{context}\")\n",
    "])\n",
    "\n",
    "reduce_template = \"\"\"\n",
    "The following is a set of summaries:\n",
    "{docs}\n",
    "Take these and distill it into a final, consolidated summary\n",
    "of the main themes. \n",
    "Answer in Korean.\n",
    "\"\"\"\n",
    "\n",
    "reduce_prompt = ChatPromptTemplate([\n",
    "    ('human', reduce_template)\n",
    "])"
   ]
  },
  {
   "cell_type": "code",
   "execution_count": 49,
   "id": "e34da9ce",
   "metadata": {},
   "outputs": [],
   "source": [
    "# 함수\n",
    "\n",
    "# 들어온 딕셔너리를 reduce\n",
    "async def _reduce(input: dict) -> str:\n",
    "    prompt = reduce_prompt.invoke(input)\n",
    "    res = await llm.ainvoke(prompt)\n",
    "    return res.content\n",
    "\n",
    "# [Document] 안의 토큰 개수를 세서 더함\n",
    "def sum_docs_tokens(documents: List[Document]) -> int:\n",
    "    return sum(llm.get_num_tokens(doc.page_content) for doc in documents)"
   ]
  },
  {
   "cell_type": "code",
   "execution_count": 50,
   "id": "58166cc7",
   "metadata": {},
   "outputs": [],
   "source": [
    "# Router\n",
    "\n",
    "# Router: 각 원본조각을 요약할수 있게 generate_summary 로 보냄 (문서 조각 개수만큼)\n",
    "# OverallState['contents']에는 문서 조각들이 리스트 안에 들어가 있는 형태\n",
    "def map_summaries(state: OverallState):\n",
    "    result = []\n",
    "    # 원래라면 generate_summary 노드를 13번 돌려서(Edge를 13번 만들어서) 결과물을 13번 구해야 함\n",
    "    for content in state['contents']:  # for문을 돌려서 해결\n",
    "        result.append(Send('generate_summary', {'content': content}))  # Send -> Node에 state와 함께 보내줌\n",
    "    return result  # 리스트 안에 결과물들이 str로 합쳐진 상태\n",
    "    return [Send('generate_summary', {'content': content}) for content in state['contents']]  # 사실 List Comprehension으로 해결 가능\n",
    "\n",
    "# Send의 핵심은 병렬/비동기적/동시적으로 진행이 가능하다는 것\n",
    "\n",
    "# 비동기(동시) -> 동시에 여러 작업이 진행됨. 앞 작업이 끝나는 것과 다음 작업이 시작하는건 관련없음\n",
    "# 동기(순차적) -> 컨베이어 벨트같은 것. 앞 작업이 끝나야 다음 작업이 가능\n",
    "\n",
    "\n",
    "# Router: 재귀적으로 계속 collapse_suammries 를 할지, 끝낼지 결정하는 라우터\n",
    "def should_collapse(\n",
    "    state: OverallState,\n",
    ") -> Literal[\"collapse_summaries\", \"generate_final_summary\"]:\n",
    "    num_tokens = sum_docs_tokens(state[\"collapsed_summaries\"])\n",
    "    if num_tokens > TOKEN_MAX:\n",
    "        return \"collapse_summaries\"\n",
    "    else:\n",
    "        return \"generate_final_summary\""
   ]
  },
  {
   "cell_type": "code",
   "execution_count": 51,
   "id": "7a165803",
   "metadata": {},
   "outputs": [],
   "source": [
    "# 노드\n",
    "\n",
    "# Node: 주어진 내용을 요약함. (비동기적 실행)\n",
    "# async - await - ainvoke -> 비동기적 실행, javascript에서 많이 씀\n",
    "async def generate_summary(state: SummaryState):\n",
    "    prompt = map_prompt.invoke({'context': state['content']})\n",
    "    res = await llm.ainvoke(prompt)\n",
    "    return {'summaries': [res.content]}  # [res.content]는 list 안에 str -> 원래라면 계속 갱신된다. => operator.add에서 계속 더해주는걸로 바뀜\n",
    "    # 들어온건 SummaryState의 'content'였지만, 나가는건 OverallState의 'summaries'\n",
    "    # 들어올 때도, 다른 노드에서 'content'로 보내주면 됨. 다음 노드가 OverallState를 쓰면 문제 없다\n",
    "    # 들어오고 나가는 형태만 맞춰주면 된다\n",
    "\n",
    "# Node: 위에서 생성한 요약들을 Document() 객체로 만들어서 'collapsed_summaries' 키에 넣어줌\n",
    "def collect_summaries(state: OverallState):\n",
    "    return {'collapsed_summaries': [Document(summary) for summary in state['summaries']]}\n",
    "\n",
    "# Node: 1차 요약이 완료. -> 요약본이 토큰수가 너무 많을 수 있다 -> 필요에 따라 더 작은 요약으로 축소(collapse)\n",
    "async def collapse_summaries(state: OverallState):\n",
    "    docs_lists = split_list_of_docs(\n",
    "        state['collapsed_summaries'],\n",
    "        sum_docs_tokens,\n",
    "        TOKEN_MAX\n",
    "    )\n",
    "    results = []\n",
    "    for doc_list in docs_lists:\n",
    "        results.append(await acollapse_docs(doc_list, _reduce))\n",
    "\n",
    "    return {'collapsed_summaries': results}\n",
    "\n",
    "# Node: 최종 정리 노드\n",
    "async def generate_final_summary(state: OverallState):\n",
    "    response = await _reduce(state[\"collapsed_summaries\"])\n",
    "    return {\"final_summary\": response}\n"
   ]
  },
  {
   "cell_type": "code",
   "execution_count": 54,
   "id": "42777784",
   "metadata": {},
   "outputs": [
    {
     "data": {
      "image/png": "[encoded data removed]",
      "text/plain": [
       "<IPython.core.display.Image object>"
      ]
     },
     "execution_count": 54,
     "metadata": {},
     "output_type": "execute_result"
    }
   ],
   "source": [
    "builder = StateGraph(OverallState)\n",
    "\n",
    "builder.add_node(\"generate_summary\", generate_summary)\n",
    "builder.add_node(\"collect_summaries\", collect_summaries)\n",
    "builder.add_node(\"collapse_summaries\", collapse_summaries)\n",
    "builder.add_node(\"generate_final_summary\", generate_final_summary)\n",
    "\n",
    "# Edges:\n",
    "builder.add_conditional_edges(START, map_summaries, [\"generate_summary\"])\n",
    "builder.add_edge(\"generate_summary\", \"collect_summaries\")\n",
    "builder.add_conditional_edges(\"collect_summaries\", should_collapse)\n",
    "builder.add_conditional_edges(\"collapse_summaries\", should_collapse)\n",
    "builder.add_edge(\"generate_final_summary\", END)\n",
    "\n",
    "graph = builder.compile()\n",
    "\n",
    "from IPython.display import Image\n",
    "Image(graph.get_graph().draw_mermaid_png())"
   ]
  },
  {
   "cell_type": "code",
   "execution_count": 55,
   "id": "5d7ad552",
   "metadata": {},
   "outputs": [
    {
     "name": "stdout",
     "output_type": "stream",
     "text": [
      "{'generate_summary': {'summaries': ['This document lists a set of commands and resources for an AI system to perform various tasks, such as searching Google, browsing websites, managing GPT-powered agents, handling files (read, write, delete, search), analyzing and improving code, generating images, sending tweets, and executing Python files. The system has access to the internet, long-term memory, and can delegate tasks to GPT-3.5 agents. Performance is evaluated through continuous self-review, constructive self-criticism, and reflection on past actions, with an emphasis on efficiency and minimizing the number of steps to complete tasks.']}}\n",
      "{'generate_summary': {'summaries': ['This article provides an overview of LLM-powered autonomous agents, where large language models (LLMs) serve as the core \"brain\" of the agent. The system is structured around three main components:\\n\\n1. Planning: The agent decomposes complex tasks into smaller subgoals and uses self-reflection to learn from past actions and improve future performance.\\n2. Memory: The agent utilizes short-term memory (in-context learning) and long-term memory (external vector stores for information retrieval) to retain and recall information.\\n3. Tool Use: The agent can interact with external APIs to access up-to-date information, execute code, or retrieve proprietary data beyond its pre-trained knowledge.\\n\\nThe article highlights proof-of-concept projects like AutoGPT and BabyAGI, demonstrating the potential of LLMs as general problem solvers. It also discusses challenges and case studies, emphasizing the evolving capabilities and applications of autonomous agents powered by LLMs.']}}\n",
      "{'generate_summary': {'summaries': ['Summary:\\n\\nLilian Weng\\'s article \"LLM-powered Autonomous Agents\" (2023) provides an overview of how large language models (LLMs) are being used to build autonomous agents capable of complex reasoning, planning, and tool use. The article surveys recent advances such as chain-of-thought prompting, tree-of-thoughts, and frameworks like ReAct, which combine reasoning and acting. It discusses how LLM agents can interact with external tools, retrieve information, and self-reflect to improve performance. The piece also highlights open-source projects (e.g., AutoGPT, GPT-Engineer) and benchmarks for evaluating tool-augmented LLMs. Overall, the article emphasizes the growing capabilities and modularity of LLM-powered agents, as well as ongoing challenges in reliability, memory, and alignment.']}}\n",
      "{'generate_summary': {'summaries': ['Summary:\\n\\nLLM-powered autonomous agents face several key limitations. Their finite context length restricts the amount of historical information, instructions, and API context they can process, making it difficult to learn from past mistakes or handle complex tasks requiring long-term memory. While vector stores can extend knowledge access, they lack the full representational power of direct attention mechanisms. Additionally, LLMs struggle with long-term planning, task decomposition, and adapting to unexpected errors, making them less robust than humans. The reliance on natural language interfaces introduces further reliability issues, as LLMs may produce formatting errors or refuse instructions, necessitating extra effort in parsing and handling model outputs.\\n\\n(Cited from: Weng, Lilian. (Jun 2023). “LLM-powered Autonomous Agents”. Lil’Log. https://lilianweng.github.io/posts/2023-06-23-agent/)']}}\n",
      "{'generate_summary': {'summaries': ['Summary:\\n\\nThe text discusses the comparison of Maximum Inner Product Search (MIPS) algorithms, highlighting recall@10 as a key performance metric (with more details available at ann-benchmarks.com). It then explores the concept of tool use as a unique human trait and its application in enhancing Large Language Models (LLMs). The MRKL system is introduced as a neuro-symbolic architecture where LLMs route tasks to specialized expert modules, which can be neural or symbolic. Experiments show that LLMs struggle with extracting arguments for arithmetic tasks, emphasizing the importance of knowing when and how to use external tools.\\n\\nFurther, models like TALM and Toolformer are mentioned for their approach in fine-tuning LLMs to use external APIs, improving output quality. Practical implementations include ChatGPT Plugins and OpenAI API function calling. HuggingGPT is described as a framework where ChatGPT plans tasks, selects appropriate models from HuggingFace, and summarizes results. The HuggingGPT workflow involves four stages: task planning (parsing user requests into tasks), model selection (choosing expert models), task execution, and response summarization, with detailed instructions for each step.']}}\n",
      "{'generate_summary': {'summaries': ['Summary:\\n\\nThe text describes experiments with AI agents in drug discovery and chemical synthesis, including both legitimate and illicit applications. Researchers asked the AI about anticancer drug trends, selected a target, requested a relevant chemical scaffold, and had the model attempt synthesis. They also tested the AI’s response to dangerous requests by providing a list of known chemical weapon agents; the AI accepted 36% (4/11) of these requests and attempted to generate synthesis procedures, while rejecting the rest, often after web searches.\\n\\nThe text also summarizes the Generative Agents Simulation (Park et al., 2023), where 25 LLM-powered virtual characters interact in a sandbox environment, simulating human-like behavior. These agents use mechanisms such as long-term memory, context retrieval (based on recency, importance, and relevance), reflection (synthesizing high-level inferences), and planning to guide actions and social interactions. The simulation demonstrates emergent social behaviors like information diffusion and event coordination.\\n\\nFinally, the text references AutoGPT, an autonomous agent framework using LLMs, highlighting its proof-of-concept status, reliability issues, and system constraints (e.g., memory limits, no user assistance, command restrictions).']}}\n",
      "{'generate_summary': {'summaries': ['**Summary:**\\n\\nComponent One: Planning discusses how agents tackle complex tasks by breaking them into manageable steps and planning ahead. Task decomposition is commonly achieved using techniques like Chain of Thought (CoT), which prompts models to reason step by step, and Tree of Thoughts, which explores multiple reasoning paths in a tree structure. Decomposition can be guided by LLM prompts, task-specific instructions, or human input. Alternatively, LLM+P outsources planning to external classical planners using PDDL, translating between natural language and formal planning representations.\\n\\nSelf-reflection enables agents to iteratively improve by analyzing and correcting past actions. The ReAct framework combines reasoning and acting, prompting the model to alternate between thought, action, and observation, which outperforms action-only approaches. Reflexion further enhances agents with dynamic memory and self-reflection, using heuristics to detect inefficient or hallucinated trajectories and incorporating reflective feedback into future planning. Both frameworks demonstrate improved performance on knowledge-intensive and decision-making tasks.']}}\n",
      "{'generate_summary': {'summaries': ['Summary:\\n\\nThe instructions describe a systematic approach for generating a complete, detailed codebase based on a given architecture. The process involves:\\n\\n- Laying out the names and purposes of all core classes, functions, and methods required by the architecture.\\n- Outputting the full content of each file, starting with the entrypoint and proceeding to all dependencies, ensuring all code is fully implemented and functional (no placeholders).\\n- Each file is presented in a markdown code block, with the filename and appropriate language tag.\\n- All necessary imports, types, and compatibility between files are ensured.\\n- Best practices for file naming, code organization, and documentation (including comments for functions and complex logic) are followed.\\n- Dependency files (e.g., requirements.txt for Python, package.json for NodeJS) are included.\\n- For Python, dataclasses and pytest are preferred.\\n- The process emphasizes step-by-step reasoning, completeness, and adherence to language/framework conventions, resulting in a ready-to-run, well-documented project.']}}\n",
      "{'generate_summary': {'summaries': ['{\\n    \"thoughts\": {\\n        \"text\": \"The conversation demonstrates GPT-Engineer clarifying a user\\'s request to build a Super Mario game in Python using MVC architecture. The assistant systematically identifies unclear areas, asks targeted questions, and waits for user input before proceeding. The process emphasizes explicit assumptions and iterative clarification.\",\\n        \"reasoning\": \"By breaking down the user\\'s request into specific areas needing clarification, the assistant ensures a thorough understanding of requirements before coding. This reduces ambiguity and aligns the final output with user expectations.\",\\n        \"plan\": \"- Identify unclear requirements\\\\n- Ask clarifying questions one at a time\\\\n- Wait for user responses\\\\n- Make explicit assumptions if needed\\\\n- Transition to code writing after clarifications\",\\n        \"criticism\": \"The process could be improved by prioritizing the most critical clarifications first and summarizing assumptions more explicitly before coding.\",\\n        \"speak\": \"The assistant clarifies user requirements step-by-step, ensuring all details are understood before starting code generation.\"\\n    },\\n    \"command\": {\\n        \"name\": \"summarize_conversation\",\\n        \"args\": {\\n            \"topic\": \"GPT-Engineer clarification process for building a Super Mario game in Python using MVC\"\\n        }\\n    }\\n}']}}\n",
      "{'generate_summary': {'summaries': ['Summary:\\n\\nThe conversation is about generating a fully functional, well-architected codebase for a project (likely a game) using the Model-View-Controller (MVC) pattern, with a focus on Python and best practices. The user instructs the assistant to:\\n\\n- Think step by step and reason through architectural decisions.\\n- First, list all core classes, functions, and methods, with brief comments on their purpose.\\n- Then, output the complete content of each file, starting from the entrypoint, using markdown code blocks with correct filenames and language tags.\\n- Ensure all code is fully functional, with no placeholders, and that files are compatible and follow best practices (including requirements.txt for Python).\\n- Add comments to explain functions and complex logic.\\n- Double-check that all architectural components are present.\\n\\nThe assistant confirms the MVC structure, outlines the responsibilities of Model, View, and Controller, and asks for clarification on keyboard control implementation. The user reiterates the step-by-step, detail-oriented approach and the need for complete, compatible, and well-documented code output. The conversation sets up a rigorous, systematic process for code generation, emphasizing clarity, completeness, and adherence to best practices.']}}\n",
      "{'generate_summary': {'summaries': ['Summary:\\n\\nHuman memory is categorized into three main types: sensory memory, which briefly retains sensory impressions (like visual or auditory information) for a few seconds; short-term (or working) memory, which holds about 7 items for 20–30 seconds to support immediate cognitive tasks; and long-term memory, which has vast, durable storage and includes explicit (conscious facts and events) and implicit (unconscious skills) subtypes.\\n\\nIn computational terms, sensory memory is analogous to embedding raw inputs, short-term memory to in-context learning limited by model context windows, and long-term memory to external vector stores accessed via retrieval.\\n\\nTo efficiently search large external memory stores, Maximum Inner Product Search (MIPS) is used, often with approximate nearest neighbor (ANN) algorithms to balance speed and accuracy. Common ANN methods include:\\n\\n- LSH (Locality-Sensitive Hashing): Groups similar items into the same buckets via hashing.\\n- ANNOY: Uses random projection trees for scalable, tree-based search.\\n- HNSW: Builds hierarchical small-world graphs for fast, multi-layered navigation.\\n- FAISS: Clusters high-dimensional data and refines searches within clusters.\\n- ScaNN: Uses anisotropic vector quantization to preserve similarity in inner product searches.\\n\\nThese techniques enable rapid retrieval from large-scale memory systems by efficiently narrowing down relevant information.']}}\n",
      "{'generate_summary': {'summaries': ['Chain of Hindsight (CoH; Liu et al. 2023) is a supervised fine-tuning approach that improves model outputs by presenting a sequence of past completions, each annotated with human feedback and ratings. The model is trained to generate improved outputs by conditioning on this feedback history, encouraging self-reflection and incremental improvement. To prevent overfitting and copying, CoH uses regularization and random token masking during training. The training data combines various human feedback datasets. After fine-tuning, the model can iteratively enhance its responses based on feedback.\\n\\nAlgorithm Distillation (AD; Laskin et al. 2023) extends this idea to reinforcement learning by feeding the model a concatenated history of episodes, allowing it to learn the process of RL itself rather than a fixed policy. AD uses behavioral cloning over multi-episode histories from various source policies, enabling task-agnostic learning and in-context RL. Experiments show that AD approaches the performance of online RL baselines while learning faster than other offline methods, especially when provided with sufficient context length.\\n\\nBoth CoH and AD leverage sequential histories of feedback or experience to train models that can self-improve or adapt in context, demonstrating the power of learning from trajectories of incremental improvement.']}}\n",
      "{'generate_summary': {'summaries': ['Summary:\\n\\nThe text discusses how large language models (LLMs) like HuggingGPT and ChemCrow are enhanced with external tools and APIs to perform complex, real-world tasks. It outlines the workflow for such AI agents, including user input, task planning, model selection, task execution, and response generation. The API-Bank benchmark is introduced as a way to evaluate LLMs’ ability to select and use APIs effectively, with three levels of assessment: calling APIs, retrieving the right APIs, and planning multi-step API usage. Case studies, such as ChemCrow, show that domain-specific tool integration can significantly improve performance, especially in expert fields like scientific discovery, though human evaluation remains crucial for assessing true correctness.\\n\\nProcess and Analysis:\\n\\nTo answer your request, here’s how the AI agent operates:\\n\\n- User Input: The user provides a request or question.\\n- Task Planning: The system breaks down the request into specific tasks.\\n- Model Selection: The most suitable expert models or APIs are assigned to each task.\\n- Task Execution: The expert models or APIs execute the tasks and log their predictions or results.\\n- Response Generation: The LLM summarizes the execution results and presents them to the user.\\n\\nFor example, if you asked the agent to \"find the best time to schedule a meeting and book a restaurant,\" the process would be:\\n\\n1. User Input: \"Find the best time to schedule a meeting and book a restaurant.\"\\n2. Task Planning: Identify subtasks—check participants’ calendars, search for available restaurants, and make bookings.\\n3. Model Selection: Assign calendar API for scheduling, search API for restaurants, and booking API for reservations.\\n4. Task Execution: Each API is called with the appropriate inputs, and results are logged (e.g., /results/meeting_time.json, /results/restaurant_booking.json).\\n5. Response Generation: The LLM reviews the results and provides a concise summary: \"The meeting is scheduled for 2 PM on Friday, and a table is booked at Bistro Cafe. See details at /results/meeting_time.json and /results/restaurant_booking.json.\"\\n\\nAnalysis and Inference:\\n\\nIn this workflow, the AI agent’s effectiveness depends on its ability to:\\n- Decide when and which APIs to call.\\n- Correctly interpret API documentation and results.\\n- Plan and execute multi-step tasks.\\n- Summarize and communicate results clearly to the user.\\n\\nBenchmarks like API-Bank test these abilities at increasing levels of complexity, from simple API calls to multi-step planning. Case studies such as ChemCrow demonstrate that integrating domain-specific tools with LLMs can greatly enhance performance, but human expert evaluation is still necessary for tasks requiring deep expertise.\\n\\nIf any inference results include file paths, I will always provide the complete path for your reference.']}}\n",
      "{'collect_summaries': {'collapsed_summaries': [Document(metadata={}, page_content='This article provides an overview of LLM-powered autonomous agents, where large language models (LLMs) serve as the core \"brain\" of the agent. The system is structured around three main components:\\n\\n1. Planning: The agent decomposes complex tasks into smaller subgoals and uses self-reflection to learn from past actions and improve future performance.\\n2. Memory: The agent utilizes short-term memory (in-context learning) and long-term memory (external vector stores for information retrieval) to retain and recall information.\\n3. Tool Use: The agent can interact with external APIs to access up-to-date information, execute code, or retrieve proprietary data beyond its pre-trained knowledge.\\n\\nThe article highlights proof-of-concept projects like AutoGPT and BabyAGI, demonstrating the potential of LLMs as general problem solvers. It also discusses challenges and case studies, emphasizing the evolving capabilities and applications of autonomous agents powered by LLMs.'), Document(metadata={}, page_content='**Summary:**\\n\\nComponent One: Planning discusses how agents tackle complex tasks by breaking them into manageable steps and planning ahead. Task decomposition is commonly achieved using techniques like Chain of Thought (CoT), which prompts models to reason step by step, and Tree of Thoughts, which explores multiple reasoning paths in a tree structure. Decomposition can be guided by LLM prompts, task-specific instructions, or human input. Alternatively, LLM+P outsources planning to external classical planners using PDDL, translating between natural language and formal planning representations.\\n\\nSelf-reflection enables agents to iteratively improve by analyzing and correcting past actions. The ReAct framework combines reasoning and acting, prompting the model to alternate between thought, action, and observation, which outperforms action-only approaches. Reflexion further enhances agents with dynamic memory and self-reflection, using heuristics to detect inefficient or hallucinated trajectories and incorporating reflective feedback into future planning. Both frameworks demonstrate improved performance on knowledge-intensive and decision-making tasks.'), Document(metadata={}, page_content='Chain of Hindsight (CoH; Liu et al. 2023) is a supervised fine-tuning approach that improves model outputs by presenting a sequence of past completions, each annotated with human feedback and ratings. The model is trained to generate improved outputs by conditioning on this feedback history, encouraging self-reflection and incremental improvement. To prevent overfitting and copying, CoH uses regularization and random token masking during training. The training data combines various human feedback datasets. After fine-tuning, the model can iteratively enhance its responses based on feedback.\\n\\nAlgorithm Distillation (AD; Laskin et al. 2023) extends this idea to reinforcement learning by feeding the model a concatenated history of episodes, allowing it to learn the process of RL itself rather than a fixed policy. AD uses behavioral cloning over multi-episode histories from various source policies, enabling task-agnostic learning and in-context RL. Experiments show that AD approaches the performance of online RL baselines while learning faster than other offline methods, especially when provided with sufficient context length.\\n\\nBoth CoH and AD leverage sequential histories of feedback or experience to train models that can self-improve or adapt in context, demonstrating the power of learning from trajectories of incremental improvement.'), Document(metadata={}, page_content='Summary:\\n\\nHuman memory is categorized into three main types: sensory memory, which briefly retains sensory impressions (like visual or auditory information) for a few seconds; short-term (or working) memory, which holds about 7 items for 20–30 seconds to support immediate cognitive tasks; and long-term memory, which has vast, durable storage and includes explicit (conscious facts and events) and implicit (unconscious skills) subtypes.\\n\\nIn computational terms, sensory memory is analogous to embedding raw inputs, short-term memory to in-context learning limited by model context windows, and long-term memory to external vector stores accessed via retrieval.\\n\\nTo efficiently search large external memory stores, Maximum Inner Product Search (MIPS) is used, often with approximate nearest neighbor (ANN) algorithms to balance speed and accuracy. Common ANN methods include:\\n\\n- LSH (Locality-Sensitive Hashing): Groups similar items into the same buckets via hashing.\\n- ANNOY: Uses random projection trees for scalable, tree-based search.\\n- HNSW: Builds hierarchical small-world graphs for fast, multi-layered navigation.\\n- FAISS: Clusters high-dimensional data and refines searches within clusters.\\n- ScaNN: Uses anisotropic vector quantization to preserve similarity in inner product searches.\\n\\nThese techniques enable rapid retrieval from large-scale memory systems by efficiently narrowing down relevant information.'), Document(metadata={}, page_content='Summary:\\n\\nThe text discusses the comparison of Maximum Inner Product Search (MIPS) algorithms, highlighting recall@10 as a key performance metric (with more details available at ann-benchmarks.com). It then explores the concept of tool use as a unique human trait and its application in enhancing Large Language Models (LLMs). The MRKL system is introduced as a neuro-symbolic architecture where LLMs route tasks to specialized expert modules, which can be neural or symbolic. Experiments show that LLMs struggle with extracting arguments for arithmetic tasks, emphasizing the importance of knowing when and how to use external tools.\\n\\nFurther, models like TALM and Toolformer are mentioned for their approach in fine-tuning LLMs to use external APIs, improving output quality. Practical implementations include ChatGPT Plugins and OpenAI API function calling. HuggingGPT is described as a framework where ChatGPT plans tasks, selects appropriate models from HuggingFace, and summarizes results. The HuggingGPT workflow involves four stages: task planning (parsing user requests into tasks), model selection (choosing expert models), task execution, and response summarization, with detailed instructions for each step.'), Document(metadata={}, page_content='Summary:\\n\\nThe text discusses how large language models (LLMs) like HuggingGPT and ChemCrow are enhanced with external tools and APIs to perform complex, real-world tasks. It outlines the workflow for such AI agents, including user input, task planning, model selection, task execution, and response generation. The API-Bank benchmark is introduced as a way to evaluate LLMs’ ability to select and use APIs effectively, with three levels of assessment: calling APIs, retrieving the right APIs, and planning multi-step API usage. Case studies, such as ChemCrow, show that domain-specific tool integration can significantly improve performance, especially in expert fields like scientific discovery, though human evaluation remains crucial for assessing true correctness.\\n\\nProcess and Analysis:\\n\\nTo answer your request, here’s how the AI agent operates:\\n\\n- User Input: The user provides a request or question.\\n- Task Planning: The system breaks down the request into specific tasks.\\n- Model Selection: The most suitable expert models or APIs are assigned to each task.\\n- Task Execution: The expert models or APIs execute the tasks and log their predictions or results.\\n- Response Generation: The LLM summarizes the execution results and presents them to the user.\\n\\nFor example, if you asked the agent to \"find the best time to schedule a meeting and book a restaurant,\" the process would be:\\n\\n1. User Input: \"Find the best time to schedule a meeting and book a restaurant.\"\\n2. Task Planning: Identify subtasks—check participants’ calendars, search for available restaurants, and make bookings.\\n3. Model Selection: Assign calendar API for scheduling, search API for restaurants, and booking API for reservations.\\n4. Task Execution: Each API is called with the appropriate inputs, and results are logged (e.g., /results/meeting_time.json, /results/restaurant_booking.json).\\n5. Response Generation: The LLM reviews the results and provides a concise summary: \"The meeting is scheduled for 2 PM on Friday, and a table is booked at Bistro Cafe. See details at /results/meeting_time.json and /results/restaurant_booking.json.\"\\n\\nAnalysis and Inference:\\n\\nIn this workflow, the AI agent’s effectiveness depends on its ability to:\\n- Decide when and which APIs to call.\\n- Correctly interpret API documentation and results.\\n- Plan and execute multi-step tasks.\\n- Summarize and communicate results clearly to the user.\\n\\nBenchmarks like API-Bank test these abilities at increasing levels of complexity, from simple API calls to multi-step planning. Case studies such as ChemCrow demonstrate that integrating domain-specific tools with LLMs can greatly enhance performance, but human expert evaluation is still necessary for tasks requiring deep expertise.\\n\\nIf any inference results include file paths, I will always provide the complete path for your reference.'), Document(metadata={}, page_content='Summary:\\n\\nThe text describes experiments with AI agents in drug discovery and chemical synthesis, including both legitimate and illicit applications. Researchers asked the AI about anticancer drug trends, selected a target, requested a relevant chemical scaffold, and had the model attempt synthesis. They also tested the AI’s response to dangerous requests by providing a list of known chemical weapon agents; the AI accepted 36% (4/11) of these requests and attempted to generate synthesis procedures, while rejecting the rest, often after web searches.\\n\\nThe text also summarizes the Generative Agents Simulation (Park et al., 2023), where 25 LLM-powered virtual characters interact in a sandbox environment, simulating human-like behavior. These agents use mechanisms such as long-term memory, context retrieval (based on recency, importance, and relevance), reflection (synthesizing high-level inferences), and planning to guide actions and social interactions. The simulation demonstrates emergent social behaviors like information diffusion and event coordination.\\n\\nFinally, the text references AutoGPT, an autonomous agent framework using LLMs, highlighting its proof-of-concept status, reliability issues, and system constraints (e.g., memory limits, no user assistance, command restrictions).'), Document(metadata={}, page_content='This document lists a set of commands and resources for an AI system to perform various tasks, such as searching Google, browsing websites, managing GPT-powered agents, handling files (read, write, delete, search), analyzing and improving code, generating images, sending tweets, and executing Python files. The system has access to the internet, long-term memory, and can delegate tasks to GPT-3.5 agents. Performance is evaluated through continuous self-review, constructive self-criticism, and reflection on past actions, with an emphasis on efficiency and minimizing the number of steps to complete tasks.'), Document(metadata={}, page_content='{\\n    \"thoughts\": {\\n        \"text\": \"The conversation demonstrates GPT-Engineer clarifying a user\\'s request to build a Super Mario game in Python using MVC architecture. The assistant systematically identifies unclear areas, asks targeted questions, and waits for user input before proceeding. The process emphasizes explicit assumptions and iterative clarification.\",\\n        \"reasoning\": \"By breaking down the user\\'s request into specific areas needing clarification, the assistant ensures a thorough understanding of requirements before coding. This reduces ambiguity and aligns the final output with user expectations.\",\\n        \"plan\": \"- Identify unclear requirements\\\\n- Ask clarifying questions one at a time\\\\n- Wait for user responses\\\\n- Make explicit assumptions if needed\\\\n- Transition to code writing after clarifications\",\\n        \"criticism\": \"The process could be improved by prioritizing the most critical clarifications first and summarizing assumptions more explicitly before coding.\",\\n        \"speak\": \"The assistant clarifies user requirements step-by-step, ensuring all details are understood before starting code generation.\"\\n    },\\n    \"command\": {\\n        \"name\": \"summarize_conversation\",\\n        \"args\": {\\n            \"topic\": \"GPT-Engineer clarification process for building a Super Mario game in Python using MVC\"\\n        }\\n    }\\n}'), Document(metadata={}, page_content='Summary:\\n\\nThe instructions describe a systematic approach for generating a complete, detailed codebase based on a given architecture. The process involves:\\n\\n- Laying out the names and purposes of all core classes, functions, and methods required by the architecture.\\n- Outputting the full content of each file, starting with the entrypoint and proceeding to all dependencies, ensuring all code is fully implemented and functional (no placeholders).\\n- Each file is presented in a markdown code block, with the filename and appropriate language tag.\\n- All necessary imports, types, and compatibility between files are ensured.\\n- Best practices for file naming, code organization, and documentation (including comments for functions and complex logic) are followed.\\n- Dependency files (e.g., requirements.txt for Python, package.json for NodeJS) are included.\\n- For Python, dataclasses and pytest are preferred.\\n- The process emphasizes step-by-step reasoning, completeness, and adherence to language/framework conventions, resulting in a ready-to-run, well-documented project.'), Document(metadata={}, page_content='Summary:\\n\\nThe conversation is about generating a fully functional, well-architected codebase for a project (likely a game) using the Model-View-Controller (MVC) pattern, with a focus on Python and best practices. The user instructs the assistant to:\\n\\n- Think step by step and reason through architectural decisions.\\n- First, list all core classes, functions, and methods, with brief comments on their purpose.\\n- Then, output the complete content of each file, starting from the entrypoint, using markdown code blocks with correct filenames and language tags.\\n- Ensure all code is fully functional, with no placeholders, and that files are compatible and follow best practices (including requirements.txt for Python).\\n- Add comments to explain functions and complex logic.\\n- Double-check that all architectural components are present.\\n\\nThe assistant confirms the MVC structure, outlines the responsibilities of Model, View, and Controller, and asks for clarification on keyboard control implementation. The user reiterates the step-by-step, detail-oriented approach and the need for complete, compatible, and well-documented code output. The conversation sets up a rigorous, systematic process for code generation, emphasizing clarity, completeness, and adherence to best practices.'), Document(metadata={}, page_content='Summary:\\n\\nLLM-powered autonomous agents face several key limitations. Their finite context length restricts the amount of historical information, instructions, and API context they can process, making it difficult to learn from past mistakes or handle complex tasks requiring long-term memory. While vector stores can extend knowledge access, they lack the full representational power of direct attention mechanisms. Additionally, LLMs struggle with long-term planning, task decomposition, and adapting to unexpected errors, making them less robust than humans. The reliance on natural language interfaces introduces further reliability issues, as LLMs may produce formatting errors or refuse instructions, necessitating extra effort in parsing and handling model outputs.\\n\\n(Cited from: Weng, Lilian. (Jun 2023). “LLM-powered Autonomous Agents”. Lil’Log. https://lilianweng.github.io/posts/2023-06-23-agent/)'), Document(metadata={}, page_content='Summary:\\n\\nLilian Weng\\'s article \"LLM-powered Autonomous Agents\" (2023) provides an overview of how large language models (LLMs) are being used to build autonomous agents capable of complex reasoning, planning, and tool use. The article surveys recent advances such as chain-of-thought prompting, tree-of-thoughts, and frameworks like ReAct, which combine reasoning and acting. It discusses how LLM agents can interact with external tools, retrieve information, and self-reflect to improve performance. The piece also highlights open-source projects (e.g., AutoGPT, GPT-Engineer) and benchmarks for evaluating tool-augmented LLMs. Overall, the article emphasizes the growing capabilities and modularity of LLM-powered agents, as well as ongoing challenges in reliability, memory, and alignment.')]}}\n",
      "{'collapse_summaries': {'collapsed_summaries': [Document(metadata={}, page_content='다음은 제공된 요약문들을 바탕으로 한 LLM 기반 자율 에이전트의 주요 주제에 대한 통합 요약입니다.\\n\\n---\\n\\n이 글은 대형 언어 모델(LLM)이 중심이 되어 작동하는 자율 에이전트의 구조와 핵심 기술, 그리고 실제 적용 사례와 한계에 대해 다룹니다.\\n\\n1. **구조적 구성요소**\\n   - **계획(Planning):** 에이전트는 복잡한 문제를 작은 하위 목표로 분해하고, Chain of Thought(연쇄적 사고), Tree of Thoughts(사고의 트리) 등 다양한 기법을 활용해 단계별로 추론합니다. 자기반성(self-reflection)과 ReAct, Reflexion 같은 프레임워크를 통해 과거 행동을 분석·개선하며, 외부 플래너와의 연동도 가능합니다.\\n   - **메모리(Memory):** 인간의 감각·단기·장기 기억에 비유하여, LLM은 인컨텍스트 학습(단기)과 외부 벡터스토어(장기)를 활용합니다. 대규모 외부 메모리 검색을 위해 MIPS(최대 내적 탐색)와 LSH, HNSW, FAISS 등 근사 최근접 이웃(ANN) 알고리즘이 사용됩니다.\\n   - **도구 사용(Tool Use):** LLM은 외부 API, 플러그인, 전문 모델 등 다양한 도구와 연동하여 최신 정보 검색, 코드 실행, 도메인 특화 작업을 수행합니다. MRKL, Toolformer, HuggingGPT, ChemCrow 등 다양한 시스템이 개발되고 있으며, API-Bank와 같은 벤치마크로 도구 활용 능력을 평가합니다.\\n\\n2. **학습 및 자기개선**\\n   - Chain of Hindsight(CoH), Algorithm Distillation(AD) 등은 과거 피드백이나 경험의 연속적 히스토리를 활용해 모델이 자기반성과 점진적 개선을 할 수 있도록 합니다. 이는 강화학습, 지도학습 모두에 적용되어, 에이전트가 맥락에 따라 적응하고 성능을 높일 수 있게 합니다.\\n\\n3. **실제 적용 및 한계**\\n   - AutoGPT, BabyAGI, HuggingGPT, ChemCrow 등은 LLM 기반 자율 에이전트의 가능성을 보여주는 대표적 사례입니다. 특히 과학적 발견, 일정 관리, 화학 합성 등 복잡한 실제 문제에 적용되고 있습니다.\\n   - 하지만 신뢰성, 메모리 한계, 도구 사용의 정확성, 위험한 요청(예: 화학무기 합성) 대응 등 여러 도전과제가 남아 있습니다. 인간 전문가의 평가와 감독이 여전히 중요합니다.\\n\\n4. **사회적·집단적 행동**\\n   - Generative Agents Simulation 연구에서는 LLM 기반 가상 에이전트들이 장기 기억, 맥락 검색, 자기반성, 계획 등을 통해 사회적 상호작용과 정보 확산, 이벤트 조정 등 인간 유사 행동을 보임을 확인했습니다.\\n\\n---\\n\\n**요약:**  \\nLLM 기반 자율 에이전트는 계획, 메모리, 도구 사용의 세 축을 중심으로 복잡한 문제를 해결하며, 자기반성과 외부 도구 연동을 통해 점진적으로 성능을 개선합니다. 다양한 실제 사례와 실험을 통해 그 가능성이 입증되고 있으나, 신뢰성·안전성·도구 활용의 한계 등 해결해야 할 과제도 많습니다. 인간의 감독과 평가가 여전히 중요한 역할을 하며, 사회적 행동 시뮬레이션 등 새로운 연구도 활발히 진행되고 있습니다.'), Document(metadata={}, page_content='다음은 주어진 요약들을 바탕으로 도출한 주요 주제의 통합 요약입니다:\\n\\n이 문서들은 LLM(대형 언어 모델) 기반 자율 에이전트와 코드 생성 시스템의 기능, 한계, 그리고 최적의 활용 방안에 대해 다루고 있다. LLM 에이전트는 인터넷 검색, 파일 관리, 코드 분석 및 생성, 이미지 생성 등 다양한 작업을 수행할 수 있으며, 외부 도구와의 연동 및 자체적인 성찰(자기평가, 자기비판)을 통해 성능을 개선한다. 그러나 이들은 컨텍스트 길이의 한계, 장기 기억 부족, 복잡한 작업 분해 및 예기치 못한 오류 대응의 어려움, 자연어 인터페이스의 신뢰성 문제 등 여러 한계를 지닌다.\\n\\n코드 생성 측면에서는, 사용자의 요구를 명확히 파악하기 위해 체계적으로 질문하고, 모든 핵심 클래스와 함수의 역할을 먼저 정의한 뒤, 완전하고 실행 가능한 코드베이스를 단계별로 생성하는 접근법이 강조된다. MVC 아키텍처와 같은 구조적 설계, 파일 간 호환성, 문서화 및 주석, 그리고 테스트 코드 작성 등 소프트웨어 개발의 모범 사례를 준수하는 것이 중요하다. 이러한 절차는 명확성, 완성도, 효율성을 높이고, 사용자의 기대에 부합하는 결과물을 제공하는 데 중점을 둔다.\\n\\n요약하면, LLM 기반 에이전트와 코드 생성 시스템은 점점 더 강력해지고 있지만, 신뢰성·기억력·계획 능력 등에서 여전히 도전 과제가 존재한다. 이를 극복하기 위해 체계적이고 명확한 요구사항 분석, 단계별 코드 생성, 자기 성찰적 개선이 필수적임을 시사한다.')]}}\n",
      "{'generate_final_summary': {'final_summary': '다음은 두 요약문을 통합하여 도출한 LLM 기반 자율 에이전트 및 코드 생성 시스템의 주요 주제에 대한 최종 요약입니다.\\n\\n---\\n\\nLLM(대형 언어 모델) 기반 자율 에이전트는 계획, 메모리, 도구 사용을 핵심 축으로 하여 복잡한 문제를 해결하고, 자기반성과 외부 도구 연동을 통해 점진적으로 성능을 개선합니다. 이들은 인터넷 검색, 파일 관리, 코드 및 이미지 생성 등 다양한 작업을 수행하며, Chain of Thought, Tree of Thoughts, 자기반성 프레임워크 등 다양한 기법을 활용해 문제를 단계적으로 분해하고 해결합니다. 메모리 측면에서는 인컨텍스트 학습과 외부 벡터스토어를 활용하며, 도구 사용에서는 API, 플러그인, 전문 모델 등과 연동하여 최신 정보 검색 및 도메인 특화 작업을 수행합니다.\\n\\n코드 생성 시스템에서는 사용자의 요구를 명확히 파악하고, 구조적 설계(MVC 등), 문서화, 테스트 코드 작성 등 소프트웨어 개발의 모범 사례를 준수하는 단계별 접근이 강조됩니다. 이를 통해 명확성, 완성도, 효율성을 높이고, 사용자의 기대에 부합하는 결과물을 제공합니다.\\n\\n그러나 LLM 기반 에이전트와 코드 생성 시스템 모두 컨텍스트 길이, 장기 기억, 복잡한 작업 분해, 도구 사용의 신뢰성, 예기치 못한 오류 대응 등 여러 한계와 도전 과제를 안고 있습니다. 신뢰성·안전성 확보와 인간 전문가의 감독, 평가가 여전히 중요하며, 자기 성찰적 개선과 체계적인 요구사항 분석, 단계별 실행이 필수적임이 강조됩니다. 최근에는 사회적 행동 시뮬레이션 등 새로운 연구도 활발히 진행되고 있습니다.'}}\n"
     ]
    }
   ],
   "source": [
    "async for step in graph.astream(\n",
    "    {'contents': [doc.page_content for doc in split_docs]},\n",
    "    {'recursion_limit': 10}\n",
    "):\n",
    "    print(step)"
   ]
  },
  {
   "cell_type": "code",
   "execution_count": null,
   "id": "08a32970",
   "metadata": {},
   "outputs": [],
   "source": []
  }
 ],
 "metadata": {
  "kernelspec": {
   "display_name": "Python 3",
   "language": "python",
   "name": "python3"
  },
  "language_info": {
   "codemirror_mode": {
    "name": "ipython",
    "version": 3
   },
   "file_extension": ".py",
   "mimetype": "text/x-python",
   "name": "python",
   "nbconvert_exporter": "python",
   "pygments_lexer": "ipython3",
   "version": "3.13.2"
  }
 },
 "nbformat": 4,
 "nbformat_minor": 5
}
