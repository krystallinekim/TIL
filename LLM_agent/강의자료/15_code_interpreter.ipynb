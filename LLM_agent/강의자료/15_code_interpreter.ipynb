{
 "cells": [
  {
   "cell_type": "markdown",
   "id": "0f4c8712",
   "metadata": {},
   "source": [
    "# 코드 실행기\n",
    "`15_code_interpreter.ipynb`"
   ]
  },
  {
   "cell_type": "code",
   "execution_count": 1,
   "id": "65a88f23",
   "metadata": {},
   "outputs": [
    {
     "data": {
      "text/plain": [
       "True"
      ]
     },
     "execution_count": 1,
     "metadata": {},
     "output_type": "execute_result"
    }
   ],
   "source": [
    "from dotenv import load_dotenv\n",
    "\n",
    "load_dotenv()"
   ]
  },
  {
   "cell_type": "markdown",
   "id": "1e80f233",
   "metadata": {},
   "source": [
    "## State"
   ]
  },
  {
   "cell_type": "code",
   "execution_count": 2,
   "id": "1e1ea777",
   "metadata": {},
   "outputs": [],
   "source": [
    "from langgraph.graph import MessagesState\n",
    "from typing_extensions import Any\n",
    "\n",
    "class State(MessagesState):\n",
    "    question: str  # 사용자 질문\n",
    "    dataset: Any   # 임의이 데이터셋(추후엔 DB에서 가져오거나 해야함)\n",
    "    code: str      # 파이썬 코드 블럭\n",
    "    result: str    # `code`의 실행결과\n",
    "    answer: str    # 최종 답변"
   ]
  },
  {
   "cell_type": "markdown",
   "id": "b5ce9bc5",
   "metadata": {},
   "source": [
    "## Node"
   ]
  },
  {
   "cell_type": "code",
   "execution_count": 3,
   "id": "7137ee76",
   "metadata": {},
   "outputs": [],
   "source": [
    "# %pip install -q langchain_experimental"
   ]
  },
  {
   "cell_type": "code",
   "execution_count": 4,
   "id": "76bb04ae",
   "metadata": {},
   "outputs": [],
   "source": [
    "from langchain_openai import ChatOpenAI\n",
    "from typing_extensions import TypedDict, Annotated\n",
    "from langchain_experimental.utilities import PythonREPL\n",
    "import os\n",
    "import uuid\n",
    "\n",
    "llm = ChatOpenAI(model='gpt-4o', temperature=0)\n",
    "\n",
    "class CodeBlock(TypedDict):\n",
    "    code: Annotated[str, ..., '바로 실행 가능한 파이썬 코드']\n",
    "\n",
    "\n",
    "def generate_code(state: State):\n",
    "    prompt = f'''\n",
    "    사용자 질문과 데이터셋을 제공할거야. 사용자 질문에 답변하기 위한 파이썬 코드를 생성해 줘.\n",
    "    코드는 간단할수록 좋고, numpy, pandas, scikit-learn, scipy 가 설치되어 있으니 편하게 사용해.\n",
    "    [주의] 이 코드는 실행될거기 때문에, 위험한 코드는 작성하면 안돼!\n",
    "    ---\n",
    "    질문: {state['question']}\n",
    "    ---\n",
    "    데이터셋: {state['dataset']}\n",
    "    ---\n",
    "    코드: \n",
    "    '''\n",
    "    s_llm = llm.with_structured_output(CodeBlock)\n",
    "    res = s_llm.invoke(prompt)\n",
    "    return {'code': res['code']}\n",
    "\n",
    "\n",
    "def execute_code(state: State):\n",
    "    repl = PythonREPL()\n",
    "    result = repl.run(state['code'])\n",
    "    return {'result': result.strip()}\n",
    "\n",
    "\n",
    "def generate_answer(state: State):\n",
    "    prompt = f'''\n",
    "    우리는 사용자 질문 -> 코드 -> 결과를 가지고 있어\n",
    "    사용자의 질문과, 실행코드와 결과를 종합해 최종 답변을 생성해라.\n",
    "    실행코드를 기반으로 왜 이 결과가 나왔는지 설명하면 된다.\n",
    "    ---\n",
    "    질문: {state['question']}\n",
    "    ---\n",
    "    코드: {state['code']}\n",
    "    ---\n",
    "    결과: {state['result']}\n",
    "    ---\n",
    "    최종 답변:\n",
    "    '''\n",
    "    res = llm.invoke(prompt)\n",
    "    return {'answer': res}\n",
    "\n",
    "\n",
    "def save_code(state: State):\n",
    "    \"\"\"\n",
    "    코드를 특정 폴더에 저장합니다.\n",
    "    \"\"\"\n",
    "    # 'codes' 폴더가 없으면 생성\n",
    "    if not os.path.exists(\"codes\"):\n",
    "        os.makedirs(\"codes\")\n",
    "\n",
    "    # 고유한 파일 이름 생성\n",
    "    filename = f\"codes/code_{uuid.uuid4()}.py\"\n",
    "    \n",
    "    # state에서 질문과 코드 가져오기\n",
    "    question = state.get('question', 'No question provided.')\n",
    "    code_to_save = state.get('code', '')\n",
    "\n",
    "    # 질문을 docstring으로 추가\n",
    "    docstring = f'\"\"\"\\n[USER QUESTION]\\n{question}\\n\"\"\"\\n\\n'\n",
    "    content_to_save = docstring + code_to_save\n",
    "    \n",
    "    # 파일에 코드 저장\n",
    "    with open(filename, \"w\", encoding=\"utf-8\") as f:\n",
    "        f.write(content_to_save)\n",
    "        \n",
    "    # 상태를 변경하지 않고 다음 노드로 진행하기 위해 빈 딕셔너리 반환\n",
    "    return {}"
   ]
  },
  {
   "cell_type": "markdown",
   "id": "85b42d3e",
   "metadata": {},
   "source": [
    "## Graph"
   ]
  },
  {
   "cell_type": "code",
   "execution_count": 5,
   "id": "3ed00b9e",
   "metadata": {},
   "outputs": [],
   "source": [
    "from langgraph.graph import StateGraph, START, END\n",
    "from langgraph.checkpoint.memory import InMemorySaver\n",
    "\n",
    "builder = StateGraph(State)\n",
    "builder.add_sequence([generate_code, execute_code, save_code, generate_answer])\n",
    "\n",
    "builder.add_edge(START, 'generate_code')\n",
    "builder.add_edge('generate_answer', END)\n",
    "\n",
    "memory = InMemorySaver()\n",
    "graph = builder.compile(checkpointer=memory)"
   ]
  },
  {
   "cell_type": "code",
   "execution_count": 6,
   "id": "a9e7de36",
   "metadata": {},
   "outputs": [
    {
     "name": "stderr",
     "output_type": "stream",
     "text": [
      "Python REPL can execute arbitrary code. Use with caution.\n"
     ]
    },
    {
     "name": "stdout",
     "output_type": "stream",
     "text": [
      "{'generate_code': {'code': 'import numpy as np\\nimport pandas as pd\\nfrom sklearn.linear_model import LinearRegression\\n\\n# 데이터셋 정의\\ndata = {\\n    \\'heights\\': [150, 152, 154, 156, 158, 160, 161, 162, 163, 164, 165, 166, 167, 168, 169, 170, 171, 172, 173, 174, 175, 176, 177, 178, 179, 180, 181, 182, 183, 185],\\n    \\'weights\\': [45, 48, 49, 50, 52, 54, 55, 56, 57, 58, 59, 60, 61, 62, 63, 64, 65, 66, 67, 68, 70, 71, 72, 73, 74, 75, 77, 78, 79, 82]\\n}\\n\\n# 데이터프레임 생성\\ndf = pd.DataFrame(data)\\n\\n# 독립 변수와 종속 변수 설정\\nX = df[[\\'heights\\']]\\ny = df[\\'weights\\']\\n\\n# 선형 회귀 모델 생성 및 학습\\nmodel = LinearRegression()\\nmodel.fit(X, y)\\n\\n# 키 173에 대한 몸무게 예측\\nheight_to_predict = np.array([[173]])\\npredicted_weight = model.predict(height_to_predict)\\n\\nprint(f\"Predicted weight for height 173 cm: {predicted_weight[0]:.2f} kg\")'}}\n"
     ]
    },
    {
     "name": "stderr",
     "output_type": "stream",
     "text": [
      "c:\\Users\\IP_Time\\AppData\\Local\\Programs\\Python\\Python313\\Lib\\site-packages\\sklearn\\utils\\validation.py:2749: UserWarning: X does not have valid feature names, but LinearRegression was fitted with feature names\n",
      "  warnings.warn(\n"
     ]
    },
    {
     "name": "stdout",
     "output_type": "stream",
     "text": [
      "{'execute_code': {'result': 'Predicted weight for height 173 cm: 67.79 kg'}}\n",
      "{'save_code': None}\n",
      "{'generate_answer': {'answer': AIMessage(content='키 173cm에 대한 몸무게를 예측하기 위해 선형 회귀 모델을 사용했습니다. 주어진 데이터셋은 키와 그에 대응하는 몸무게로 구성되어 있으며, 이를 기반으로 모델을 학습시켰습니다. \\n\\n선형 회귀는 두 변수 간의 관계를 직선으로 모델링하는 방법입니다. 이 경우, 키(독립 변수)와 몸무게(종속 변수) 간의 관계를 직선으로 표현하여, 특정 키에 대한 몸무게를 예측할 수 있습니다. \\n\\n모델을 학습한 후, 키가 173cm일 때의 몸무게를 예측한 결과, 약 67.79kg으로 계산되었습니다. 이는 학습된 모델이 데이터셋 내의 패턴을 기반으로 예측한 값입니다. 따라서, 키가 173cm인 사람의 몸무게는 약 67.79kg일 것으로 예상할 수 있습니다.', additional_kwargs={'refusal': None}, response_metadata={'token_usage': {'completion_tokens': 203, 'prompt_tokens': 453, 'total_tokens': 656, 'completion_tokens_details': {'accepted_prediction_tokens': 0, 'audio_tokens': 0, 'reasoning_tokens': 0, 'rejected_prediction_tokens': 0}, 'prompt_tokens_details': {'audio_tokens': 0, 'cached_tokens': 0}}, 'model_name': 'gpt-4o-2024-08-06', 'system_fingerprint': 'fp_f33640a400', 'id': 'chatcmpl-CElZn4pxJUvGaGCjItnsqc0e2QHT1', 'service_tier': 'default', 'finish_reason': 'stop', 'logprobs': None}, id='run--e010c8b7-abc4-46d7-aeef-2c940e05b112-0', usage_metadata={'input_tokens': 453, 'output_tokens': 203, 'total_tokens': 656, 'input_token_details': {'audio': 0, 'cache_read': 0}, 'output_token_details': {'audio': 0, 'reasoning': 0}})}}\n"
     ]
    }
   ],
   "source": [
    "config = {\n",
    "    'configurable': {'thread_id': '1'}\n",
    "}\n",
    "question = '키를 기반으로 몸무게를 예측해야해. 키는 173이야.'\n",
    "dataset = {\n",
    "    \"heights\": [\n",
    "        150, 152, 154, 156, 158, \n",
    "        160, 161, 162, 163, 164, \n",
    "        165, 166, 167, 168, 169, \n",
    "        170, 171, 172, 173, 174, \n",
    "        175, 176, 177, 178, 179, \n",
    "        180, 181, 182, 183, 185\n",
    "    ],\n",
    "    \"weights\": [\n",
    "        45, 48, 49, 50, 52, \n",
    "        54, 55, 56, 57, 58, \n",
    "        59, 60, 61, 62, 63, \n",
    "        64, 65, 66, 67, 68, \n",
    "        70, 71, 72, 73, 74, \n",
    "        75, 77, 78, 79, 82\n",
    "    ]\n",
    "}\n",
    "\n",
    "for step in graph.stream({\n",
    "    'question': question,\n",
    "    'dataset': dataset\n",
    "}, config):\n",
    "    print(step)"
   ]
  },
  {
   "cell_type": "code",
   "execution_count": 7,
   "id": "4403210c",
   "metadata": {},
   "outputs": [
    {
     "data": {
      "image/png": "[encoded data removed]",
      "text/plain": [
       "<IPython.core.display.Image object>"
      ]
     },
     "execution_count": 7,
     "metadata": {},
     "output_type": "execute_result"
    }
   ],
   "source": [
    "from IPython.display import Image\n",
    "Image(graph.get_graph().draw_mermaid_png())"
   ]
  }
 ],
 "metadata": {
  "kernelspec": {
   "display_name": "Python 3",
   "language": "python",
   "name": "python3"
  },
  "language_info": {
   "codemirror_mode": {
    "name": "ipython",
    "version": 3
   },
   "file_extension": ".py",
   "mimetype": "text/x-python",
   "name": "python",
   "nbconvert_exporter": "python",
   "pygments_lexer": "ipython3",
   "version": "3.13.2"
  }
 },
 "nbformat": 4,
 "nbformat_minor": 5
}
