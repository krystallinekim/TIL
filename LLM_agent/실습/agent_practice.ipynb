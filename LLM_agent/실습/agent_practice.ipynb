{
 "cells": [
  {
   "cell_type": "markdown",
   "id": "3aaf1089",
   "metadata": {},
   "source": [
    "# Agent 작성\n",
    "\n",
    "주제 - 내가 배운 모든 걸 알고 있는 학습 조교\n",
    "\n",
    "data - TIL 안의 모든 md 파일\n",
    "\n",
    "Tools: RAG, 웹서치\n",
    "\n"
   ]
  },
  {
   "cell_type": "code",
   "execution_count": 1,
   "id": "f8f483dd",
   "metadata": {},
   "outputs": [
    {
     "data": {
      "text/plain": [
       "True"
      ]
     },
     "execution_count": 1,
     "metadata": {},
     "output_type": "execute_result"
    }
   ],
   "source": [
    "# base\n",
    "import os\n",
    "from dotenv import load_dotenv\n",
    "from langchain_openai import ChatOpenAI\n",
    "\n",
    "# agent\n",
    "from langchain.agents import create_openai_tools_agent, AgentExecutor\n",
    "from langchain_core.prompts import ChatPromptTemplate, MessagesPlaceholder\n",
    "from langchain_core.runnables import RunnablePassthrough, RunnableLambda\n",
    "\n",
    "# memory\n",
    "from langchain.memory import ConversationBufferMemory\n",
    "\n",
    "# web search\n",
    "from langchain_tavily import TavilySearch\n",
    "\n",
    "# RAG\n",
    "from langchain_community.document_loaders import DirectoryLoader, TextLoader\n",
    "from langchain_text_splitters import MarkdownTextSplitter\n",
    "from langchain_openai import OpenAIEmbeddings\n",
    "from langchain_community.vectorstores import Chroma\n",
    "from langchain.tools.retriever import create_retriever_tool\n",
    "\n",
    "# 출력\n",
    "from langchain.callbacks.streaming_stdout import StreamingStdOutCallbackHandler\n",
    "\n",
    "# 경고창\n",
    "import warnings\n",
    "\n",
    "warnings.filterwarnings(\"ignore\", category=DeprecationWarning)\n",
    "\n",
    "load_dotenv()"
   ]
  },
  {
   "cell_type": "code",
   "execution_count": null,
   "id": "7ef512f1",
   "metadata": {},
   "outputs": [],
   "source": [
    "# LLM\n",
    "llm = ChatOpenAI(\n",
    "    model='gpt-4.1-nano', \n",
    "    temperature=0,\n",
    "    streaming=True,\n",
    "    callbacks=[StreamingStdOutCallbackHandler()]\n",
    ")"
   ]
  },
  {
   "cell_type": "code",
   "execution_count": null,
   "id": "f01bdd01",
   "metadata": {},
   "outputs": [],
   "source": [
    "# 프롬프트\n",
    "\n",
    "system_message = f'''\n",
    "너는 웹 검색도 가능하고, 사용자가 공부한 내용도 검색할 수 있는 어시스턴트야.\n",
    "\n",
    "사용자는 AI 기반 데이터 분석가 양성 과정에서 SQL, 파이썬, 머신러닝, LLM 등에 대해 공부했어.\n",
    "\n",
    "rag_search 툴 안에는 사용자가 공부한 내용이 들어있어.\n",
    "\n",
    "사용자가 질문한 내용이 공부한 내용과 관련이 있다면, 먼저 rag_search 툴을 사용해서 답변을 생성해.\n",
    "\n",
    "공부한 내용과 관련이 있는데, rag_search로 관련도가 높은 정보를 찾지 못했다면, web_search를 사용해 답변을 생성해도 돼.\n",
    "\n",
    "만약 질문 내용이 공부한 내용과 관련이 없다면, web_search 툴을 사용해 관련 내용을 검색하고, 답변을 생성해.\n",
    "\n",
    "만약 web_search를 이용했다면, 웹 검색을 진행했다는 내용을 답변에 포함해야 해.\n",
    "\n",
    "질문 내용을 이해하지 못했다면, 그냥 질문을 이해하지 못했다고 말해.\n",
    "\n",
    "만약 답을 모르겠다면, 그냥 답을 모르겠다고 말해.\n",
    "\n",
    "가장 의미있는 결과들을 정리해서 질문에 답해줘.\n",
    "\n",
    "'''\n",
    "\n",
    "\n",
    "prompt = ChatPromptTemplate([\n",
    "    ('system', system_message),\n",
    "    MessagesPlaceholder(variable_name='chat_history'),\n",
    "    ('human', '{input}'),\n",
    "    MessagesPlaceholder(variable_name='agent_scratchpad')\n",
    "])\n"
   ]
  },
  {
   "cell_type": "code",
   "execution_count": 8,
   "id": "0dc8f269",
   "metadata": {},
   "outputs": [],
   "source": [
    "# 메모리\n",
    "memory = ConversationBufferMemory(\n",
    "    return_messages=True,\n",
    "    memory_key='chat_history'\n",
    ")"
   ]
  },
  {
   "cell_type": "code",
   "execution_count": 9,
   "id": "a603c8e9",
   "metadata": {},
   "outputs": [],
   "source": [
    "# 웹서치\n",
    "web_search = TavilySearch(\n",
    "    max_results=5,\n",
    "    topic='general',\n",
    "    search_depth='advanced'\n",
    ")"
   ]
  },
  {
   "cell_type": "code",
   "execution_count": null,
   "id": "e64d380e",
   "metadata": {},
   "outputs": [
    {
     "name": "stderr",
     "output_type": "stream",
     "text": [
      "100%|██████████| 47/47 [00:00<00:00, 4772.83it/s]"
     ]
    },
    {
     "name": "stderr",
     "output_type": "stream",
     "text": [
      "\n"
     ]
    }
   ],
   "source": [
    "# 사전처리\n",
    "folder_path = '../'\n",
    "vectorstore_path = './vectorstore'\n",
    "embedding = OpenAIEmbeddings()\n",
    "\n",
    "# 벡터스토어가 있으면 그대로 가져옴\n",
    "if os.path.exists(vectorstore_path) and os.listdir(vectorstore_path):\n",
    "    vectorstore = Chroma(persist_directory=vectorstore_path, embedding_function=embedding)\n",
    "    \n",
    "# 없을경우 생성\n",
    "else:\n",
    "    loader = DirectoryLoader(\n",
    "        '../../',\n",
    "        glob='**/*.md',\n",
    "        loader_cls=lambda path: TextLoader(path, encoding=\"utf-8\"),\n",
    "        show_progress=False\n",
    "    )\n",
    "    documents = loader.load()\n",
    "\n",
    "    text_splitter = MarkdownTextSplitter(\n",
    "        chunk_size=1000,\n",
    "        chunk_overlap=200\n",
    "    )\n",
    "\n",
    "    split_docs = text_splitter.split_documents(documents)\n",
    "\n",
    "    vectorstore = Chroma.from_documents(documents=split_docs, embedding=embedding, persist_directory=vectorstore_path)\n",
    "    vectorstore.persist()\n"
   ]
  },
  {
   "cell_type": "code",
   "execution_count": 11,
   "id": "c22756bf",
   "metadata": {},
   "outputs": [],
   "source": [
    "# RAG\n",
    "retriever = vectorstore.as_retriever()\n",
    "\n",
    "rag_tool = create_retriever_tool(\n",
    "    retriever,\n",
    "    name='md_search',\n",
    "    description='수업자료에서 관련된 내용을 검색합니다'\n",
    ")"
   ]
  },
  {
   "cell_type": "code",
   "execution_count": 12,
   "id": "858675ae",
   "metadata": {},
   "outputs": [],
   "source": [
    "# Tools 설정\n",
    "tools = [web_search, rag_tool]"
   ]
  },
  {
   "cell_type": "code",
   "execution_count": null,
   "id": "b2f9d9bc",
   "metadata": {},
   "outputs": [],
   "source": [
    "agent = create_openai_tools_agent(\n",
    "    llm=llm,\n",
    "    tools=tools,\n",
    "    prompt=prompt\n",
    ")\n",
    "\n",
    "agent_executor = AgentExecutor(\n",
    "    agent=agent,\n",
    "    tools=tools,\n",
    "    memory=memory,\n",
    "    verbose=False    \n",
    ")"
   ]
  },
  {
   "cell_type": "code",
   "execution_count": null,
   "id": "0f0ff05b",
   "metadata": {},
   "outputs": [],
   "source": [
    "if __name__ == \"__main__\":\n",
    "    print(\"챗봇 시작. 종료하려면 'exit' 입력\")\n",
    "    \n",
    "    while True:\n",
    "        user_input = input(\"\\n질문을 입력하세요: \")\n",
    "        if user_input.lower() in [\"exit\", \"quit\"]:\n",
    "            break\n",
    "        \n",
    "        result = agent_executor.invoke({\"input\": user_input})\n",
    "        \n",
    "        print(result['output'])"
   ]
  }
 ],
 "metadata": {
  "kernelspec": {
   "display_name": "Python 3",
   "language": "python",
   "name": "python3"
  },
  "language_info": {
   "codemirror_mode": {
    "name": "ipython",
    "version": 3
   },
   "file_extension": ".py",
   "mimetype": "text/x-python",
   "name": "python",
   "nbconvert_exporter": "python",
   "pygments_lexer": "ipython3",
   "version": "3.13.2"
  }
 },
 "nbformat": 4,
 "nbformat_minor": 5
}
