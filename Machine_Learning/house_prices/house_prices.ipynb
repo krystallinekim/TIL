{
 "cells": [
  {
   "cell_type": "code",
   "execution_count": 1,
   "id": "e306b925",
   "metadata": {},
   "outputs": [],
   "source": [
    "import numpy as np\n",
    "import pandas as pd\n",
    "import matplotlib.pyplot as plt\n",
    "import seaborn as sns\n",
    "import warnings\n",
    "from sklearn.metrics import mean_squared_error, r2_score\n",
    "from sklearn.model_selection import cross_validate\n",
    "from sklearn.model_selection import train_test_split\n",
    "from sklearn.model_selection import RandomizedSearchCV\n",
    "from sklearn.metrics import make_scorer, mean_squared_error\n",
    "from scipy.stats import uniform, randint\n",
    "from xgboost import XGBRegressor\n",
    "\n",
    "warnings.filterwarnings('ignore')"
   ]
  },
  {
   "cell_type": "code",
   "execution_count": 2,
   "id": "d867c2ea",
   "metadata": {},
   "outputs": [
    {
     "name": "stdout",
     "output_type": "stream",
     "text": [
      "<class 'pandas.core.frame.DataFrame'>\n",
      "RangeIndex: 1460 entries, 0 to 1459\n",
      "Data columns (total 81 columns):\n",
      " #   Column         Non-Null Count  Dtype  \n",
      "---  ------         --------------  -----  \n",
      " 0   Id             1460 non-null   int64  \n",
      " 1   MSSubClass     1460 non-null   int64  \n",
      " 2   MSZoning       1460 non-null   object \n",
      " 3   LotFrontage    1201 non-null   float64\n",
      " 4   LotArea        1460 non-null   int64  \n",
      " 5   Street         1460 non-null   object \n",
      " 6   Alley          91 non-null     object \n",
      " 7   LotShape       1460 non-null   object \n",
      " 8   LandContour    1460 non-null   object \n",
      " 9   Utilities      1460 non-null   object \n",
      " 10  LotConfig      1460 non-null   object \n",
      " 11  LandSlope      1460 non-null   object \n",
      " 12  Neighborhood   1460 non-null   object \n",
      " 13  Condition1     1460 non-null   object \n",
      " 14  Condition2     1460 non-null   object \n",
      " 15  BldgType       1460 non-null   object \n",
      " 16  HouseStyle     1460 non-null   object \n",
      " 17  OverallQual    1460 non-null   int64  \n",
      " 18  OverallCond    1460 non-null   int64  \n",
      " 19  YearBuilt      1460 non-null   int64  \n",
      " 20  YearRemodAdd   1460 non-null   int64  \n",
      " 21  RoofStyle      1460 non-null   object \n",
      " 22  RoofMatl       1460 non-null   object \n",
      " 23  Exterior1st    1460 non-null   object \n",
      " 24  Exterior2nd    1460 non-null   object \n",
      " 25  MasVnrType     588 non-null    object \n",
      " 26  MasVnrArea     1452 non-null   float64\n",
      " 27  ExterQual      1460 non-null   object \n",
      " 28  ExterCond      1460 non-null   object \n",
      " 29  Foundation     1460 non-null   object \n",
      " 30  BsmtQual       1423 non-null   object \n",
      " 31  BsmtCond       1423 non-null   object \n",
      " 32  BsmtExposure   1422 non-null   object \n",
      " 33  BsmtFinType1   1423 non-null   object \n",
      " 34  BsmtFinSF1     1460 non-null   int64  \n",
      " 35  BsmtFinType2   1422 non-null   object \n",
      " 36  BsmtFinSF2     1460 non-null   int64  \n",
      " 37  BsmtUnfSF      1460 non-null   int64  \n",
      " 38  TotalBsmtSF    1460 non-null   int64  \n",
      " 39  Heating        1460 non-null   object \n",
      " 40  HeatingQC      1460 non-null   object \n",
      " 41  CentralAir     1460 non-null   object \n",
      " 42  Electrical     1459 non-null   object \n",
      " 43  1stFlrSF       1460 non-null   int64  \n",
      " 44  2ndFlrSF       1460 non-null   int64  \n",
      " 45  LowQualFinSF   1460 non-null   int64  \n",
      " 46  GrLivArea      1460 non-null   int64  \n",
      " 47  BsmtFullBath   1460 non-null   int64  \n",
      " 48  BsmtHalfBath   1460 non-null   int64  \n",
      " 49  FullBath       1460 non-null   int64  \n",
      " 50  HalfBath       1460 non-null   int64  \n",
      " 51  BedroomAbvGr   1460 non-null   int64  \n",
      " 52  KitchenAbvGr   1460 non-null   int64  \n",
      " 53  KitchenQual    1460 non-null   object \n",
      " 54  TotRmsAbvGrd   1460 non-null   int64  \n",
      " 55  Functional     1460 non-null   object \n",
      " 56  Fireplaces     1460 non-null   int64  \n",
      " 57  FireplaceQu    770 non-null    object \n",
      " 58  GarageType     1379 non-null   object \n",
      " 59  GarageYrBlt    1379 non-null   float64\n",
      " 60  GarageFinish   1379 non-null   object \n",
      " 61  GarageCars     1460 non-null   int64  \n",
      " 62  GarageArea     1460 non-null   int64  \n",
      " 63  GarageQual     1379 non-null   object \n",
      " 64  GarageCond     1379 non-null   object \n",
      " 65  PavedDrive     1460 non-null   object \n",
      " 66  WoodDeckSF     1460 non-null   int64  \n",
      " 67  OpenPorchSF    1460 non-null   int64  \n",
      " 68  EnclosedPorch  1460 non-null   int64  \n",
      " 69  3SsnPorch      1460 non-null   int64  \n",
      " 70  ScreenPorch    1460 non-null   int64  \n",
      " 71  PoolArea       1460 non-null   int64  \n",
      " 72  PoolQC         7 non-null      object \n",
      " 73  Fence          281 non-null    object \n",
      " 74  MiscFeature    54 non-null     object \n",
      " 75  MiscVal        1460 non-null   int64  \n",
      " 76  MoSold         1460 non-null   int64  \n",
      " 77  YrSold         1460 non-null   int64  \n",
      " 78  SaleType       1460 non-null   object \n",
      " 79  SaleCondition  1460 non-null   object \n",
      " 80  SalePrice      1460 non-null   int64  \n",
      "dtypes: float64(3), int64(35), object(43)\n",
      "memory usage: 924.0+ KB\n"
     ]
    }
   ],
   "source": [
    "# data import\n",
    "train_df = pd.read_csv('./train.csv')\n",
    "test_df = pd.read_csv('./test.csv')\n",
    "train_df.info()"
   ]
  },
  {
   "cell_type": "code",
   "execution_count": 3,
   "id": "91430a72",
   "metadata": {},
   "outputs": [
    {
     "name": "stdout",
     "output_type": "stream",
     "text": [
      "              missing  percentage\n",
      "PoolQC           1453   99.520548\n",
      "MiscFeature      1406   96.301370\n",
      "Alley            1369   93.767123\n",
      "Fence            1179   80.753425\n",
      "MasVnrType        872   59.726027\n",
      "FireplaceQu       690   47.260274\n",
      "LotFrontage       259   17.739726\n",
      "GarageType         81    5.547945\n",
      "GarageYrBlt        81    5.547945\n",
      "GarageFinish       81    5.547945\n",
      "GarageQual         81    5.547945\n",
      "GarageCond         81    5.547945\n",
      "BsmtExposure       38    2.602740\n",
      "BsmtFinType2       38    2.602740\n",
      "BsmtQual           37    2.534247\n",
      "BsmtCond           37    2.534247\n",
      "BsmtFinType1       37    2.534247\n",
      "MasVnrArea          8    0.547945\n",
      "Electrical          1    0.068493\n"
     ]
    }
   ],
   "source": [
    "missing_data = pd.DataFrame({\n",
    "    'missing': train_df.isnull().sum(),\n",
    "    'percentage': train_df.isnull().sum() / len(train_df) * 100\n",
    "})\n",
    "\n",
    "missing_data = missing_data[missing_data['missing'] > 0]\n",
    "print(missing_data.sort_values(by='missing', ascending=False))\n",
    "missing_col = list(missing_data[missing_data['percentage'] > 30].index)"
   ]
  },
  {
   "cell_type": "code",
   "execution_count": 4,
   "id": "da23a2e9",
   "metadata": {},
   "outputs": [],
   "source": [
    "train_df = train_df.drop(columns=missing_col, errors='ignore')\n",
    "\n",
    "missing_num = ['LotFrontage', 'GarageYrBlt', 'MasVnrArea']\n",
    "for col in missing_num:\n",
    "    train_df[col] = train_df[col].fillna(train_df[col].mean())\n",
    "    \n",
    "missing_obj = ['GarageType', 'GarageFinish', 'GarageQual', 'GarageCond', 'BsmtExposure', 'BsmtFinType1', 'BsmtFinType2', 'BsmtQual', 'BsmtCond', 'Electrical']\n",
    "for col in missing_obj:\n",
    "    train_df[col].fillna(train_df[col].mode()[0], inplace=True)\n"
   ]
  },
  {
   "cell_type": "code",
   "execution_count": 5,
   "id": "aaea76eb",
   "metadata": {},
   "outputs": [
    {
     "name": "stdout",
     "output_type": "stream",
     "text": [
      "Empty DataFrame\n",
      "Columns: [missing, percentage]\n",
      "Index: []\n"
     ]
    }
   ],
   "source": [
    "missing_data = pd.DataFrame({\n",
    "    'missing': train_df.isnull().sum(),\n",
    "    'percentage': train_df.isnull().sum() / len(train_df) * 100\n",
    "})\n",
    "\n",
    "missing_data = missing_data[missing_data['missing'] > 0]\n",
    "print(missing_data.sort_values(by='missing', ascending=False))"
   ]
  },
  {
   "cell_type": "code",
   "execution_count": 6,
   "id": "2d601bb2",
   "metadata": {},
   "outputs": [],
   "source": [
    "# Neighborhood별 평균 집값 계산\n",
    "price_by_nb = train_df.groupby(\"Neighborhood\")[\"SalePrice\"].mean()\n",
    "nb_groups = pd.qcut(price_by_nb, q=4, labels=[\"Low\", \"MedLow\", \"MedHigh\", \"High\"])\n",
    "nb_group_map = nb_groups.to_dict()\n",
    "train_df[\"Neighborhood_group\"] = train_df[\"Neighborhood\"].map(nb_group_map)"
   ]
  },
  {
   "cell_type": "code",
   "execution_count": 7,
   "id": "7c85e526",
   "metadata": {},
   "outputs": [],
   "source": [
    "def simplify_ms_subclass(x):\n",
    "    if x in [20, 30, 40, 45, 50, 60, 70, 75, 80, 85]:\n",
    "        return \"SingleFam\"\n",
    "    elif x in [120, 150, 160, 180]:\n",
    "        return \"PUD\"\n",
    "    elif x in [90, 190]:\n",
    "        return \"MultiFam\"\n",
    "    else:\n",
    "        return \"Other\"\n",
    "    \n",
    "train_df[\"MSSubClass_simplified\"] = train_df[\"MSSubClass\"].apply(simplify_ms_subclass)"
   ]
  },
  {
   "cell_type": "code",
   "execution_count": 8,
   "id": "2a08db2b",
   "metadata": {},
   "outputs": [],
   "source": [
    "def simplify_sale_type(x):\n",
    "    if x in [\"WD\", \"CWD\", \"VWD\"]:\n",
    "        return \"Normal\"\n",
    "    else:\n",
    "        return \"Other\"\n",
    "\n",
    "train_df[\"SaleType_group\"] = train_df[\"SaleType\"].apply(simplify_sale_type)"
   ]
  },
  {
   "cell_type": "code",
   "execution_count": 9,
   "id": "ff2a44eb",
   "metadata": {},
   "outputs": [],
   "source": [
    "def simplify_sale_condition(x):\n",
    "    if x == \"Normal\":\n",
    "        return \"Normal\"\n",
    "    else:\n",
    "        return \"Abnormal\"\n",
    "    \n",
    "train_df[\"SaleCondition_group\"] = train_df[\"SaleCondition\"].apply(simplify_sale_condition)"
   ]
  },
  {
   "cell_type": "code",
   "execution_count": 16,
   "id": "05a1b769",
   "metadata": {},
   "outputs": [
    {
     "name": "stdout",
     "output_type": "stream",
     "text": [
      "MSSubClass_simplified_MultiFam       82\n",
      "MSSubClass_simplified_PUD           160\n",
      "MSSubClass_simplified_SingleFam    1218\n",
      "Neighborhood_group_High             278\n",
      "Neighborhood_group_Low              415\n",
      "Neighborhood_group_MedHigh          398\n",
      "Neighborhood_group_MedLow           369\n",
      "SaleCondition_group_Abnormal        262\n",
      "SaleCondition_group_Normal         1198\n",
      "SaleType_group_Normal              1271\n",
      "SaleType_group_Other                189\n",
      "dtype: int64\n"
     ]
    }
   ],
   "source": [
    "numeric_cols = ['TotalBsmtSF', 'GrLivArea', 'GarageArea','LotArea', 'OverallCond', 'OverallQual', 'YearRemodAdd']\n",
    "categorical_cols = ['MSSubClass_simplified', 'Neighborhood_group', 'SaleCondition_group', 'SaleType_group']    \n",
    "\n",
    "X_categorical = pd.get_dummies(train_df[categorical_cols])\n",
    "print(X_categorical.sum())\n",
    "\n",
    "X = pd.concat([train_df[numeric_cols], X_categorical], axis=1).to_numpy()\n",
    "y = train_df['SalePrice'].to_numpy()\n",
    "\n",
    "X_train, X_val, y_train, y_val = train_test_split(X, y, test_size=0.2, random_state=42)"
   ]
  },
  {
   "cell_type": "code",
   "execution_count": 18,
   "id": "0ff13c2a",
   "metadata": {},
   "outputs": [
    {
     "name": "stdout",
     "output_type": "stream",
     "text": [
      "Fitting 5 folds for each of 50 candidates, totalling 250 fits\n",
      "Validation RMSE: 27415.08, R2: 0.9020\n"
     ]
    }
   ],
   "source": [
    "xgb = XGBRegressor(random_state=42)\n",
    "\n",
    "# 하이퍼파라미터 범위\n",
    "param_dist = {\n",
    "    'n_estimators': randint(100, 1000),\n",
    "    'max_depth': randint(3, 6),\n",
    "    'learning_rate': uniform(0.01, 0.3),\n",
    "    'subsample': uniform(0.6, 0.4),\n",
    "    'colsample_bytree': uniform(0.6, 0.4),\n",
    "    'gamma': uniform(0.2, 0.5),\n",
    "    'reg_alpha': uniform(0, 1),\n",
    "    'reg_lambda': uniform(0.3, 0.5),\n",
    "}\n",
    "\n",
    "# MSE 기반 스코어\n",
    "mse_scorer = make_scorer(mean_squared_error, greater_is_better=False)\n",
    "\n",
    "# RandomizedSearchCV\n",
    "rscv = RandomizedSearchCV(\n",
    "    estimator=xgb,\n",
    "    param_distributions=param_dist,\n",
    "    n_iter=50,\n",
    "    scoring=mse_scorer,\n",
    "    cv=5,\n",
    "    verbose=1,\n",
    "    n_jobs=-1\n",
    ")\n",
    "\n",
    "# 학습\n",
    "rscv.fit(X_train, y_train, eval_set=[(X_val, y_val)], verbose=False)\n",
    "\n",
    "# 최적 모델\n",
    "best_xgb = rscv.best_estimator_\n",
    "\n",
    "# 테스트 성능 평가\n",
    "y_pred = best_xgb.predict(X_val)\n",
    "rmse = np.sqrt(mean_squared_error(y_val, y_pred))\n",
    "r2 = r2_score(y_val, y_pred)\n",
    "print(f\"Validation RMSE: {rmse:.2f}, R2: {r2:.4f}\")"
   ]
  },
  {
   "cell_type": "code",
   "execution_count": 20,
   "id": "38500b11",
   "metadata": {},
   "outputs": [],
   "source": [
    "test_df[\"MSSubClass_simplified\"] = test_df[\"MSSubClass\"].apply(simplify_ms_subclass)\n",
    "test_df[\"Neighborhood_group\"] = test_df[\"Neighborhood\"].map(nb_group_map)\n",
    "test_df[\"SaleType_group\"] = test_df[\"SaleType\"].apply(simplify_sale_type)\n",
    "test_df[\"SaleCondition_group\"] = test_df[\"SaleCondition\"].apply(simplify_sale_condition)\n",
    "\n",
    "X_categorical = pd.get_dummies(test_df[categorical_cols])\n",
    "X = pd.concat([test_df[numeric_cols], X_categorical], axis=1).to_numpy()"
   ]
  },
  {
   "cell_type": "code",
   "execution_count": null,
   "id": "fa3cbcda",
   "metadata": {},
   "outputs": [],
   "source": [
    "y_pred_test = best_xgb.predict(X)\n",
    "submission = pd.DataFrame({\n",
    "    'Id': test_df['Id'],\n",
    "    'SalePrice': y_pred_test\n",
    "})\n",
    "\n",
    "# submission.to_csv('submission.csv', index=False)"
   ]
  }
 ],
 "metadata": {
  "kernelspec": {
   "display_name": "Python 3",
   "language": "python",
   "name": "python3"
  },
  "language_info": {
   "codemirror_mode": {
    "name": "ipython",
    "version": 3
   },
   "file_extension": ".py",
   "mimetype": "text/x-python",
   "name": "python",
   "nbconvert_exporter": "python",
   "pygments_lexer": "ipython3",
   "version": "3.13.2"
  }
 },
 "nbformat": 4,
 "nbformat_minor": 5
}
