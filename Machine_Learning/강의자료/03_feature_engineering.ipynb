{
 "cells": [
  {
   "cell_type": "markdown",
   "id": "fd3c6a68",
   "metadata": {},
   "source": [
    "# 특성공학(Feature Engineering)"
   ]
  },
  {
   "cell_type": "markdown",
   "id": "645412f8",
   "metadata": {},
   "source": [
    "## 다중회귀분석\n",
    "- 다항회귀는 변수에 대해 다항식을 만들어 분석 (y = ax^2 + bx + c)\n",
    "- 다중회귀는 변수 여러 개의 관계를 사용해 분석하는 것 (y = ax1 + bx2 + cx1^2 + dx2^2 + ex1x2)"
   ]
  },
  {
   "cell_type": "code",
   "execution_count": 7,
   "id": "60e49b26",
   "metadata": {},
   "outputs": [],
   "source": [
    "import numpy as np\n",
    "import pandas as pd\n",
    "import matplotlib.pyplot as plt\n",
    "import warnings\n",
    "from sklearn.model_selection import train_test_split\n",
    "\n",
    "warnings.filterwarnings('ignore')\n",
    "\n",
    "# X\n",
    "df = pd.read_csv('./perch.csv')\n",
    "perch_data = df.to_numpy()\n",
    "\n",
    "# y\n",
    "perch_weight = np.array([5.9, 32.0, 40.0, 51.5, 70.0, 100.0, 78.0, 80.0, 85.0, 85.0, 110.0,\n",
    "       115.0, 125.0, 130.0, 120.0, 120.0, 130.0, 135.0, 110.0, 130.0,\n",
    "       150.0, 145.0, 150.0, 170.0, 225.0, 145.0, 188.0, 180.0, 197.0,\n",
    "       218.0, 300.0, 260.0, 265.0, 250.0, 250.0, 300.0, 320.0, 514.0,\n",
    "       556.0, 840.0, 685.0, 700.0, 700.0, 690.0, 900.0, 650.0, 820.0,\n",
    "       850.0, 900.0, 1015.0, 820.0, 1100.0, 1000.0, 1100.0, 1000.0,\n",
    "       1000.0])\n",
    "\n",
    "# TTsplit\n",
    "X_train, X_test, y_train, y_test = train_test_split(perch_data, perch_weight, random_state=42)"
   ]
  },
  {
   "cell_type": "code",
   "execution_count": 29,
   "id": "717ca87c",
   "metadata": {},
   "outputs": [
    {
     "name": "stdout",
     "output_type": "stream",
     "text": [
      "훈련: 0.9559326821885706\n",
      "테스트: 0.8796419177546366\n"
     ]
    }
   ],
   "source": [
    "from sklearn.linear_model import LinearRegression\n",
    "\n",
    "lr = LinearRegression()\n",
    "lr.fit(X_train, y_train)\n",
    "print('훈련:',lr.score(X_train, y_train))\n",
    "print('테스트:',lr.score(X_test, y_test))"
   ]
  },
  {
   "cell_type": "code",
   "execution_count": 18,
   "id": "76c03602",
   "metadata": {},
   "outputs": [
    {
     "data": {
      "text/plain": [
       "array([[ 2.,  3.,  5.,  4.,  6., 10.,  9., 15., 25.]])"
      ]
     },
     "execution_count": 18,
     "metadata": {},
     "output_type": "execute_result"
    }
   ],
   "source": [
    "from sklearn.preprocessing import PolynomialFeatures\n",
    "\n",
    "# polynomialfeatures - 원본, 제곱, 서로 곱한 값을 알아서 계산해주는 모듈\n",
    "poly = PolynomialFeatures(include_bias=False)\n",
    "# sklearn에서 fit 해야만 transform이 되게 설정해서....\n",
    "poly.fit([[2, 3, 5]])\n",
    "poly.transform([[2, 3, 5]])"
   ]
  },
  {
   "cell_type": "code",
   "execution_count": 28,
   "id": "0a51b7a8",
   "metadata": {},
   "outputs": [
    {
     "name": "stdout",
     "output_type": "stream",
     "text": [
      "훈련: 0.9903183436982124\n",
      "테스트: 0.9714559911594145\n"
     ]
    }
   ],
   "source": [
    "poly = PolynomialFeatures(include_bias=False)\n",
    "X_train_poly = poly.fit_transform(X_train)\n",
    "X_test_poly = poly.fit_transform(X_test)\n",
    "\n",
    "lr_p = LinearRegression()\n",
    "lr_p.fit(X_train_poly, y_train)\n",
    "print('훈련:',lr_p.score(X_train_poly, y_train))\n",
    "print('테스트:',lr_p.score(X_test_poly, y_test))"
   ]
  },
  {
   "cell_type": "code",
   "execution_count": null,
   "id": "b838d54b",
   "metadata": {},
   "outputs": [
    {
     "name": "stdout",
     "output_type": "stream",
     "text": [
      "훈련: 0.9999999999996176\n",
      "테스트: -144.40585108215134\n"
     ]
    }
   ],
   "source": [
    "# 과대적합, overfitting\n",
    "poly_over = PolynomialFeatures(degree=5, include_bias=False)\n",
    "X_train_poly_over = poly_over.fit_transform(X_train)\n",
    "X_test_poly_over = poly_over.fit_transform(X_test)\n",
    "\n",
    "lr_p5 = LinearRegression()\n",
    "lr_p5.fit(X_train_poly_over, y_train)\n",
    "print('훈련:',lr_p5.score(X_train_poly_over, y_train))  # 거의 1에 가깝다, 거의 완벽하게 맞춤 -> 초과대적합\n",
    "print('테스트:',lr_p5.score(X_test_poly_over, y_test))  # -144 -> 틀린 정도가 좀 심함"
   ]
  }
 ],
 "metadata": {
  "kernelspec": {
   "display_name": "Python 3",
   "language": "python",
   "name": "python3"
  },
  "language_info": {
   "codemirror_mode": {
    "name": "ipython",
    "version": 3
   },
   "file_extension": ".py",
   "mimetype": "text/x-python",
   "name": "python",
   "nbconvert_exporter": "python",
   "pygments_lexer": "ipython3",
   "version": "3.13.2"
  }
 },
 "nbformat": 4,
 "nbformat_minor": 5
}
