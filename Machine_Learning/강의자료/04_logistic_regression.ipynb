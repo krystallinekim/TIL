{
 "cells": [
  {
   "cell_type": "markdown",
   "id": "0b1711b2",
   "metadata": {},
   "source": [
    "# 로지스틱 회귀"
   ]
  },
  {
   "cell_type": "code",
   "execution_count": 1,
   "id": "e4e84bb7",
   "metadata": {},
   "outputs": [],
   "source": [
    "import numpy as np\n",
    "import pandas as pd\n",
    "import matplotlib.pyplot as plt\n",
    "import warnings\n",
    "from sklearn.model_selection import train_test_split\n",
    "from sklearn.preprocessing import StandardScaler\n",
    "\n",
    "warnings.filterwarnings('ignore')\n",
    "\n",
    "# 머신러닝 기본 3단계\n",
    "\n",
    "# data import\n",
    "df_fish = pd.read_csv('./fish_data.csv')\n",
    "\n",
    "# ttsplit\n",
    "X_train, X_test, y_train, y_test = train_test_split(df_fish.drop('Species', axis=1).to_numpy(), df_fish['Species'].to_numpy(), random_state=42)\n",
    "\n",
    "# scaling\n",
    "ss = StandardScaler()\n",
    "ss.fit(X_train)\n",
    "X_train = ss.transform(X_train)\n",
    "X_test = ss.transform(X_test)"
   ]
  },
  {
   "cell_type": "code",
   "execution_count": 2,
   "id": "d8dbae2c",
   "metadata": {},
   "outputs": [
    {
     "name": "stdout",
     "output_type": "stream",
     "text": [
      "['Bream' 'Parkki' 'Perch' 'Pike' 'Roach' 'Smelt' 'Whitefish']\n",
      "['Perch' 'Smelt' 'Pike' 'Perch' 'Perch']\n",
      "[[0.    0.    1.    0.    0.    0.    0.   ]\n",
      " [0.    0.    0.    0.    0.    1.    0.   ]\n",
      " [0.    0.    0.    1.    0.    0.    0.   ]\n",
      " [0.    0.    0.667 0.    0.333 0.    0.   ]\n",
      " [0.    0.    0.667 0.    0.333 0.    0.   ]]\n"
     ]
    }
   ],
   "source": [
    "# KNN Classifier\n",
    "from sklearn.neighbors import KNeighborsClassifier\n",
    "\n",
    "kn = KNeighborsClassifier(n_neighbors=3)  # 주변 3개만 확인\n",
    "kn.fit(X_train, y_train)\n",
    "# print(kn.score(X_train, y_train), kn.score(X_test, y_test))\n",
    "print(kn.classes_)  # 클래스 목록\n",
    "print(kn.predict(X_test[:5]))  # 5개만 빼서 데이터 예측\n",
    "print(kn.predict_proba(X_test[:5]).round(3))  # 테스트 데이터가 특정 생선일 확률 - 클래스 목록 순서대로 나옴"
   ]
  },
  {
   "cell_type": "code",
   "execution_count": 7,
   "id": "ea6c00ac",
   "metadata": {},
   "outputs": [
    {
     "data": {
      "image/png": "[encoded data removed]",
      "text/plain": [
       "<Figure size 640x480 with 1 Axes>"
      ]
     },
     "metadata": {},
     "output_type": "display_data"
    }
   ],
   "source": [
    "# 로지스틱 회귀\n",
    "\n",
    "# 시그모이드 함수 이용함\n",
    "def sigmoid(x):\n",
    "    return 1 / (1 + np.exp(-x))\n",
    "\n",
    "x = np.arange(-10, 10, 0.1)\n",
    "plt.plot(x, sigmoid(x))\n",
    "plt.show()\n",
    "# 아무리 x가 커져도, y값은 항상 0에서 1 사이에 존재하게 됨."
   ]
  },
  {
   "cell_type": "markdown",
   "id": "1bcdfd31",
   "metadata": {},
   "source": [
    "## 이진분류"
   ]
  },
  {
   "cell_type": "code",
   "execution_count": 4,
   "id": "f8b9c7c8",
   "metadata": {},
   "outputs": [],
   "source": [
    "# Bream, Smelt 만 남김\n",
    "X_train_bs, X_test_bs, y_train_bs, y_test_bs = train_test_split(df_fish.drop('Species', axis=1).to_numpy(), df_fish['Species'].to_numpy(), random_state=42)\n",
    "\n",
    "ss = StandardScaler()\n",
    "ss.fit(X_train_bs)\n",
    "X_train_bs = ss.transform(X_train_bs)\n",
    "X_test_bs = ss.transform(X_test_bs)\n",
    "\n",
    "index = (y_train_bs == 'Bream') | (y_train_bs == 'Smelt')\n",
    "\n",
    "X_train_bs = X_train_bs[index]\n",
    "y_train_bs = y_train_bs[index]"
   ]
  },
  {
   "cell_type": "code",
   "execution_count": 43,
   "id": "3fc60a07",
   "metadata": {},
   "outputs": [
    {
     "name": "stdout",
     "output_type": "stream",
     "text": [
      "classes: ['Bream' 'Smelt']\n",
      "coef: [-0.40451732 -0.57582787 -0.66248158 -1.01329614 -0.73123131] intercept: [-2.16172774]\n",
      "\n",
      "========= 계산한 Z값 =========\n",
      "[-6.02991358  3.57043428 -5.26630496 -4.24382314 -6.06135688]\n",
      "\n",
      "========= Z값 -> 시그모이드 함수 결과 =========\n",
      "[0.00239993 0.97262675 0.00513614 0.01414953 0.00232581]\n",
      "\n",
      "========= 로지스틱 회귀로 예측한 확률 =========\n",
      "[[0.99760007 0.00239993]\n",
      " [0.02737325 0.97262675]\n",
      " [0.99486386 0.00513614]\n",
      " [0.98585047 0.01414953]\n",
      " [0.99767419 0.00232581]]\n",
      "=> ['Bream' 'Smelt' 'Bream' 'Bream' 'Bream']\n"
     ]
    }
   ],
   "source": [
    "# 로지스틱 회귀 학습\n",
    "from sklearn.linear_model import LogisticRegression\n",
    "\n",
    "lr = LogisticRegression()\n",
    "lr.fit(X_train_bs, y_train_bs)\n",
    "print('classes:', lr.classes_)\n",
    "\n",
    "# 계수, 절편\n",
    "print('coef:', lr.coef_[0], 'intercept:', lr.intercept_)\n",
    "# Z값 = 각 변수에 계수를 곱하고 절편을 더한 결과\n",
    "\n",
    "# 계산한 Z값 - smelt에 대해서 계산 - smelt인 이유는 그냥 알파벳순으로 뒤쪽이라...\n",
    "print('\\n========= 계산한 Z값 =========')\n",
    "decisions = lr.decision_function(X_train_bs[:5])\n",
    "print(decisions)\n",
    "\n",
    "# Z값에 시그모이드를 돌린 결과\n",
    "print('\\n========= Z값 -> 시그모이드 함수 결과 =========')\n",
    "\n",
    "def sigmoid(x):\n",
    "    return 1 / (1 + np.exp(-x))\n",
    "\n",
    "print(sigmoid(decisions))\n",
    "\n",
    "# 로지스틱 회귀에서 예측한 확률\n",
    "print('\\n========= 로지스틱 회귀로 예측한 확률 =========')\n",
    "print(lr.predict_proba(X_train_bs[:5]))\n",
    "print('=>', lr.predict(X_train_bs[:5]))\n",
    "\n",
    "# 예측 확률(오른쪽, smelt)과 시그모이드 결과가 완벽하게 똑같다(왼쪽은 1에서 뺀 값)"
   ]
  },
  {
   "cell_type": "markdown",
   "id": "afe9b7ea",
   "metadata": {},
   "source": [
    "## 다중분류\n",
    "sigmoid가 아니라 softmax 함수를 쓰긴 하지만, 하는 일은 똑같음\n",
    "\n",
    "같은 logistic regression에서, 분류 대상이 이진인지 다중인지에 따라서 내부 동작이 달라진다"
   ]
  },
  {
   "cell_type": "code",
   "execution_count": 65,
   "id": "0365291d",
   "metadata": {},
   "outputs": [],
   "source": [
    "# softmax - Z값에 대해 계산하면, 총합이 1이 되게 만들어야 함\n",
    "# 일반적으로 총합이 1이 되게 하려면, 값들을 다 더해서 값/총합을 하면 됨\n",
    "\n",
    "def softmax(x):\n",
    "    e_x = np.exp(x - np.max(x))\n",
    "    return e_x / e_x.sum()\n",
    "\n",
    "# 근데 그냥 더하는 게 아니라 e^x를 이용함"
   ]
  },
  {
   "cell_type": "code",
   "execution_count": 100,
   "id": "c4f04a6e",
   "metadata": {},
   "outputs": [
    {
     "name": "stdout",
     "output_type": "stream",
     "text": [
      "train score: 0.9327731092436975 \n",
      "test score : 0.925\n",
      "classes: ['Bream' 'Parkki' 'Perch' 'Pike' 'Roach' 'Smelt' 'Whitefish']\n",
      "\n",
      "=== 계수 및 절편 ===\n",
      "coef, intercept:\n",
      "변수1: [-1.506 -1.037  2.609  7.694 -1.186] -0.103\n",
      "변수2: [ 0.192 -2.    -3.796  6.503 -2.   ] -0.273\n",
      "변수3: [ 3.558  6.37  -8.522 -5.754  3.792] 3.244\n",
      "변수4: [-0.115  3.611  3.945 -3.622 -1.76 ] -0.176\n",
      "변수5: [-1.408 -6.092  5.286 -0.867  1.845] 2.65\n",
      "변수6: [-1.334  1.482  1.382 -5.66  -4.392] -6.72\n",
      "변수7: [ 0.613 -2.332 -0.904  1.706  3.701] 1.378\n"
     ]
    }
   ],
   "source": [
    "from sklearn.linear_model import LogisticRegression\n",
    "\n",
    "# C: 규제, max_iter: 반복횟수제한 -> 노가다성이 있다는 것\n",
    "lr = LogisticRegression(C=20, max_iter=1000)\n",
    "lr.fit(X_train, y_train)\n",
    "print('train score:', lr.score(X_train, y_train),'\\ntest score :', lr.score(X_test, y_test))\n",
    "print('classes:', lr.classes_)\n",
    "\n",
    "print('\\n=== 계수 및 절편 ===')\n",
    "print('coef, intercept:')\n",
    "for i in range(len(lr.intercept_)):\n",
    "    print(f'변수{i+1}:', lr.coef_.round(3)[i], lr.intercept_.round(3)[i])  # 각 변수에 대해, 분류별로 점수가 얼마나 나올지 만들어둔것"
   ]
  },
  {
   "cell_type": "code",
   "execution_count": 94,
   "id": "23b4d139",
   "metadata": {},
   "outputs": [
    {
     "name": "stdout",
     "output_type": "stream",
     "text": [
      "========= 계산한 Z값 =========\n",
      "[[ 13.056   5.65   -3.369  -3.353   2.166 -20.802   6.652]\n",
      " [ -2.307 -12.426   5.518  12.328   1.397  -1.361  -3.149]\n",
      " [-11.891   2.321   5.388  -3.188   3.199   8.304  -4.132]\n",
      " [ -6.05   -1.458   5.979  -1.471   4.119  -1.609   0.489]\n",
      " [  0.116   4.598  -0.178  -3.968   3.171  -4.277   0.539]]\n",
      "\n",
      "========= Z값 -> softmax 함수 결과 =========\n",
      "[0.998 0.001 0.    0.    0.    0.    0.002]\n",
      "[0.    0.    0.001 0.999 0.    0.    0.   ]\n",
      "[0.    0.002 0.051 0.    0.006 0.941 0.   ]\n",
      "[0.    0.001 0.861 0.001 0.134 0.    0.004]\n",
      "[0.009 0.783 0.007 0.    0.188 0.    0.014]\n",
      "\n",
      "========= 확률 계산(softmax 결과와 같음) =========\n",
      "[[0.998 0.001 0.    0.    0.    0.    0.002]\n",
      " [0.    0.    0.001 0.999 0.    0.    0.   ]\n",
      " [0.    0.002 0.051 0.    0.006 0.941 0.   ]\n",
      " [0.    0.001 0.861 0.001 0.134 0.    0.004]\n",
      " [0.009 0.783 0.007 0.    0.188 0.    0.014]]\n",
      "=> ['Bream' 'Pike' 'Smelt' 'Perch' 'Parkki']\n"
     ]
    }
   ],
   "source": [
    "print('========= 계산한 Z값 =========')\n",
    "decisions = lr.decision_function(X_train[:5])\n",
    "print(decisions.round(3))\n",
    "\n",
    "print('\\n========= Z값 -> softmax 함수 결과 =========')\n",
    "\n",
    "def softmax(x):\n",
    "    e_x = np.exp(x - np.max(x))\n",
    "    return e_x / e_x.sum()\n",
    "\n",
    "for decision in decisions:\n",
    "    print(softmax(decision).round(3))\n",
    "\n",
    "# 확률 계산\n",
    "print('\\n========= 확률 계산(softmax 결과와 같음) =========')\n",
    "print(lr.predict_proba(X_train[:5]).round(3))\n",
    "print('=>', lr.predict(X_train[:5]))"
   ]
  }
 ],
 "metadata": {
  "kernelspec": {
   "display_name": "Python 3",
   "language": "python",
   "name": "python3"
  },
  "language_info": {
   "codemirror_mode": {
    "name": "ipython",
    "version": 3
   },
   "file_extension": ".py",
   "mimetype": "text/x-python",
   "name": "python",
   "nbconvert_exporter": "python",
   "pygments_lexer": "ipython3",
   "version": "3.13.2"
  }
 },
 "nbformat": 4,
 "nbformat_minor": 5
}
