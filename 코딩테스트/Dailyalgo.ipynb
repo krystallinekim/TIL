{
 "cells": [
  {
   "cell_type": "markdown",
   "id": "e4e0430e",
   "metadata": {},
   "source": [
    "# [**Dailyalgo**](https://dailyalgo.kr/ko?page=1)"
   ]
  },
  {
   "cell_type": "markdown",
   "id": "ff3c0ddf",
   "metadata": {},
   "source": [
    "## 프로그래밍 기초"
   ]
  },
  {
   "cell_type": "markdown",
   "id": "053d3e96",
   "metadata": {},
   "source": [
    "### 두 수의 덧셈\n",
    "\n",
    "두 개의 자연수 number1과 number2가 주어질 때, 이 두 수의 합을 반환하는 solution 함수를 작성하시오.\n",
    "\n",
    "number1과 number2는 1 이상 100 이하의 자연수입니다.\n"
   ]
  },
  {
   "cell_type": "code",
   "execution_count": 5,
   "id": "66bee623",
   "metadata": {},
   "outputs": [],
   "source": [
    "def solution(number1, number2):\n",
    "    answer = number1 + number2\n",
    "    return answer\n"
   ]
  },
  {
   "cell_type": "markdown",
   "id": "70ef4f86",
   "metadata": {},
   "source": [
    "### 두 수의 뺄셈\n",
    "\n",
    "두 개의 자연수 number1과 number2가 주어질 때, number1에서 number2를 뺀 결과를 반환하는 solution 함수를 작성하시오.\n",
    "\n",
    "number1과 number2는 1 이상 100 이하의 자연수입니다.\n"
   ]
  },
  {
   "cell_type": "code",
   "execution_count": 6,
   "id": "a695df41",
   "metadata": {},
   "outputs": [],
   "source": [
    "def solution(number1, number2):\n",
    "    answer = number1-number2\n",
    "    return answer\n"
   ]
  },
  {
   "cell_type": "markdown",
   "id": "3d97a618",
   "metadata": {},
   "source": [
    "### 두 수의 곱셈\n",
    "\n",
    "두 개의 자연수 number1과 number2가 주어질 때, 이 두 수의 곱을 반환하는 solution 함수를 작성하시오.\n",
    "\n",
    "number1과 number2는 1 이상 100 이하의 자연수입니다.\n"
   ]
  },
  {
   "cell_type": "code",
   "execution_count": 7,
   "id": "90f421d4",
   "metadata": {},
   "outputs": [],
   "source": [
    "def solution(number1, number2):\n",
    "    answer = number1*number2\n",
    "    return answer\n"
   ]
  },
  {
   "cell_type": "markdown",
   "id": "3ca3f5a4",
   "metadata": {},
   "source": [
    "### 두 수의 나눗셈\n",
    "\n",
    "두 개의 자연수 number1과 number2가 주어질 때, number1을 number2로 나눈 결과에 100을 곱한 후 정수 부분만 반환하는 solution 함수를 작성하시오.\n",
    "\n",
    "number1과 number2는 1 이상 100 이하의 자연수입니다.\n"
   ]
  },
  {
   "cell_type": "code",
   "execution_count": 8,
   "id": "284a999f",
   "metadata": {},
   "outputs": [],
   "source": [
    "def solution(number1, number2):\n",
    "    answer = (number1*100//number2)\n",
    "    return answer\n"
   ]
  },
  {
   "cell_type": "markdown",
   "id": "2990d2a2",
   "metadata": {},
   "source": [
    "### 몫 구하기\n",
    "\n",
    "두 개의 자연수 number1과 number2가 주어질 때, number1을 number2로 나눈 몫을 반환하는 solution 함수를 작성하시오.\n",
    "\n",
    "number1과 number2는 1 이상 100 이하의 자연수입니다.\n"
   ]
  },
  {
   "cell_type": "code",
   "execution_count": 9,
   "id": "6d995441",
   "metadata": {},
   "outputs": [],
   "source": [
    "def solution(number1, number2):\n",
    "    answer = number1//number2\n",
    "    return answer\n"
   ]
  },
  {
   "cell_type": "markdown",
   "id": "b181730c",
   "metadata": {},
   "source": [
    "### 나머지 구하기\n",
    "\n",
    "두 개의 자연수 number1과 number2가 주어질 때, number1을 number2로 나눈 나머지를 반환하는 solution 함수를 작성하시오.\n",
    "\n",
    "number1과 number2는 1 이상 100 이하의 자연수입니다.\n"
   ]
  },
  {
   "cell_type": "code",
   "execution_count": null,
   "id": "99f1c30f",
   "metadata": {},
   "outputs": [],
   "source": [
    "def solution(number1, number2):\n",
    "    answer = number1%number2\n",
    "    return answer\n"
   ]
  },
  {
   "cell_type": "markdown",
   "id": "70fbee9f",
   "metadata": {},
   "source": [
    "### 거듭제곱\n",
    "\n",
    "자연수 number와 exponent가 주어질 때, number의 exponent제곱을 반환하는 solution 함수를 작성하시오.\n",
    "\n",
    "number와 exponent는 1 이상 9 이하의 자연수입니다.\n"
   ]
  },
  {
   "cell_type": "code",
   "execution_count": null,
   "id": "ca8cfe2f",
   "metadata": {},
   "outputs": [],
   "source": [
    "def solution(number, exponent):\n",
    "    answer = number**exponent\n",
    "    return answer\n"
   ]
  },
  {
   "cell_type": "markdown",
   "id": "e331cf28",
   "metadata": {},
   "source": []
  },
  {
   "cell_type": "code",
   "execution_count": null,
   "id": "d8a06209",
   "metadata": {},
   "outputs": [],
   "source": []
  },
  {
   "cell_type": "markdown",
   "id": "40f6aea3",
   "metadata": {},
   "source": []
  }
 ],
 "metadata": {
  "kernelspec": {
   "display_name": "Python 3",
   "language": "python",
   "name": "python3"
  },
  "language_info": {
   "codemirror_mode": {
    "name": "ipython",
    "version": 3
   },
   "file_extension": ".py",
   "mimetype": "text/x-python",
   "name": "python",
   "nbconvert_exporter": "python",
   "pygments_lexer": "ipython3",
   "version": "3.13.2"
  }
 },
 "nbformat": 4,
 "nbformat_minor": 5
}
